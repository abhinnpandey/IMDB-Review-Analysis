m{
 "cells": [
  {
   "cell_type": "markdown",
   "metadata": {},
   "source": [
    "# IMDB Sentiment analysis"
   ]
  },
  {
   "cell_type": "markdown",
   "metadata": {},
   "source": [
    "# Due to laptops RAM running very slow so I have choosen random 3000 rows to demo concept"
   ]
  },
  {
   "cell_type": "markdown",
   "metadata": {},
   "source": [
    "### Importing required headers"
   ]
  },
  {
   "cell_type": "code",
   "execution_count": 1,
   "metadata": {},
   "outputs": [],
   "source": [
    "import pandas as pd\n",
    "import os\n",
    "from nltk.corpus import stopwords\n",
    "from nltk.stem.porter import PorterStemmer\n",
    "from nltk.tokenize import word_tokenize\n",
    "import string\n",
    "import xml\n",
    "import re\n",
    "import numpy as np\n",
    "import matplotlib.pyplot as plt\n",
    "from sklearn.feature_extraction.text import TfidfVectorizer\n",
    "from sklearn.cluster import KMeans\n",
    "from nltk.stem import WordNetLemmatizer\n",
    "import copy\n",
    "from random import sample\n",
    "\n",
    "\n",
    "%matplotlib inline\n",
    "\n",
    "vectorizer = TfidfVectorizer(min_df=4)#, max_features = 1000)\n",
    "TAG_RE = re.compile(\"(<[^>]+>)|(\\.)|(\\;)|(\\:)|(\\!)|(\\?)|(\\,)|(\\\")|(\\()|(\\))|(\\[)|(\\])|(\\d+)|(<br\\s*/><br\\s*/>)|(\\-)|(\\/)\")"
   ]
  },
  {
   "cell_type": "markdown",
   "metadata": {},
   "source": [
    "Below lines are used to merge all files and create a single dataset\n",
    "----------------\n",
    "### Below line of code was used to create dataset from flat files downloaded \n",
    "###  Below lines are commented since dataset once created need not be created again"
   ]
  },
  {
   "cell_type": "code",
   "execution_count": 2,
   "metadata": {},
   "outputs": [
    {
     "data": {
      "text/plain": [
       "'\\ndata=[]\\nmain_path= os.path.join(\\'C:/digital vidya/Class room notes/datasets\\', \\'aclImdb\\')\\nfor head in os.listdir(main_path):\\n    print(head)\\n    if os.path.isdir(os.path.join(main_path,head)):\\n        label_path= os.path.join(main_path,head)\\n        print(label_path)\\n        for label in os.listdir(label_path):\\n            if os.path.isdir(os.path.join(label_path, label)):\\n                path = os.path.join(label_path,label)\\n                #print(path)\\n                files = [f for f in os.listdir(path) if f.endswith(\\'.txt\\')]\\n                for fle in files:\\n                    with open(os.path.join(path,fle),encoding = \\'latin-1\\') as f:\\n                        text = f.read()\\n                        #print(head, \" \", label,\" \", fle)\\n                        data.append([head,text,label,fle])\\n\\ndf_master = pd.DataFrame(data,columns=[\\'Type\\',\\'Review\\',\\'Label\\',\\'File\\'])\\n'"
      ]
     },
     "execution_count": 2,
     "metadata": {},
     "output_type": "execute_result"
    }
   ],
   "source": [
    "'''\n",
    "data=[]\n",
    "main_path= os.path.join('C:/digital vidya/Class room notes/datasets', 'aclImdb')\n",
    "for head in os.listdir(main_path):\n",
    "    print(head)\n",
    "    if os.path.isdir(os.path.join(main_path,head)):\n",
    "        label_path= os.path.join(main_path,head)\n",
    "        print(label_path)\n",
    "        for label in os.listdir(label_path):\n",
    "            if os.path.isdir(os.path.join(label_path, label)):\n",
    "                path = os.path.join(label_path,label)\n",
    "                #print(path)\n",
    "                files = [f for f in os.listdir(path) if f.endswith('.txt')]\n",
    "                for fle in files:\n",
    "                    with open(os.path.join(path,fle),encoding = 'latin-1') as f:\n",
    "                        text = f.read()\n",
    "                        #print(head, \" \", label,\" \", fle)\n",
    "                        data.append([head,text,label,fle])\n",
    "\n",
    "df_master = pd.DataFrame(data,columns=['Type','Review','Label','File'])\n",
    "'''"
   ]
  },
  {
   "cell_type": "code",
   "execution_count": 3,
   "metadata": {},
   "outputs": [],
   "source": [
    "#df_master.shape"
   ]
  },
  {
   "cell_type": "code",
   "execution_count": 4,
   "metadata": {},
   "outputs": [],
   "source": [
    "#df_master.to_csv('C:/digital vidya/Class room notes/datasets/imdb_review.csv')"
   ]
  },
  {
   "cell_type": "code",
   "execution_count": 5,
   "metadata": {},
   "outputs": [
    {
     "data": {
      "text/html": [
       "<div>\n",
       "<style scoped>\n",
       "    .dataframe tbody tr th:only-of-type {\n",
       "        vertical-align: middle;\n",
       "    }\n",
       "\n",
       "    .dataframe tbody tr th {\n",
       "        vertical-align: top;\n",
       "    }\n",
       "\n",
       "    .dataframe thead th {\n",
       "        text-align: right;\n",
       "    }\n",
       "</style>\n",
       "<table border=\"1\" class=\"dataframe\">\n",
       "  <thead>\n",
       "    <tr style=\"text-align: right;\">\n",
       "      <th></th>\n",
       "      <th>Type</th>\n",
       "      <th>Review</th>\n",
       "      <th>Label</th>\n",
       "      <th>File</th>\n",
       "    </tr>\n",
       "  </thead>\n",
       "  <tbody>\n",
       "    <tr>\n",
       "      <th>0</th>\n",
       "      <td>test</td>\n",
       "      <td>Once again Mr. Costner has dragged out a movie...</td>\n",
       "      <td>neg</td>\n",
       "      <td>0_2.txt</td>\n",
       "    </tr>\n",
       "    <tr>\n",
       "      <th>1</th>\n",
       "      <td>test</td>\n",
       "      <td>This is an example of why the majority of acti...</td>\n",
       "      <td>neg</td>\n",
       "      <td>10000_4.txt</td>\n",
       "    </tr>\n",
       "    <tr>\n",
       "      <th>2</th>\n",
       "      <td>test</td>\n",
       "      <td>First of all I hate those moronic rappers, who...</td>\n",
       "      <td>neg</td>\n",
       "      <td>10001_1.txt</td>\n",
       "    </tr>\n",
       "    <tr>\n",
       "      <th>3</th>\n",
       "      <td>test</td>\n",
       "      <td>Not even the Beatles could write songs everyon...</td>\n",
       "      <td>neg</td>\n",
       "      <td>10002_3.txt</td>\n",
       "    </tr>\n",
       "    <tr>\n",
       "      <th>4</th>\n",
       "      <td>test</td>\n",
       "      <td>Brass pictures (movies is not a fitting word f...</td>\n",
       "      <td>neg</td>\n",
       "      <td>10003_3.txt</td>\n",
       "    </tr>\n",
       "  </tbody>\n",
       "</table>\n",
       "</div>"
      ],
      "text/plain": [
       "   Type                                             Review Label         File\n",
       "0  test  Once again Mr. Costner has dragged out a movie...   neg      0_2.txt\n",
       "1  test  This is an example of why the majority of acti...   neg  10000_4.txt\n",
       "2  test  First of all I hate those moronic rappers, who...   neg  10001_1.txt\n",
       "3  test  Not even the Beatles could write songs everyon...   neg  10002_3.txt\n",
       "4  test  Brass pictures (movies is not a fitting word f...   neg  10003_3.txt"
      ]
     },
     "execution_count": 5,
     "metadata": {},
     "output_type": "execute_result"
    }
   ],
   "source": [
    "imdb_review = pd.read_csv('imdb_review.csv',index_col=0)\n",
    "imdb_review.head()"
   ]
  },
  {
   "cell_type": "code",
   "execution_count": 6,
   "metadata": {},
   "outputs": [
    {
     "data": {
      "text/plain": [
       "(25000, 4)"
      ]
     },
     "execution_count": 6,
     "metadata": {},
     "output_type": "execute_result"
    }
   ],
   "source": [
    "imdb_test = imdb_review[imdb_review['Type']==\"test\"]\n",
    "imdb_test.shape"
   ]
  },
  {
   "cell_type": "code",
   "execution_count": 7,
   "metadata": {},
   "outputs": [
    {
     "data": {
      "text/plain": [
       "(75000, 4)"
      ]
     },
     "execution_count": 7,
     "metadata": {},
     "output_type": "execute_result"
    }
   ],
   "source": [
    "imdb_train= imdb_review[imdb_review['Type']==\"train\"]\n",
    "imdb_train.shape  "
   ]
  },
  {
   "cell_type": "code",
   "execution_count": 8,
   "metadata": {},
   "outputs": [
    {
     "name": "stdout",
     "output_type": "stream",
     "text": [
      "['neg' 'pos']\n",
      "['neg' 'pos' 'unsup']\n"
     ]
    }
   ],
   "source": [
    "print(imdb_test.Label.unique())\n",
    "print(imdb_train.Label.unique())"
   ]
  },
  {
   "cell_type": "markdown",
   "metadata": {},
   "source": [
    "## Seprating unsupervised data from train data "
   ]
  },
  {
   "cell_type": "code",
   "execution_count": 9,
   "metadata": {},
   "outputs": [
    {
     "name": "stdout",
     "output_type": "stream",
     "text": [
      "(50000, 4)\n"
     ]
    },
    {
     "data": {
      "text/html": [
       "<div>\n",
       "<style scoped>\n",
       "    .dataframe tbody tr th:only-of-type {\n",
       "        vertical-align: middle;\n",
       "    }\n",
       "\n",
       "    .dataframe tbody tr th {\n",
       "        vertical-align: top;\n",
       "    }\n",
       "\n",
       "    .dataframe thead th {\n",
       "        text-align: right;\n",
       "    }\n",
       "</style>\n",
       "<table border=\"1\" class=\"dataframe\">\n",
       "  <thead>\n",
       "    <tr style=\"text-align: right;\">\n",
       "      <th></th>\n",
       "      <th>Type</th>\n",
       "      <th>Review</th>\n",
       "      <th>Label</th>\n",
       "      <th>File</th>\n",
       "    </tr>\n",
       "  </thead>\n",
       "  <tbody>\n",
       "    <tr>\n",
       "      <th>50000</th>\n",
       "      <td>train</td>\n",
       "      <td>I admit, the great majority of films released ...</td>\n",
       "      <td>unsup</td>\n",
       "      <td>0_0.txt</td>\n",
       "    </tr>\n",
       "    <tr>\n",
       "      <th>50001</th>\n",
       "      <td>train</td>\n",
       "      <td>Take a low budget, inexperienced actors doubli...</td>\n",
       "      <td>unsup</td>\n",
       "      <td>10000_0.txt</td>\n",
       "    </tr>\n",
       "    <tr>\n",
       "      <th>50002</th>\n",
       "      <td>train</td>\n",
       "      <td>Everybody has seen 'Back To The Future,' right...</td>\n",
       "      <td>unsup</td>\n",
       "      <td>10001_0.txt</td>\n",
       "    </tr>\n",
       "    <tr>\n",
       "      <th>50003</th>\n",
       "      <td>train</td>\n",
       "      <td>Doris Day was an icon of beauty in singing and...</td>\n",
       "      <td>unsup</td>\n",
       "      <td>10002_0.txt</td>\n",
       "    </tr>\n",
       "    <tr>\n",
       "      <th>50004</th>\n",
       "      <td>train</td>\n",
       "      <td>After a series of silly, fun-loving movies, 19...</td>\n",
       "      <td>unsup</td>\n",
       "      <td>10003_0.txt</td>\n",
       "    </tr>\n",
       "  </tbody>\n",
       "</table>\n",
       "</div>"
      ],
      "text/plain": [
       "        Type                                             Review  Label  \\\n",
       "50000  train  I admit, the great majority of films released ...  unsup   \n",
       "50001  train  Take a low budget, inexperienced actors doubli...  unsup   \n",
       "50002  train  Everybody has seen 'Back To The Future,' right...  unsup   \n",
       "50003  train  Doris Day was an icon of beauty in singing and...  unsup   \n",
       "50004  train  After a series of silly, fun-loving movies, 19...  unsup   \n",
       "\n",
       "              File  \n",
       "50000      0_0.txt  \n",
       "50001  10000_0.txt  \n",
       "50002  10001_0.txt  \n",
       "50003  10002_0.txt  \n",
       "50004  10003_0.txt  "
      ]
     },
     "execution_count": 9,
     "metadata": {},
     "output_type": "execute_result"
    }
   ],
   "source": [
    "imdb_train_unsup = imdb_train[imdb_train['Label']==\"unsup\"]\n",
    "print(imdb_train_unsup.shape)\n",
    "imdb_train_unsup.head()"
   ]
  },
  {
   "cell_type": "code",
   "execution_count": 10,
   "metadata": {},
   "outputs": [
    {
     "data": {
      "text/html": [
       "<div>\n",
       "<style scoped>\n",
       "    .dataframe tbody tr th:only-of-type {\n",
       "        vertical-align: middle;\n",
       "    }\n",
       "\n",
       "    .dataframe tbody tr th {\n",
       "        vertical-align: top;\n",
       "    }\n",
       "\n",
       "    .dataframe thead th {\n",
       "        text-align: right;\n",
       "    }\n",
       "</style>\n",
       "<table border=\"1\" class=\"dataframe\">\n",
       "  <thead>\n",
       "    <tr style=\"text-align: right;\">\n",
       "      <th></th>\n",
       "      <th>Type</th>\n",
       "      <th>Review</th>\n",
       "      <th>Label</th>\n",
       "      <th>File</th>\n",
       "    </tr>\n",
       "  </thead>\n",
       "  <tbody>\n",
       "    <tr>\n",
       "      <th>25000</th>\n",
       "      <td>train</td>\n",
       "      <td>Story of a man who has unnatural feelings for ...</td>\n",
       "      <td>neg</td>\n",
       "      <td>0_3.txt</td>\n",
       "    </tr>\n",
       "    <tr>\n",
       "      <th>25001</th>\n",
       "      <td>train</td>\n",
       "      <td>Airport '77 starts as a brand new luxury 747 p...</td>\n",
       "      <td>neg</td>\n",
       "      <td>10000_4.txt</td>\n",
       "    </tr>\n",
       "    <tr>\n",
       "      <th>25002</th>\n",
       "      <td>train</td>\n",
       "      <td>This film lacked something I couldn't put my f...</td>\n",
       "      <td>neg</td>\n",
       "      <td>10001_4.txt</td>\n",
       "    </tr>\n",
       "    <tr>\n",
       "      <th>25003</th>\n",
       "      <td>train</td>\n",
       "      <td>Sorry everyone,,, I know this is supposed to b...</td>\n",
       "      <td>neg</td>\n",
       "      <td>10002_1.txt</td>\n",
       "    </tr>\n",
       "    <tr>\n",
       "      <th>25004</th>\n",
       "      <td>train</td>\n",
       "      <td>When I was little my parents took me along to ...</td>\n",
       "      <td>neg</td>\n",
       "      <td>10003_1.txt</td>\n",
       "    </tr>\n",
       "  </tbody>\n",
       "</table>\n",
       "</div>"
      ],
      "text/plain": [
       "        Type                                             Review Label  \\\n",
       "25000  train  Story of a man who has unnatural feelings for ...   neg   \n",
       "25001  train  Airport '77 starts as a brand new luxury 747 p...   neg   \n",
       "25002  train  This film lacked something I couldn't put my f...   neg   \n",
       "25003  train  Sorry everyone,,, I know this is supposed to b...   neg   \n",
       "25004  train  When I was little my parents took me along to ...   neg   \n",
       "\n",
       "              File  \n",
       "25000      0_3.txt  \n",
       "25001  10000_4.txt  \n",
       "25002  10001_4.txt  \n",
       "25003  10002_1.txt  \n",
       "25004  10003_1.txt  "
      ]
     },
     "execution_count": 10,
     "metadata": {},
     "output_type": "execute_result"
    }
   ],
   "source": [
    "imdb_train= imdb_train[imdb_train.Label != \"unsup\"]\n",
    "imdb_train.head()"
   ]
  },
  {
   "cell_type": "code",
   "execution_count": 11,
   "metadata": {},
   "outputs": [
    {
     "name": "stdout",
     "output_type": "stream",
     "text": [
      "(25000, 4)\n"
     ]
    },
    {
     "data": {
      "text/plain": [
       "array(['neg', 'pos'], dtype=object)"
      ]
     },
     "execution_count": 11,
     "metadata": {},
     "output_type": "execute_result"
    }
   ],
   "source": [
    "print(imdb_train.shape)\n",
    "imdb_train.Label.unique()"
   ]
  },
  {
   "cell_type": "code",
   "execution_count": 12,
   "metadata": {},
   "outputs": [
    {
     "name": "stdout",
     "output_type": "stream",
     "text": [
      "(25000, 4)\n",
      "(50000, 4)\n",
      "(25000, 4)\n"
     ]
    }
   ],
   "source": [
    "print(imdb_test.shape)\n",
    "print(imdb_train_unsup.shape)\n",
    "print(imdb_train.shape)"
   ]
  },
  {
   "cell_type": "markdown",
   "metadata": {},
   "source": [
    "# Text analysis \n",
    "> we have divided dataset in 3 parts \n",
    "1. test dataset (neg and pos)\n",
    "2. train (neg and pos)\n",
    "3. train (unsupervised)\n",
    "\n",
    "# Phase 1\n",
    "\n",
    "### Now lets perform cleaning and\n",
    "1. Remove stop words from the data\n",
    "2. Removing punctuations, HTML tags (like br) etc.\n",
    "3. Apply Stemming and Lemmatization\n",
    "4. Apply feature selection to select most important words/features and drop others"
   ]
  },
  {
   "cell_type": "markdown",
   "metadata": {},
   "source": [
    "----------------------------------------------------------\n",
    "### Below function performs:\n",
    "1. Removal of stop words from the data\n",
    "2. Removal of punctuations, HTML tags (like br) etc.\n",
    "3. Applies Stemming and Lemmatization\n"
   ]
  },
  {
   "cell_type": "code",
   "execution_count": 13,
   "metadata": {},
   "outputs": [],
   "source": [
    "def text_process(text):\n",
    "    \n",
    "    ps = PorterStemmer()\n",
    "    lemmatizer = WordNetLemmatizer()\n",
    "    \n",
    "    text = TAG_RE.sub(' ', text)\n",
    "    word_tokens = word_tokenize(text)\n",
    "    stop_words = set(stopwords.words('english')) \n",
    "    x = []\n",
    "    for w in word_tokens:\n",
    "        w = w.lower()\n",
    "        if w not in stop_words: \n",
    "            #print(x)\n",
    "            temp_word = w\n",
    "            temp_word = lemmatizer.lemmatize(temp_word)\n",
    "            #print(\"lemmatized     \"+temp_word)\n",
    "            temp_word = ps.stem(temp_word)\n",
    "            #print (\"stem    \"+temp_word)\n",
    "            \n",
    "            x.append(temp_word)\n",
    "            \n",
    "        #else:\n",
    "            #print(w)\n",
    "    text  = \" \".join(x)\n",
    "    text = text.translate(str.maketrans('', '', string.punctuation))\n",
    "    #print(text)\n",
    "    return text"
   ]
  },
  {
   "cell_type": "markdown",
   "metadata": {},
   "source": [
    "\n",
    "## Extracting random samples from train dataset"
   ]
  },
  {
   "cell_type": "code",
   "execution_count": 14,
   "metadata": {},
   "outputs": [],
   "source": [
    "rindex =  np.array(sample(range(len(imdb_train)), 3000)) #sinc dataset is huge extracting just 3000 samples\n",
    "imdb_train_small= copy.deepcopy(imdb_train.iloc[rindex]) \n",
    "# taking full dataset instead of random 3000 rows\n",
    "#imdb_train_small= copy.deepcopy(imdb_train)\n",
    "imdb_train_small\n",
    "imdb_train_small['Review'] = imdb_train_small['Review'].apply(text_process)"
   ]
  },
  {
   "cell_type": "code",
   "execution_count": 15,
   "metadata": {},
   "outputs": [
    {
     "data": {
      "text/plain": [
       "array(['pos', 'neg'], dtype=object)"
      ]
     },
     "execution_count": 15,
     "metadata": {},
     "output_type": "execute_result"
    }
   ],
   "source": [
    "imdb_train_small.Label.unique()"
   ]
  },
  {
   "cell_type": "code",
   "execution_count": 16,
   "metadata": {},
   "outputs": [],
   "source": [
    "from sklearn.feature_extraction.text import CountVectorizer\n",
    "cv = CountVectorizer()\n"
   ]
  },
  {
   "cell_type": "code",
   "execution_count": 17,
   "metadata": {},
   "outputs": [],
   "source": [
    "imdb_train_bkp = pd.DataFrame(cv.fit_transform(imdb_train_small.Review).toarray(), columns=cv.get_feature_names())"
   ]
  },
  {
   "cell_type": "code",
   "execution_count": 18,
   "metadata": {},
   "outputs": [
    {
     "data": {
      "text/html": [
       "<div>\n",
       "<style scoped>\n",
       "    .dataframe tbody tr th:only-of-type {\n",
       "        vertical-align: middle;\n",
       "    }\n",
       "\n",
       "    .dataframe tbody tr th {\n",
       "        vertical-align: top;\n",
       "    }\n",
       "\n",
       "    .dataframe thead th {\n",
       "        text-align: right;\n",
       "    }\n",
       "</style>\n",
       "<table border=\"1\" class=\"dataframe\">\n",
       "  <thead>\n",
       "    <tr style=\"text-align: right;\">\n",
       "      <th></th>\n",
       "      <th>aa</th>\n",
       "      <th>aaa</th>\n",
       "      <th>aaaaah</th>\n",
       "      <th>aaah</th>\n",
       "      <th>aaargh</th>\n",
       "      <th>aadha</th>\n",
       "      <th>aag</th>\n",
       "      <th>aam</th>\n",
       "      <th>aardman</th>\n",
       "      <th>aaron</th>\n",
       "      <th>...</th>\n",
       "      <th>zsigmond</th>\n",
       "      <th>zucker</th>\n",
       "      <th>zungia</th>\n",
       "      <th>zunz</th>\n",
       "      <th>zwrite</th>\n",
       "      <th>zx</th>\n",
       "      <th>zy</th>\n",
       "      <th>zzzz</th>\n",
       "      <th>zã</th>\n",
       "      <th>â½</th>\n",
       "    </tr>\n",
       "  </thead>\n",
       "  <tbody>\n",
       "    <tr>\n",
       "      <th>0</th>\n",
       "      <td>0</td>\n",
       "      <td>0</td>\n",
       "      <td>0</td>\n",
       "      <td>0</td>\n",
       "      <td>0</td>\n",
       "      <td>0</td>\n",
       "      <td>0</td>\n",
       "      <td>0</td>\n",
       "      <td>0</td>\n",
       "      <td>0</td>\n",
       "      <td>...</td>\n",
       "      <td>0</td>\n",
       "      <td>0</td>\n",
       "      <td>0</td>\n",
       "      <td>0</td>\n",
       "      <td>0</td>\n",
       "      <td>0</td>\n",
       "      <td>0</td>\n",
       "      <td>0</td>\n",
       "      <td>0</td>\n",
       "      <td>0</td>\n",
       "    </tr>\n",
       "    <tr>\n",
       "      <th>1</th>\n",
       "      <td>0</td>\n",
       "      <td>0</td>\n",
       "      <td>0</td>\n",
       "      <td>0</td>\n",
       "      <td>0</td>\n",
       "      <td>0</td>\n",
       "      <td>0</td>\n",
       "      <td>0</td>\n",
       "      <td>0</td>\n",
       "      <td>0</td>\n",
       "      <td>...</td>\n",
       "      <td>0</td>\n",
       "      <td>0</td>\n",
       "      <td>0</td>\n",
       "      <td>0</td>\n",
       "      <td>0</td>\n",
       "      <td>0</td>\n",
       "      <td>0</td>\n",
       "      <td>0</td>\n",
       "      <td>0</td>\n",
       "      <td>0</td>\n",
       "    </tr>\n",
       "    <tr>\n",
       "      <th>2</th>\n",
       "      <td>0</td>\n",
       "      <td>0</td>\n",
       "      <td>0</td>\n",
       "      <td>0</td>\n",
       "      <td>0</td>\n",
       "      <td>0</td>\n",
       "      <td>0</td>\n",
       "      <td>0</td>\n",
       "      <td>0</td>\n",
       "      <td>0</td>\n",
       "      <td>...</td>\n",
       "      <td>0</td>\n",
       "      <td>0</td>\n",
       "      <td>0</td>\n",
       "      <td>0</td>\n",
       "      <td>0</td>\n",
       "      <td>0</td>\n",
       "      <td>0</td>\n",
       "      <td>0</td>\n",
       "      <td>0</td>\n",
       "      <td>0</td>\n",
       "    </tr>\n",
       "    <tr>\n",
       "      <th>3</th>\n",
       "      <td>0</td>\n",
       "      <td>0</td>\n",
       "      <td>0</td>\n",
       "      <td>0</td>\n",
       "      <td>0</td>\n",
       "      <td>0</td>\n",
       "      <td>0</td>\n",
       "      <td>0</td>\n",
       "      <td>0</td>\n",
       "      <td>0</td>\n",
       "      <td>...</td>\n",
       "      <td>0</td>\n",
       "      <td>0</td>\n",
       "      <td>0</td>\n",
       "      <td>0</td>\n",
       "      <td>0</td>\n",
       "      <td>0</td>\n",
       "      <td>0</td>\n",
       "      <td>0</td>\n",
       "      <td>0</td>\n",
       "      <td>0</td>\n",
       "    </tr>\n",
       "    <tr>\n",
       "      <th>4</th>\n",
       "      <td>0</td>\n",
       "      <td>0</td>\n",
       "      <td>0</td>\n",
       "      <td>0</td>\n",
       "      <td>0</td>\n",
       "      <td>0</td>\n",
       "      <td>0</td>\n",
       "      <td>0</td>\n",
       "      <td>0</td>\n",
       "      <td>0</td>\n",
       "      <td>...</td>\n",
       "      <td>0</td>\n",
       "      <td>0</td>\n",
       "      <td>0</td>\n",
       "      <td>0</td>\n",
       "      <td>0</td>\n",
       "      <td>0</td>\n",
       "      <td>0</td>\n",
       "      <td>0</td>\n",
       "      <td>0</td>\n",
       "      <td>0</td>\n",
       "    </tr>\n",
       "  </tbody>\n",
       "</table>\n",
       "<p>5 rows × 20755 columns</p>\n",
       "</div>"
      ],
      "text/plain": [
       "   aa  aaa  aaaaah  aaah  aaargh  aadha  aag  aam  aardman  aaron ...  \\\n",
       "0   0    0       0     0       0      0    0    0        0      0 ...   \n",
       "1   0    0       0     0       0      0    0    0        0      0 ...   \n",
       "2   0    0       0     0       0      0    0    0        0      0 ...   \n",
       "3   0    0       0     0       0      0    0    0        0      0 ...   \n",
       "4   0    0       0     0       0      0    0    0        0      0 ...   \n",
       "\n",
       "   zsigmond  zucker  zungia  zunz  zwrite  zx  zy  zzzz  zã  â½  \n",
       "0         0       0       0     0       0   0   0     0   0   0  \n",
       "1         0       0       0     0       0   0   0     0   0   0  \n",
       "2         0       0       0     0       0   0   0     0   0   0  \n",
       "3         0       0       0     0       0   0   0     0   0   0  \n",
       "4         0       0       0     0       0   0   0     0   0   0  \n",
       "\n",
       "[5 rows x 20755 columns]"
      ]
     },
     "execution_count": 18,
     "metadata": {},
     "output_type": "execute_result"
    }
   ],
   "source": [
    "imdb_train_bkp.head()"
   ]
  },
  {
   "cell_type": "markdown",
   "metadata": {},
   "source": [
    "# Dropping words with count less than 500 as they will not conribute much in analysis since they are less important features"
   ]
  },
  {
   "cell_type": "code",
   "execution_count": 19,
   "metadata": {},
   "outputs": [],
   "source": [
    "features_to_drop = []\n",
    "for i in imdb_train_bkp.columns:\n",
    "    if imdb_train_bkp[i].sum() < 500:\n",
    "        features_to_drop.append(i)\n",
    "imdb_train_bkp.drop(features_to_drop,axis = 1,inplace=True)  "
   ]
  },
  {
   "cell_type": "code",
   "execution_count": 20,
   "metadata": {},
   "outputs": [
    {
     "data": {
      "text/html": [
       "<div>\n",
       "<style scoped>\n",
       "    .dataframe tbody tr th:only-of-type {\n",
       "        vertical-align: middle;\n",
       "    }\n",
       "\n",
       "    .dataframe tbody tr th {\n",
       "        vertical-align: top;\n",
       "    }\n",
       "\n",
       "    .dataframe thead th {\n",
       "        text-align: right;\n",
       "    }\n",
       "</style>\n",
       "<table border=\"1\" class=\"dataframe\">\n",
       "  <thead>\n",
       "    <tr style=\"text-align: right;\">\n",
       "      <th></th>\n",
       "      <th>act</th>\n",
       "      <th>actor</th>\n",
       "      <th>actual</th>\n",
       "      <th>also</th>\n",
       "      <th>anoth</th>\n",
       "      <th>back</th>\n",
       "      <th>bad</th>\n",
       "      <th>best</th>\n",
       "      <th>better</th>\n",
       "      <th>cast</th>\n",
       "      <th>...</th>\n",
       "      <th>use</th>\n",
       "      <th>ve</th>\n",
       "      <th>want</th>\n",
       "      <th>watch</th>\n",
       "      <th>way</th>\n",
       "      <th>well</th>\n",
       "      <th>woman</th>\n",
       "      <th>work</th>\n",
       "      <th>would</th>\n",
       "      <th>year</th>\n",
       "    </tr>\n",
       "  </thead>\n",
       "  <tbody>\n",
       "    <tr>\n",
       "      <th>0</th>\n",
       "      <td>0</td>\n",
       "      <td>1</td>\n",
       "      <td>0</td>\n",
       "      <td>0</td>\n",
       "      <td>1</td>\n",
       "      <td>0</td>\n",
       "      <td>1</td>\n",
       "      <td>0</td>\n",
       "      <td>0</td>\n",
       "      <td>1</td>\n",
       "      <td>...</td>\n",
       "      <td>0</td>\n",
       "      <td>0</td>\n",
       "      <td>0</td>\n",
       "      <td>0</td>\n",
       "      <td>0</td>\n",
       "      <td>0</td>\n",
       "      <td>0</td>\n",
       "      <td>0</td>\n",
       "      <td>1</td>\n",
       "      <td>0</td>\n",
       "    </tr>\n",
       "    <tr>\n",
       "      <th>1</th>\n",
       "      <td>0</td>\n",
       "      <td>0</td>\n",
       "      <td>0</td>\n",
       "      <td>1</td>\n",
       "      <td>0</td>\n",
       "      <td>0</td>\n",
       "      <td>0</td>\n",
       "      <td>0</td>\n",
       "      <td>0</td>\n",
       "      <td>0</td>\n",
       "      <td>...</td>\n",
       "      <td>0</td>\n",
       "      <td>0</td>\n",
       "      <td>0</td>\n",
       "      <td>0</td>\n",
       "      <td>0</td>\n",
       "      <td>0</td>\n",
       "      <td>0</td>\n",
       "      <td>0</td>\n",
       "      <td>0</td>\n",
       "      <td>0</td>\n",
       "    </tr>\n",
       "    <tr>\n",
       "      <th>2</th>\n",
       "      <td>0</td>\n",
       "      <td>0</td>\n",
       "      <td>0</td>\n",
       "      <td>1</td>\n",
       "      <td>0</td>\n",
       "      <td>0</td>\n",
       "      <td>0</td>\n",
       "      <td>0</td>\n",
       "      <td>0</td>\n",
       "      <td>0</td>\n",
       "      <td>...</td>\n",
       "      <td>0</td>\n",
       "      <td>0</td>\n",
       "      <td>0</td>\n",
       "      <td>1</td>\n",
       "      <td>1</td>\n",
       "      <td>2</td>\n",
       "      <td>0</td>\n",
       "      <td>0</td>\n",
       "      <td>0</td>\n",
       "      <td>0</td>\n",
       "    </tr>\n",
       "    <tr>\n",
       "      <th>3</th>\n",
       "      <td>0</td>\n",
       "      <td>0</td>\n",
       "      <td>0</td>\n",
       "      <td>0</td>\n",
       "      <td>0</td>\n",
       "      <td>0</td>\n",
       "      <td>0</td>\n",
       "      <td>0</td>\n",
       "      <td>2</td>\n",
       "      <td>0</td>\n",
       "      <td>...</td>\n",
       "      <td>0</td>\n",
       "      <td>0</td>\n",
       "      <td>0</td>\n",
       "      <td>0</td>\n",
       "      <td>0</td>\n",
       "      <td>0</td>\n",
       "      <td>0</td>\n",
       "      <td>0</td>\n",
       "      <td>0</td>\n",
       "      <td>0</td>\n",
       "    </tr>\n",
       "    <tr>\n",
       "      <th>4</th>\n",
       "      <td>0</td>\n",
       "      <td>0</td>\n",
       "      <td>0</td>\n",
       "      <td>0</td>\n",
       "      <td>0</td>\n",
       "      <td>0</td>\n",
       "      <td>0</td>\n",
       "      <td>1</td>\n",
       "      <td>0</td>\n",
       "      <td>0</td>\n",
       "      <td>...</td>\n",
       "      <td>0</td>\n",
       "      <td>1</td>\n",
       "      <td>0</td>\n",
       "      <td>0</td>\n",
       "      <td>0</td>\n",
       "      <td>0</td>\n",
       "      <td>0</td>\n",
       "      <td>1</td>\n",
       "      <td>0</td>\n",
       "      <td>1</td>\n",
       "    </tr>\n",
       "  </tbody>\n",
       "</table>\n",
       "<p>5 rows × 85 columns</p>\n",
       "</div>"
      ],
      "text/plain": [
       "   act  actor  actual  also  anoth  back  bad  best  better  cast  ...   use  \\\n",
       "0    0      1       0     0      1     0    1     0       0     1  ...     0   \n",
       "1    0      0       0     1      0     0    0     0       0     0  ...     0   \n",
       "2    0      0       0     1      0     0    0     0       0     0  ...     0   \n",
       "3    0      0       0     0      0     0    0     0       2     0  ...     0   \n",
       "4    0      0       0     0      0     0    0     1       0     0  ...     0   \n",
       "\n",
       "   ve  want  watch  way  well  woman  work  would  year  \n",
       "0   0     0      0    0     0      0     0      1     0  \n",
       "1   0     0      0    0     0      0     0      0     0  \n",
       "2   0     0      1    1     2      0     0      0     0  \n",
       "3   0     0      0    0     0      0     0      0     0  \n",
       "4   1     0      0    0     0      0     1      0     1  \n",
       "\n",
       "[5 rows x 85 columns]"
      ]
     },
     "execution_count": 20,
     "metadata": {},
     "output_type": "execute_result"
    }
   ],
   "source": [
    "imdb_train_bkp.head()"
   ]
  },
  {
   "cell_type": "code",
   "execution_count": 21,
   "metadata": {},
   "outputs": [
    {
     "data": {
      "text/plain": [
       "(3000, 85)"
      ]
     },
     "execution_count": 21,
     "metadata": {},
     "output_type": "execute_result"
    }
   ],
   "source": [
    "X = imdb_train_bkp.values\n",
    "X.shape"
   ]
  },
  {
   "cell_type": "markdown",
   "metadata": {},
   "source": [
    "# Phase 2 :\n",
    "> Following operations are performed\n",
    "1. For labelled data, find the most common words associated with each category (positive & negative)\n",
    "2. Discover the lowest frequency and highest frequency words\n",
    "3. Read unlabeled data from respective folder (unsup) and store in unsup_df\n",
    "4. Create a cluster to separate positive and negative words (bonus) using k-means algorithm\n"
   ]
  },
  {
   "cell_type": "code",
   "execution_count": 22,
   "metadata": {},
   "outputs": [],
   "source": [
    "positive_reviwes = copy.deepcopy(imdb_train_small[imdb_train_small.Label == \"pos\"])\n",
    "neg_reviwes = copy.deepcopy(imdb_train_small[imdb_train_small.Label == \"neg\"])"
   ]
  },
  {
   "cell_type": "code",
   "execution_count": 23,
   "metadata": {},
   "outputs": [
    {
     "data": {
      "text/html": [
       "<div>\n",
       "<style scoped>\n",
       "    .dataframe tbody tr th:only-of-type {\n",
       "        vertical-align: middle;\n",
       "    }\n",
       "\n",
       "    .dataframe tbody tr th {\n",
       "        vertical-align: top;\n",
       "    }\n",
       "\n",
       "    .dataframe thead th {\n",
       "        text-align: right;\n",
       "    }\n",
       "</style>\n",
       "<table border=\"1\" class=\"dataframe\">\n",
       "  <thead>\n",
       "    <tr style=\"text-align: right;\">\n",
       "      <th></th>\n",
       "      <th>Type</th>\n",
       "      <th>Review</th>\n",
       "      <th>Label</th>\n",
       "      <th>File</th>\n",
       "    </tr>\n",
       "  </thead>\n",
       "  <tbody>\n",
       "    <tr>\n",
       "      <th>48112</th>\n",
       "      <td>train</td>\n",
       "      <td>gari busey titl charact frank bulletproof mcba...</td>\n",
       "      <td>pos</td>\n",
       "      <td>8301_7.txt</td>\n",
       "    </tr>\n",
       "    <tr>\n",
       "      <th>39755</th>\n",
       "      <td>train</td>\n",
       "      <td>realli enjoy documentari kenni spencer s attem...</td>\n",
       "      <td>pos</td>\n",
       "      <td>1202_9.txt</td>\n",
       "    </tr>\n",
       "    <tr>\n",
       "      <th>43403</th>\n",
       "      <td>train</td>\n",
       "      <td>castl sky undoubtedli hayao miyazaki film see ...</td>\n",
       "      <td>pos</td>\n",
       "      <td>4063_8.txt</td>\n",
       "    </tr>\n",
       "    <tr>\n",
       "      <th>38281</th>\n",
       "      <td>train</td>\n",
       "      <td>film definit odd love stori though film may mu...</td>\n",
       "      <td>pos</td>\n",
       "      <td>10703_7.txt</td>\n",
       "    </tr>\n",
       "    <tr>\n",
       "      <th>44789</th>\n",
       "      <td>train</td>\n",
       "      <td>pecker anoth mainstream film john water done s...</td>\n",
       "      <td>pos</td>\n",
       "      <td>5310_10.txt</td>\n",
       "    </tr>\n",
       "  </tbody>\n",
       "</table>\n",
       "</div>"
      ],
      "text/plain": [
       "        Type                                             Review Label  \\\n",
       "48112  train  gari busey titl charact frank bulletproof mcba...   pos   \n",
       "39755  train  realli enjoy documentari kenni spencer s attem...   pos   \n",
       "43403  train  castl sky undoubtedli hayao miyazaki film see ...   pos   \n",
       "38281  train  film definit odd love stori though film may mu...   pos   \n",
       "44789  train  pecker anoth mainstream film john water done s...   pos   \n",
       "\n",
       "              File  \n",
       "48112   8301_7.txt  \n",
       "39755   1202_9.txt  \n",
       "43403   4063_8.txt  \n",
       "38281  10703_7.txt  \n",
       "44789  5310_10.txt  "
      ]
     },
     "execution_count": 23,
     "metadata": {},
     "output_type": "execute_result"
    }
   ],
   "source": [
    "positive_reviwes.head()"
   ]
  },
  {
   "cell_type": "code",
   "execution_count": 24,
   "metadata": {},
   "outputs": [
    {
     "data": {
      "text/html": [
       "<div>\n",
       "<style scoped>\n",
       "    .dataframe tbody tr th:only-of-type {\n",
       "        vertical-align: middle;\n",
       "    }\n",
       "\n",
       "    .dataframe tbody tr th {\n",
       "        vertical-align: top;\n",
       "    }\n",
       "\n",
       "    .dataframe thead th {\n",
       "        text-align: right;\n",
       "    }\n",
       "</style>\n",
       "<table border=\"1\" class=\"dataframe\">\n",
       "  <thead>\n",
       "    <tr style=\"text-align: right;\">\n",
       "      <th></th>\n",
       "      <th>Type</th>\n",
       "      <th>Review</th>\n",
       "      <th>Label</th>\n",
       "      <th>File</th>\n",
       "    </tr>\n",
       "  </thead>\n",
       "  <tbody>\n",
       "    <tr>\n",
       "      <th>28256</th>\n",
       "      <td>train</td>\n",
       "      <td>freeway killer madman shoot peopl freeway yell...</td>\n",
       "      <td>neg</td>\n",
       "      <td>1681_4.txt</td>\n",
       "    </tr>\n",
       "    <tr>\n",
       "      <th>27441</th>\n",
       "      <td>train</td>\n",
       "      <td>grow beast war transform nt familiar origin tr...</td>\n",
       "      <td>neg</td>\n",
       "      <td>12198_3.txt</td>\n",
       "    </tr>\n",
       "    <tr>\n",
       "      <th>30366</th>\n",
       "      <td>train</td>\n",
       "      <td>memori bank review must ve short circuit tri r...</td>\n",
       "      <td>neg</td>\n",
       "      <td>3580_4.txt</td>\n",
       "    </tr>\n",
       "    <tr>\n",
       "      <th>31053</th>\n",
       "      <td>train</td>\n",
       "      <td>poor effort offer pretti much noth anyon hardc...</td>\n",
       "      <td>neg</td>\n",
       "      <td>4199_3.txt</td>\n",
       "    </tr>\n",
       "    <tr>\n",
       "      <th>32430</th>\n",
       "      <td>train</td>\n",
       "      <td>quit fan novelist screenwrit michael chabon no...</td>\n",
       "      <td>neg</td>\n",
       "      <td>5438_3.txt</td>\n",
       "    </tr>\n",
       "  </tbody>\n",
       "</table>\n",
       "</div>"
      ],
      "text/plain": [
       "        Type                                             Review Label  \\\n",
       "28256  train  freeway killer madman shoot peopl freeway yell...   neg   \n",
       "27441  train  grow beast war transform nt familiar origin tr...   neg   \n",
       "30366  train  memori bank review must ve short circuit tri r...   neg   \n",
       "31053  train  poor effort offer pretti much noth anyon hardc...   neg   \n",
       "32430  train  quit fan novelist screenwrit michael chabon no...   neg   \n",
       "\n",
       "              File  \n",
       "28256   1681_4.txt  \n",
       "27441  12198_3.txt  \n",
       "30366   3580_4.txt  \n",
       "31053   4199_3.txt  \n",
       "32430   5438_3.txt  "
      ]
     },
     "execution_count": 24,
     "metadata": {},
     "output_type": "execute_result"
    }
   ],
   "source": [
    "neg_reviwes.head()"
   ]
  },
  {
   "cell_type": "code",
   "execution_count": 25,
   "metadata": {},
   "outputs": [
    {
     "data": {
      "text/html": [
       "<div>\n",
       "<style scoped>\n",
       "    .dataframe tbody tr th:only-of-type {\n",
       "        vertical-align: middle;\n",
       "    }\n",
       "\n",
       "    .dataframe tbody tr th {\n",
       "        vertical-align: top;\n",
       "    }\n",
       "\n",
       "    .dataframe thead th {\n",
       "        text-align: right;\n",
       "    }\n",
       "</style>\n",
       "<table border=\"1\" class=\"dataframe\">\n",
       "  <thead>\n",
       "    <tr style=\"text-align: right;\">\n",
       "      <th></th>\n",
       "      <th>aa</th>\n",
       "      <th>aaa</th>\n",
       "      <th>aadha</th>\n",
       "      <th>aag</th>\n",
       "      <th>aam</th>\n",
       "      <th>aardman</th>\n",
       "      <th>aaron</th>\n",
       "      <th>aback</th>\n",
       "      <th>abadi</th>\n",
       "      <th>abandon</th>\n",
       "      <th>...</th>\n",
       "      <th>zoot</th>\n",
       "      <th>zorich</th>\n",
       "      <th>zorro</th>\n",
       "      <th>zowe</th>\n",
       "      <th>zoã</th>\n",
       "      <th>zp</th>\n",
       "      <th>zucker</th>\n",
       "      <th>zy</th>\n",
       "      <th>zã</th>\n",
       "      <th>â½</th>\n",
       "    </tr>\n",
       "  </thead>\n",
       "  <tbody>\n",
       "    <tr>\n",
       "      <th>0</th>\n",
       "      <td>0</td>\n",
       "      <td>0</td>\n",
       "      <td>0</td>\n",
       "      <td>0</td>\n",
       "      <td>0</td>\n",
       "      <td>0</td>\n",
       "      <td>0</td>\n",
       "      <td>0</td>\n",
       "      <td>0</td>\n",
       "      <td>0</td>\n",
       "      <td>...</td>\n",
       "      <td>0</td>\n",
       "      <td>0</td>\n",
       "      <td>0</td>\n",
       "      <td>0</td>\n",
       "      <td>0</td>\n",
       "      <td>0</td>\n",
       "      <td>0</td>\n",
       "      <td>0</td>\n",
       "      <td>0</td>\n",
       "      <td>0</td>\n",
       "    </tr>\n",
       "    <tr>\n",
       "      <th>1</th>\n",
       "      <td>0</td>\n",
       "      <td>0</td>\n",
       "      <td>0</td>\n",
       "      <td>0</td>\n",
       "      <td>0</td>\n",
       "      <td>0</td>\n",
       "      <td>0</td>\n",
       "      <td>0</td>\n",
       "      <td>0</td>\n",
       "      <td>0</td>\n",
       "      <td>...</td>\n",
       "      <td>0</td>\n",
       "      <td>0</td>\n",
       "      <td>0</td>\n",
       "      <td>0</td>\n",
       "      <td>0</td>\n",
       "      <td>0</td>\n",
       "      <td>0</td>\n",
       "      <td>0</td>\n",
       "      <td>0</td>\n",
       "      <td>0</td>\n",
       "    </tr>\n",
       "    <tr>\n",
       "      <th>2</th>\n",
       "      <td>0</td>\n",
       "      <td>0</td>\n",
       "      <td>0</td>\n",
       "      <td>0</td>\n",
       "      <td>0</td>\n",
       "      <td>0</td>\n",
       "      <td>0</td>\n",
       "      <td>0</td>\n",
       "      <td>0</td>\n",
       "      <td>0</td>\n",
       "      <td>...</td>\n",
       "      <td>0</td>\n",
       "      <td>0</td>\n",
       "      <td>0</td>\n",
       "      <td>0</td>\n",
       "      <td>0</td>\n",
       "      <td>0</td>\n",
       "      <td>0</td>\n",
       "      <td>0</td>\n",
       "      <td>0</td>\n",
       "      <td>0</td>\n",
       "    </tr>\n",
       "    <tr>\n",
       "      <th>3</th>\n",
       "      <td>0</td>\n",
       "      <td>0</td>\n",
       "      <td>0</td>\n",
       "      <td>0</td>\n",
       "      <td>0</td>\n",
       "      <td>0</td>\n",
       "      <td>0</td>\n",
       "      <td>0</td>\n",
       "      <td>0</td>\n",
       "      <td>0</td>\n",
       "      <td>...</td>\n",
       "      <td>0</td>\n",
       "      <td>0</td>\n",
       "      <td>0</td>\n",
       "      <td>0</td>\n",
       "      <td>0</td>\n",
       "      <td>0</td>\n",
       "      <td>0</td>\n",
       "      <td>0</td>\n",
       "      <td>0</td>\n",
       "      <td>0</td>\n",
       "    </tr>\n",
       "    <tr>\n",
       "      <th>4</th>\n",
       "      <td>0</td>\n",
       "      <td>0</td>\n",
       "      <td>0</td>\n",
       "      <td>0</td>\n",
       "      <td>0</td>\n",
       "      <td>0</td>\n",
       "      <td>0</td>\n",
       "      <td>0</td>\n",
       "      <td>0</td>\n",
       "      <td>0</td>\n",
       "      <td>...</td>\n",
       "      <td>0</td>\n",
       "      <td>0</td>\n",
       "      <td>0</td>\n",
       "      <td>0</td>\n",
       "      <td>0</td>\n",
       "      <td>0</td>\n",
       "      <td>0</td>\n",
       "      <td>0</td>\n",
       "      <td>0</td>\n",
       "      <td>0</td>\n",
       "    </tr>\n",
       "  </tbody>\n",
       "</table>\n",
       "<p>5 rows × 15642 columns</p>\n",
       "</div>"
      ],
      "text/plain": [
       "   aa  aaa  aadha  aag  aam  aardman  aaron  aback  abadi  abandon ...  zoot  \\\n",
       "0   0    0      0    0    0        0      0      0      0        0 ...     0   \n",
       "1   0    0      0    0    0        0      0      0      0        0 ...     0   \n",
       "2   0    0      0    0    0        0      0      0      0        0 ...     0   \n",
       "3   0    0      0    0    0        0      0      0      0        0 ...     0   \n",
       "4   0    0      0    0    0        0      0      0      0        0 ...     0   \n",
       "\n",
       "   zorich  zorro  zowe  zoã  zp  zucker  zy  zã  â½  \n",
       "0       0      0     0    0   0       0   0   0   0  \n",
       "1       0      0     0    0   0       0   0   0   0  \n",
       "2       0      0     0    0   0       0   0   0   0  \n",
       "3       0      0     0    0   0       0   0   0   0  \n",
       "4       0      0     0    0   0       0   0   0   0  \n",
       "\n",
       "[5 rows x 15642 columns]"
      ]
     },
     "execution_count": 25,
     "metadata": {},
     "output_type": "execute_result"
    }
   ],
   "source": [
    "cv = CountVectorizer()\n",
    "positive_reviwes_bkp = pd.DataFrame(cv.fit_transform(positive_reviwes.Review).toarray(), columns=cv.get_feature_names())\n",
    "positive_reviwes_bkp.head()"
   ]
  },
  {
   "cell_type": "code",
   "execution_count": 26,
   "metadata": {},
   "outputs": [
    {
     "data": {
      "text/plain": [
       "15605"
      ]
     },
     "execution_count": 26,
     "metadata": {},
     "output_type": "execute_result"
    }
   ],
   "source": [
    "features_to_drop = []\n",
    "for i in positive_reviwes_bkp.columns:\n",
    "    if positive_reviwes_bkp[i].sum() < 500:\n",
    "        features_to_drop.append(i)\n",
    "        \n",
    "positive_reviwes_bkp.drop(features_to_drop,axis = 1,inplace=True)  \n",
    "len(features_to_drop)"
   ]
  },
  {
   "cell_type": "markdown",
   "metadata": {},
   "source": [
    "# Below are most common positive review words"
   ]
  },
  {
   "cell_type": "code",
   "execution_count": 27,
   "metadata": {},
   "outputs": [
    {
     "data": {
      "text/plain": [
       "Index(['also', 'best', 'charact', 'end', 'even', 'film', 'first', 'get', 'go',\n",
       "       'good', 'great', 'know', 'life', 'like', 'look', 'love', 'make', 'movi',\n",
       "       'much', 'nt', 'one', 'peopl', 'perform', 'play', 'realli', 'scene',\n",
       "       'see', 'show', 'stori', 'think', 'time', 'watch', 'way', 'well', 'work',\n",
       "       'would', 'year'],\n",
       "      dtype='object')"
      ]
     },
     "execution_count": 27,
     "metadata": {},
     "output_type": "execute_result"
    }
   ],
   "source": [
    "positive_reviwes_bkp.columns"
   ]
  },
  {
   "cell_type": "code",
   "execution_count": 28,
   "metadata": {},
   "outputs": [
    {
     "data": {
      "text/html": [
       "<div>\n",
       "<style scoped>\n",
       "    .dataframe tbody tr th:only-of-type {\n",
       "        vertical-align: middle;\n",
       "    }\n",
       "\n",
       "    .dataframe tbody tr th {\n",
       "        vertical-align: top;\n",
       "    }\n",
       "\n",
       "    .dataframe thead th {\n",
       "        text-align: right;\n",
       "    }\n",
       "</style>\n",
       "<table border=\"1\" class=\"dataframe\">\n",
       "  <thead>\n",
       "    <tr style=\"text-align: right;\">\n",
       "      <th></th>\n",
       "      <th>aaa</th>\n",
       "      <th>aaaaah</th>\n",
       "      <th>aaah</th>\n",
       "      <th>aaargh</th>\n",
       "      <th>aag</th>\n",
       "      <th>aardman</th>\n",
       "      <th>aaron</th>\n",
       "      <th>ab</th>\n",
       "      <th>aback</th>\n",
       "      <th>abanaz</th>\n",
       "      <th>...</th>\n",
       "      <th>zoo</th>\n",
       "      <th>zoom</th>\n",
       "      <th>zschere</th>\n",
       "      <th>zsigmond</th>\n",
       "      <th>zungia</th>\n",
       "      <th>zunz</th>\n",
       "      <th>zwrite</th>\n",
       "      <th>zx</th>\n",
       "      <th>zzzz</th>\n",
       "      <th>â½</th>\n",
       "    </tr>\n",
       "  </thead>\n",
       "  <tbody>\n",
       "    <tr>\n",
       "      <th>0</th>\n",
       "      <td>0</td>\n",
       "      <td>0</td>\n",
       "      <td>0</td>\n",
       "      <td>0</td>\n",
       "      <td>0</td>\n",
       "      <td>0</td>\n",
       "      <td>0</td>\n",
       "      <td>0</td>\n",
       "      <td>0</td>\n",
       "      <td>0</td>\n",
       "      <td>...</td>\n",
       "      <td>0</td>\n",
       "      <td>0</td>\n",
       "      <td>0</td>\n",
       "      <td>0</td>\n",
       "      <td>0</td>\n",
       "      <td>0</td>\n",
       "      <td>0</td>\n",
       "      <td>0</td>\n",
       "      <td>0</td>\n",
       "      <td>0</td>\n",
       "    </tr>\n",
       "    <tr>\n",
       "      <th>1</th>\n",
       "      <td>0</td>\n",
       "      <td>0</td>\n",
       "      <td>0</td>\n",
       "      <td>0</td>\n",
       "      <td>0</td>\n",
       "      <td>0</td>\n",
       "      <td>0</td>\n",
       "      <td>0</td>\n",
       "      <td>0</td>\n",
       "      <td>0</td>\n",
       "      <td>...</td>\n",
       "      <td>0</td>\n",
       "      <td>0</td>\n",
       "      <td>0</td>\n",
       "      <td>0</td>\n",
       "      <td>0</td>\n",
       "      <td>0</td>\n",
       "      <td>0</td>\n",
       "      <td>0</td>\n",
       "      <td>0</td>\n",
       "      <td>0</td>\n",
       "    </tr>\n",
       "    <tr>\n",
       "      <th>2</th>\n",
       "      <td>0</td>\n",
       "      <td>0</td>\n",
       "      <td>0</td>\n",
       "      <td>0</td>\n",
       "      <td>0</td>\n",
       "      <td>0</td>\n",
       "      <td>0</td>\n",
       "      <td>0</td>\n",
       "      <td>0</td>\n",
       "      <td>0</td>\n",
       "      <td>...</td>\n",
       "      <td>0</td>\n",
       "      <td>0</td>\n",
       "      <td>0</td>\n",
       "      <td>0</td>\n",
       "      <td>0</td>\n",
       "      <td>0</td>\n",
       "      <td>0</td>\n",
       "      <td>0</td>\n",
       "      <td>0</td>\n",
       "      <td>0</td>\n",
       "    </tr>\n",
       "    <tr>\n",
       "      <th>3</th>\n",
       "      <td>0</td>\n",
       "      <td>0</td>\n",
       "      <td>0</td>\n",
       "      <td>0</td>\n",
       "      <td>0</td>\n",
       "      <td>0</td>\n",
       "      <td>0</td>\n",
       "      <td>0</td>\n",
       "      <td>0</td>\n",
       "      <td>0</td>\n",
       "      <td>...</td>\n",
       "      <td>0</td>\n",
       "      <td>0</td>\n",
       "      <td>0</td>\n",
       "      <td>0</td>\n",
       "      <td>0</td>\n",
       "      <td>0</td>\n",
       "      <td>0</td>\n",
       "      <td>0</td>\n",
       "      <td>0</td>\n",
       "      <td>0</td>\n",
       "    </tr>\n",
       "    <tr>\n",
       "      <th>4</th>\n",
       "      <td>0</td>\n",
       "      <td>0</td>\n",
       "      <td>0</td>\n",
       "      <td>0</td>\n",
       "      <td>0</td>\n",
       "      <td>0</td>\n",
       "      <td>0</td>\n",
       "      <td>0</td>\n",
       "      <td>0</td>\n",
       "      <td>0</td>\n",
       "      <td>...</td>\n",
       "      <td>0</td>\n",
       "      <td>0</td>\n",
       "      <td>0</td>\n",
       "      <td>0</td>\n",
       "      <td>0</td>\n",
       "      <td>0</td>\n",
       "      <td>0</td>\n",
       "      <td>0</td>\n",
       "      <td>0</td>\n",
       "      <td>0</td>\n",
       "    </tr>\n",
       "  </tbody>\n",
       "</table>\n",
       "<p>5 rows × 14049 columns</p>\n",
       "</div>"
      ],
      "text/plain": [
       "   aaa  aaaaah  aaah  aaargh  aag  aardman  aaron  ab  aback  abanaz ...  zoo  \\\n",
       "0    0       0     0       0    0        0      0   0      0       0 ...    0   \n",
       "1    0       0     0       0    0        0      0   0      0       0 ...    0   \n",
       "2    0       0     0       0    0        0      0   0      0       0 ...    0   \n",
       "3    0       0     0       0    0        0      0   0      0       0 ...    0   \n",
       "4    0       0     0       0    0        0      0   0      0       0 ...    0   \n",
       "\n",
       "   zoom  zschere  zsigmond  zungia  zunz  zwrite  zx  zzzz  â½  \n",
       "0     0        0         0       0     0       0   0     0   0  \n",
       "1     0        0         0       0     0       0   0     0   0  \n",
       "2     0        0         0       0     0       0   0     0   0  \n",
       "3     0        0         0       0     0       0   0     0   0  \n",
       "4     0        0         0       0     0       0   0     0   0  \n",
       "\n",
       "[5 rows x 14049 columns]"
      ]
     },
     "execution_count": 28,
     "metadata": {},
     "output_type": "execute_result"
    }
   ],
   "source": [
    "cv = CountVectorizer()\n",
    "neg_reviwes_bkp = pd.DataFrame(cv.fit_transform(neg_reviwes.Review).toarray(), columns=cv.get_feature_names())\n",
    "neg_reviwes_bkp.head()"
   ]
  },
  {
   "cell_type": "code",
   "execution_count": 29,
   "metadata": {},
   "outputs": [
    {
     "data": {
      "text/plain": [
       "14018"
      ]
     },
     "execution_count": 29,
     "metadata": {},
     "output_type": "execute_result"
    }
   ],
   "source": [
    "features_to_drop = []\n",
    "for i in neg_reviwes_bkp.columns:\n",
    "    if neg_reviwes_bkp[i].sum() < 500:\n",
    "        features_to_drop.append(i)\n",
    "neg_reviwes_bkp.drop(features_to_drop,axis = 1,inplace=True)  \n",
    "len(features_to_drop)"
   ]
  },
  {
   "cell_type": "markdown",
   "metadata": {},
   "source": [
    "# Below are some of the most common words in negative reviwes"
   ]
  },
  {
   "cell_type": "code",
   "execution_count": 30,
   "metadata": {},
   "outputs": [
    {
     "data": {
      "text/plain": [
       "Index(['act', 'bad', 'charact', 'could', 'end', 'even', 'film', 'get', 'go',\n",
       "       'good', 'like', 'look', 'made', 'make', 'movi', 'much', 'nt', 'one',\n",
       "       'peopl', 'plot', 'realli', 'scene', 'see', 'show', 'stori', 'thing',\n",
       "       'think', 'time', 'watch', 'well', 'would'],\n",
       "      dtype='object')"
      ]
     },
     "execution_count": 30,
     "metadata": {},
     "output_type": "execute_result"
    }
   ],
   "source": [
    "neg_reviwes_bkp.columns"
   ]
  },
  {
   "cell_type": "markdown",
   "metadata": {},
   "source": [
    "## Most freqruent and least frequent occuring positive words "
   ]
  },
  {
   "cell_type": "code",
   "execution_count": 31,
   "metadata": {},
   "outputs": [],
   "source": [
    "positive_freq= pd.DataFrame(positive_reviwes_bkp.sum())\n",
    "positive_freq.rename(index=str,columns={0:\"freq\"},inplace=True)"
   ]
  },
  {
   "cell_type": "code",
   "execution_count": 32,
   "metadata": {},
   "outputs": [
    {
     "name": "stdout",
     "output_type": "stream",
     "text": [
      "positive review maximum frequency= film    3305\n",
      "Name: freq, dtype: int64\n",
      "positive review minimum frequency= know    504\n",
      "Name: freq, dtype: int64\n"
     ]
    }
   ],
   "source": [
    "positive_max= positive_freq[positive_freq.freq == max(positive_freq.freq)]\n",
    "positive_min= positive_freq[positive_freq.freq == min(positive_freq.freq)]\n",
    "print(\"positive review maximum frequency= \"+ str(positive_max.freq))\n",
    "print(\"positive review minimum frequency= \"+ str(positive_min.freq))"
   ]
  },
  {
   "cell_type": "markdown",
   "metadata": {},
   "source": [
    "## Mose frequent and least frequent occuring negative words"
   ]
  },
  {
   "cell_type": "code",
   "execution_count": 33,
   "metadata": {},
   "outputs": [],
   "source": [
    "neg_freq= pd.DataFrame(neg_reviwes_bkp.sum())\n",
    "neg_freq.rename(index=str,columns={0:\"freq\"},inplace=True)"
   ]
  },
  {
   "cell_type": "code",
   "execution_count": 34,
   "metadata": {},
   "outputs": [
    {
     "name": "stdout",
     "output_type": "stream",
     "text": [
      "neg review maximum frequency= movi    3375\n",
      "Name: freq, dtype: int64\n",
      "neg review minimum frequency= well    512\n",
      "Name: freq, dtype: int64\n"
     ]
    }
   ],
   "source": [
    "neg_max= neg_freq[neg_freq.freq == max(neg_freq.freq)]\n",
    "neg_min= neg_freq[neg_freq.freq == min(neg_freq.freq)]\n",
    "print(\"neg review maximum frequency= \"+ str(neg_max.freq))\n",
    "print(\"neg review minimum frequency= \"+ str(neg_min.freq))"
   ]
  },
  {
   "cell_type": "markdown",
   "metadata": {},
   "source": [
    "# Unsupervised data is already captured in imdb_train_unsup"
   ]
  },
  {
   "cell_type": "code",
   "execution_count": 35,
   "metadata": {},
   "outputs": [
    {
     "data": {
      "text/html": [
       "<div>\n",
       "<style scoped>\n",
       "    .dataframe tbody tr th:only-of-type {\n",
       "        vertical-align: middle;\n",
       "    }\n",
       "\n",
       "    .dataframe tbody tr th {\n",
       "        vertical-align: top;\n",
       "    }\n",
       "\n",
       "    .dataframe thead th {\n",
       "        text-align: right;\n",
       "    }\n",
       "</style>\n",
       "<table border=\"1\" class=\"dataframe\">\n",
       "  <thead>\n",
       "    <tr style=\"text-align: right;\">\n",
       "      <th></th>\n",
       "      <th>Type</th>\n",
       "      <th>Review</th>\n",
       "      <th>Label</th>\n",
       "      <th>File</th>\n",
       "    </tr>\n",
       "  </thead>\n",
       "  <tbody>\n",
       "    <tr>\n",
       "      <th>50000</th>\n",
       "      <td>train</td>\n",
       "      <td>I admit, the great majority of films released ...</td>\n",
       "      <td>unsup</td>\n",
       "      <td>0_0.txt</td>\n",
       "    </tr>\n",
       "    <tr>\n",
       "      <th>50001</th>\n",
       "      <td>train</td>\n",
       "      <td>Take a low budget, inexperienced actors doubli...</td>\n",
       "      <td>unsup</td>\n",
       "      <td>10000_0.txt</td>\n",
       "    </tr>\n",
       "    <tr>\n",
       "      <th>50002</th>\n",
       "      <td>train</td>\n",
       "      <td>Everybody has seen 'Back To The Future,' right...</td>\n",
       "      <td>unsup</td>\n",
       "      <td>10001_0.txt</td>\n",
       "    </tr>\n",
       "    <tr>\n",
       "      <th>50003</th>\n",
       "      <td>train</td>\n",
       "      <td>Doris Day was an icon of beauty in singing and...</td>\n",
       "      <td>unsup</td>\n",
       "      <td>10002_0.txt</td>\n",
       "    </tr>\n",
       "    <tr>\n",
       "      <th>50004</th>\n",
       "      <td>train</td>\n",
       "      <td>After a series of silly, fun-loving movies, 19...</td>\n",
       "      <td>unsup</td>\n",
       "      <td>10003_0.txt</td>\n",
       "    </tr>\n",
       "  </tbody>\n",
       "</table>\n",
       "</div>"
      ],
      "text/plain": [
       "        Type                                             Review  Label  \\\n",
       "50000  train  I admit, the great majority of films released ...  unsup   \n",
       "50001  train  Take a low budget, inexperienced actors doubli...  unsup   \n",
       "50002  train  Everybody has seen 'Back To The Future,' right...  unsup   \n",
       "50003  train  Doris Day was an icon of beauty in singing and...  unsup   \n",
       "50004  train  After a series of silly, fun-loving movies, 19...  unsup   \n",
       "\n",
       "              File  \n",
       "50000      0_0.txt  \n",
       "50001  10000_0.txt  \n",
       "50002  10001_0.txt  \n",
       "50003  10002_0.txt  \n",
       "50004  10003_0.txt  "
      ]
     },
     "execution_count": 35,
     "metadata": {},
     "output_type": "execute_result"
    }
   ],
   "source": [
    "imdb_train_unsup.head()"
   ]
  },
  {
   "cell_type": "code",
   "execution_count": 36,
   "metadata": {},
   "outputs": [],
   "source": [
    "rindex =  np.array(sample(range(len(imdb_train_unsup)), 1000)) \n",
    "# we are taking only 1000 rows randomly exclude this to check with full data\n",
    "imdb_train_unsup_small= copy.deepcopy(imdb_train_unsup.iloc[rindex])\n",
    "\n",
    "#imdb_train_unsup_small= copy.deepcopy(imdb_train_unsup) # taking full dataset instead of 1000 rows"
   ]
  },
  {
   "cell_type": "code",
   "execution_count": 37,
   "metadata": {},
   "outputs": [
    {
     "data": {
      "text/plain": [
       "1000"
      ]
     },
     "execution_count": 37,
     "metadata": {},
     "output_type": "execute_result"
    }
   ],
   "source": [
    "clean_Text = []\n",
    "for review in imdb_train_unsup_small['Review']:\n",
    "    clean_Text.append( (text_process(review)))\n",
    "len(clean_Text)"
   ]
  },
  {
   "cell_type": "code",
   "execution_count": 38,
   "metadata": {},
   "outputs": [
    {
     "name": "stdout",
     "output_type": "stream",
     "text": [
      "--------------\n",
      "compound: 0.975, \n",
      "\n",
      "\n",
      "neg: 0.0, \n",
      "\n",
      "\n",
      "neu: 0.763, \n",
      "\n",
      "\n",
      "pos: 0.237, \n",
      "\n",
      "\n",
      "--------------\n",
      "warren beatti senat becom rapper move plan outer space ishtar ii sequel surpris movi turn well warren beatti took lot chanc hit jackpot would even say rap great context film hall berri beauti usual also play part well also play part well usual impli pretti face thought would cring warren adrian brodi moment inevit happen nt even barf amaz film made also pertain warren beatti mile high denver dnc also hobnob spike lee wish could fli wall spike lee wish could ve made bulworth mayb nt wish made think bulworth make point spike tri make lot success\n",
      "--------------\n",
      "compound: 0.1531, \n",
      "\n",
      "\n",
      "neg: 0.075, \n",
      "\n",
      "\n",
      "neu: 0.842, \n",
      "\n",
      "\n",
      "pos: 0.083, \n",
      "\n",
      "\n",
      "--------------\n",
      "movi brilliant open eye side prostitut never seen regular peopl come differ background differ life style differ belief girl realli got one forc prostitut famili life threaten peopl view prostitut differ rest u nt necessarili make wrong make sinner make differ like everyon els fact movi intrigu much tri find book movi supposedli base troubl appar book found anyon anyway find book would pleas email let know purchas thankx\n",
      "--------------\n",
      "compound: 0.8779, \n",
      "\n",
      "\n",
      "neg: 0.127, \n",
      "\n",
      "\n",
      "neu: 0.713, \n",
      "\n",
      "\n",
      "pos: 0.16, \n",
      "\n",
      "\n",
      "--------------\n",
      "comment review lead believ movi reson mid life challeng male argu everyon els pathet embarrass nonsens low budget film obvious went direct video never went near theatr husband rent box said someth menag troi thought would sex scene well bore tame would laugh daytim soap opera sheryl lee attract earth way william petersen csi gari cole one hour photo tire shape hang dog look suggest whole enterpris plain embarrass find noth sympathet plight fabul success wealthi white upper class men abandon wife child take life save go phillipin blow  debaucheri b build kind god aw bamboo structur suppos motel bed  breakfast someth plot dialogu lame unbeliev hard imagin actor find project palat figur want free trip phillipin trust one wo nt appear anybodi s career resum despit potenti gorgeou surround cinematographi poor tv movi qualiti appar film locat phillipin d hardli know could film hawaii even florida use leonard cohen song throughout done poorli song nt relev action go seem plunk place terranc stamp small lame part buddhist monk inexplic allow sex drink alcohol mani low point movi would cruel list worst main charact swim nude stand shallow water greet monk forc view saggi pudgi nake behind trust s pretti moment film utterli devoid sympathet emot touch realiti m awar bore rich white male use titil three way tri sell bloat tripe pathet huge wast time sit even pop cabl suggest avoid better thing time\n",
      "--------------\n",
      "compound: 0.9468, \n",
      "\n",
      "\n",
      "neg: 0.071, \n",
      "\n",
      "\n",
      "neu: 0.739, \n",
      "\n",
      "\n",
      "pos: 0.191, \n",
      "\n",
      "\n",
      "--------------\n",
      "film actor first sight seen three time far read book mani time realli amus faith perform especi mr collin mr darci miss bennet mr bennet laugh sad angri togeth hero realli enjoy part mr collin came choos futur wife scene mr darci meet lizzi come foot mud inquir ill sister jane fact scene would like miss two scene end book one walk talk lizzi mr darci engag second reaction mr bennet elizabeth told set beauti see english countrysid film found strong desir visit britain one thing realli admir colin firthâ´ art use eye express mr darcyâ´ feel facial express jennif ehl must say excel job film thank\n",
      "--------------\n",
      "compound: -0.946, \n",
      "\n",
      "\n",
      "neg: 0.213, \n",
      "\n",
      "\n",
      "neu: 0.73, \n",
      "\n",
      "\n",
      "pos: 0.057, \n",
      "\n",
      "\n",
      "--------------\n",
      "moodi strang dark mort shade kevin howarth john dark luke go pair polic detect work vice squad notori rough neighborhood near dock mort kill alterc refriger warehous detect dark leaf scene get help return find partner aliv well soon hardest touch crimin shade dark track turn deader dead dark discov parter possess bloodthirsti evil entiti respons savag kill cast member carli turnbul carri clark matt luca jake curran\n"
     ]
    }
   ],
   "source": [
    "from nltk.sentiment.vader import SentimentIntensityAnalyzer\n",
    "Senti = SentimentIntensityAnalyzer()\n",
    "sample_review = clean_Text[:5]\n",
    "for sentence in sample_review:\n",
    "    ss = Senti.polarity_scores(sentence)\n",
    "    print(\"--------------\")\n",
    "    for k in sorted(ss):\n",
    "        print('{0}: {1}, '.format(k, ss[k]))\n",
    "        print(\"\\n\")\n",
    "    print(\"--------------\")\n",
    "    print(sentence) "
   ]
  },
  {
   "cell_type": "code",
   "execution_count": 39,
   "metadata": {},
   "outputs": [],
   "source": [
    "vz = vectorizer.fit_transform(clean_Text)"
   ]
  },
  {
   "cell_type": "code",
   "execution_count": 40,
   "metadata": {},
   "outputs": [
    {
     "data": {
      "text/html": [
       "<div>\n",
       "<style scoped>\n",
       "    .dataframe tbody tr th:only-of-type {\n",
       "        vertical-align: middle;\n",
       "    }\n",
       "\n",
       "    .dataframe tbody tr th {\n",
       "        vertical-align: top;\n",
       "    }\n",
       "\n",
       "    .dataframe thead th {\n",
       "        text-align: right;\n",
       "    }\n",
       "</style>\n",
       "<table border=\"1\" class=\"dataframe\">\n",
       "  <thead>\n",
       "    <tr style=\"text-align: right;\">\n",
       "      <th></th>\n",
       "      <th>abandon</th>\n",
       "      <th>abil</th>\n",
       "      <th>abl</th>\n",
       "      <th>abort</th>\n",
       "      <th>abruptli</th>\n",
       "      <th>absolut</th>\n",
       "      <th>absorb</th>\n",
       "      <th>absurd</th>\n",
       "      <th>abus</th>\n",
       "      <th>academi</th>\n",
       "      <th>...</th>\n",
       "      <th>yellow</th>\n",
       "      <th>yet</th>\n",
       "      <th>york</th>\n",
       "      <th>young</th>\n",
       "      <th>younger</th>\n",
       "      <th>youth</th>\n",
       "      <th>zealand</th>\n",
       "      <th>zero</th>\n",
       "      <th>zombi</th>\n",
       "      <th>zone</th>\n",
       "    </tr>\n",
       "  </thead>\n",
       "  <tbody>\n",
       "    <tr>\n",
       "      <th>count</th>\n",
       "      <td>1000.000000</td>\n",
       "      <td>1000.000000</td>\n",
       "      <td>1000.000000</td>\n",
       "      <td>1000.000000</td>\n",
       "      <td>1000.000000</td>\n",
       "      <td>1000.000000</td>\n",
       "      <td>1000.000000</td>\n",
       "      <td>1000.000000</td>\n",
       "      <td>1000.000000</td>\n",
       "      <td>1000.000000</td>\n",
       "      <td>...</td>\n",
       "      <td>1000.000000</td>\n",
       "      <td>1000.000000</td>\n",
       "      <td>1000.000000</td>\n",
       "      <td>1000.000000</td>\n",
       "      <td>1000.000000</td>\n",
       "      <td>1000.000000</td>\n",
       "      <td>1000.000000</td>\n",
       "      <td>1000.000000</td>\n",
       "      <td>1000.000000</td>\n",
       "      <td>1000.000000</td>\n",
       "    </tr>\n",
       "    <tr>\n",
       "      <th>mean</th>\n",
       "      <td>0.000977</td>\n",
       "      <td>0.001973</td>\n",
       "      <td>0.004009</td>\n",
       "      <td>0.000340</td>\n",
       "      <td>0.000378</td>\n",
       "      <td>0.006585</td>\n",
       "      <td>0.000439</td>\n",
       "      <td>0.001341</td>\n",
       "      <td>0.001558</td>\n",
       "      <td>0.000980</td>\n",
       "      <td>...</td>\n",
       "      <td>0.000699</td>\n",
       "      <td>0.006569</td>\n",
       "      <td>0.001494</td>\n",
       "      <td>0.009333</td>\n",
       "      <td>0.001907</td>\n",
       "      <td>0.001529</td>\n",
       "      <td>0.000542</td>\n",
       "      <td>0.001683</td>\n",
       "      <td>0.002652</td>\n",
       "      <td>0.000576</td>\n",
       "    </tr>\n",
       "    <tr>\n",
       "      <th>std</th>\n",
       "      <td>0.009524</td>\n",
       "      <td>0.014873</td>\n",
       "      <td>0.020040</td>\n",
       "      <td>0.005809</td>\n",
       "      <td>0.006290</td>\n",
       "      <td>0.028103</td>\n",
       "      <td>0.007414</td>\n",
       "      <td>0.012828</td>\n",
       "      <td>0.014244</td>\n",
       "      <td>0.010858</td>\n",
       "      <td>...</td>\n",
       "      <td>0.010459</td>\n",
       "      <td>0.026095</td>\n",
       "      <td>0.013459</td>\n",
       "      <td>0.030770</td>\n",
       "      <td>0.015857</td>\n",
       "      <td>0.015009</td>\n",
       "      <td>0.009143</td>\n",
       "      <td>0.018678</td>\n",
       "      <td>0.025091</td>\n",
       "      <td>0.010307</td>\n",
       "    </tr>\n",
       "    <tr>\n",
       "      <th>min</th>\n",
       "      <td>0.000000</td>\n",
       "      <td>0.000000</td>\n",
       "      <td>0.000000</td>\n",
       "      <td>0.000000</td>\n",
       "      <td>0.000000</td>\n",
       "      <td>0.000000</td>\n",
       "      <td>0.000000</td>\n",
       "      <td>0.000000</td>\n",
       "      <td>0.000000</td>\n",
       "      <td>0.000000</td>\n",
       "      <td>...</td>\n",
       "      <td>0.000000</td>\n",
       "      <td>0.000000</td>\n",
       "      <td>0.000000</td>\n",
       "      <td>0.000000</td>\n",
       "      <td>0.000000</td>\n",
       "      <td>0.000000</td>\n",
       "      <td>0.000000</td>\n",
       "      <td>0.000000</td>\n",
       "      <td>0.000000</td>\n",
       "      <td>0.000000</td>\n",
       "    </tr>\n",
       "    <tr>\n",
       "      <th>25%</th>\n",
       "      <td>0.000000</td>\n",
       "      <td>0.000000</td>\n",
       "      <td>0.000000</td>\n",
       "      <td>0.000000</td>\n",
       "      <td>0.000000</td>\n",
       "      <td>0.000000</td>\n",
       "      <td>0.000000</td>\n",
       "      <td>0.000000</td>\n",
       "      <td>0.000000</td>\n",
       "      <td>0.000000</td>\n",
       "      <td>...</td>\n",
       "      <td>0.000000</td>\n",
       "      <td>0.000000</td>\n",
       "      <td>0.000000</td>\n",
       "      <td>0.000000</td>\n",
       "      <td>0.000000</td>\n",
       "      <td>0.000000</td>\n",
       "      <td>0.000000</td>\n",
       "      <td>0.000000</td>\n",
       "      <td>0.000000</td>\n",
       "      <td>0.000000</td>\n",
       "    </tr>\n",
       "    <tr>\n",
       "      <th>50%</th>\n",
       "      <td>0.000000</td>\n",
       "      <td>0.000000</td>\n",
       "      <td>0.000000</td>\n",
       "      <td>0.000000</td>\n",
       "      <td>0.000000</td>\n",
       "      <td>0.000000</td>\n",
       "      <td>0.000000</td>\n",
       "      <td>0.000000</td>\n",
       "      <td>0.000000</td>\n",
       "      <td>0.000000</td>\n",
       "      <td>...</td>\n",
       "      <td>0.000000</td>\n",
       "      <td>0.000000</td>\n",
       "      <td>0.000000</td>\n",
       "      <td>0.000000</td>\n",
       "      <td>0.000000</td>\n",
       "      <td>0.000000</td>\n",
       "      <td>0.000000</td>\n",
       "      <td>0.000000</td>\n",
       "      <td>0.000000</td>\n",
       "      <td>0.000000</td>\n",
       "    </tr>\n",
       "    <tr>\n",
       "      <th>75%</th>\n",
       "      <td>0.000000</td>\n",
       "      <td>0.000000</td>\n",
       "      <td>0.000000</td>\n",
       "      <td>0.000000</td>\n",
       "      <td>0.000000</td>\n",
       "      <td>0.000000</td>\n",
       "      <td>0.000000</td>\n",
       "      <td>0.000000</td>\n",
       "      <td>0.000000</td>\n",
       "      <td>0.000000</td>\n",
       "      <td>...</td>\n",
       "      <td>0.000000</td>\n",
       "      <td>0.000000</td>\n",
       "      <td>0.000000</td>\n",
       "      <td>0.000000</td>\n",
       "      <td>0.000000</td>\n",
       "      <td>0.000000</td>\n",
       "      <td>0.000000</td>\n",
       "      <td>0.000000</td>\n",
       "      <td>0.000000</td>\n",
       "      <td>0.000000</td>\n",
       "    </tr>\n",
       "    <tr>\n",
       "      <th>max</th>\n",
       "      <td>0.154152</td>\n",
       "      <td>0.222217</td>\n",
       "      <td>0.186257</td>\n",
       "      <td>0.144386</td>\n",
       "      <td>0.128237</td>\n",
       "      <td>0.359397</td>\n",
       "      <td>0.154714</td>\n",
       "      <td>0.201758</td>\n",
       "      <td>0.207390</td>\n",
       "      <td>0.151609</td>\n",
       "      <td>...</td>\n",
       "      <td>0.208828</td>\n",
       "      <td>0.233360</td>\n",
       "      <td>0.221056</td>\n",
       "      <td>0.282536</td>\n",
       "      <td>0.222938</td>\n",
       "      <td>0.279744</td>\n",
       "      <td>0.178531</td>\n",
       "      <td>0.327971</td>\n",
       "      <td>0.516511</td>\n",
       "      <td>0.271117</td>\n",
       "    </tr>\n",
       "  </tbody>\n",
       "</table>\n",
       "<p>8 rows × 3568 columns</p>\n",
       "</div>"
      ],
      "text/plain": [
       "           abandon         abil          abl        abort     abruptli  \\\n",
       "count  1000.000000  1000.000000  1000.000000  1000.000000  1000.000000   \n",
       "mean      0.000977     0.001973     0.004009     0.000340     0.000378   \n",
       "std       0.009524     0.014873     0.020040     0.005809     0.006290   \n",
       "min       0.000000     0.000000     0.000000     0.000000     0.000000   \n",
       "25%       0.000000     0.000000     0.000000     0.000000     0.000000   \n",
       "50%       0.000000     0.000000     0.000000     0.000000     0.000000   \n",
       "75%       0.000000     0.000000     0.000000     0.000000     0.000000   \n",
       "max       0.154152     0.222217     0.186257     0.144386     0.128237   \n",
       "\n",
       "           absolut       absorb       absurd         abus      academi  \\\n",
       "count  1000.000000  1000.000000  1000.000000  1000.000000  1000.000000   \n",
       "mean      0.006585     0.000439     0.001341     0.001558     0.000980   \n",
       "std       0.028103     0.007414     0.012828     0.014244     0.010858   \n",
       "min       0.000000     0.000000     0.000000     0.000000     0.000000   \n",
       "25%       0.000000     0.000000     0.000000     0.000000     0.000000   \n",
       "50%       0.000000     0.000000     0.000000     0.000000     0.000000   \n",
       "75%       0.000000     0.000000     0.000000     0.000000     0.000000   \n",
       "max       0.359397     0.154714     0.201758     0.207390     0.151609   \n",
       "\n",
       "          ...            yellow          yet         york        young  \\\n",
       "count     ...       1000.000000  1000.000000  1000.000000  1000.000000   \n",
       "mean      ...          0.000699     0.006569     0.001494     0.009333   \n",
       "std       ...          0.010459     0.026095     0.013459     0.030770   \n",
       "min       ...          0.000000     0.000000     0.000000     0.000000   \n",
       "25%       ...          0.000000     0.000000     0.000000     0.000000   \n",
       "50%       ...          0.000000     0.000000     0.000000     0.000000   \n",
       "75%       ...          0.000000     0.000000     0.000000     0.000000   \n",
       "max       ...          0.208828     0.233360     0.221056     0.282536   \n",
       "\n",
       "           younger        youth      zealand         zero        zombi  \\\n",
       "count  1000.000000  1000.000000  1000.000000  1000.000000  1000.000000   \n",
       "mean      0.001907     0.001529     0.000542     0.001683     0.002652   \n",
       "std       0.015857     0.015009     0.009143     0.018678     0.025091   \n",
       "min       0.000000     0.000000     0.000000     0.000000     0.000000   \n",
       "25%       0.000000     0.000000     0.000000     0.000000     0.000000   \n",
       "50%       0.000000     0.000000     0.000000     0.000000     0.000000   \n",
       "75%       0.000000     0.000000     0.000000     0.000000     0.000000   \n",
       "max       0.222938     0.279744     0.178531     0.327971     0.516511   \n",
       "\n",
       "              zone  \n",
       "count  1000.000000  \n",
       "mean      0.000576  \n",
       "std       0.010307  \n",
       "min       0.000000  \n",
       "25%       0.000000  \n",
       "50%       0.000000  \n",
       "75%       0.000000  \n",
       "max       0.271117  \n",
       "\n",
       "[8 rows x 3568 columns]"
      ]
     },
     "execution_count": 40,
     "metadata": {},
     "output_type": "execute_result"
    }
   ],
   "source": [
    "df = pd.DataFrame(vz.toarray(), columns = vectorizer.get_feature_names())\n",
    "df.describe()"
   ]
  },
  {
   "cell_type": "code",
   "execution_count": 41,
   "metadata": {},
   "outputs": [
    {
     "name": "stdout",
     "output_type": "stream",
     "text": [
      "Cluster 0:\n",
      "\n",
      "\n",
      "---------------\n",
      "--------------\n",
      "compound: -0.9757, \n",
      "\n",
      "\n",
      "neg: 0.184, \n",
      "\n",
      "\n",
      "neu: 0.652, \n",
      "\n",
      "\n",
      "pos: 0.164, \n",
      "\n",
      "\n",
      "--------------\n",
      "\n",
      "Cluster 1:\n",
      "\n",
      "\n",
      "---------------\n",
      "--------------\n",
      "compound: 0.9518, \n",
      "\n",
      "\n",
      "neg: 0.154, \n",
      "\n",
      "\n",
      "neu: 0.669, \n",
      "\n",
      "\n",
      "pos: 0.176, \n",
      "\n",
      "\n",
      "--------------\n",
      "\n"
     ]
    }
   ],
   "source": [
    "data = []\n",
    "num_clusters = 2\n",
    "kmeans_model = KMeans(n_clusters=num_clusters, init='k-means++', max_iter=100, n_init=1)\n",
    "kmeans = kmeans_model.fit(vz)\n",
    "kmeans_clusters = kmeans.predict(vz)\n",
    "kmeans_distances = kmeans.transform(vz)\n",
    "sorted_centroids = kmeans.cluster_centers_.argsort()[:, ::-1]\n",
    "terms = vectorizer.get_feature_names()\n",
    "for i in range(num_clusters):\n",
    "    data = []\n",
    "    print(\"Cluster %d:\" % i)\n",
    "    for j in sorted_centroids[i, :1000]:\n",
    "        data.append(terms[j])\n",
    "        #print(' %s' % terms[j])\n",
    "    text = \" \".join(data)\n",
    "    #print(text)\n",
    "    print(\"\\n\\n---------------\")\n",
    "    ss = Senti.polarity_scores(text)\n",
    "    print(\"--------------\")\n",
    "    for k in sorted(ss):\n",
    "        print('{0}: {1}, '.format(k, ss[k]))\n",
    "        print(\"\\n\")\n",
    "    print(\"--------------\")\n",
    "    print()"
   ]
  },
  {
   "cell_type": "code",
   "execution_count": 42,
   "metadata": {},
   "outputs": [
    {
     "name": "stdout",
     "output_type": "stream",
     "text": [
      "Cluster 0:\n",
      " movi\n",
      " nt\n",
      " one\n",
      " like\n",
      " watch\n",
      " bad\n",
      " good\n",
      " make\n",
      " realli\n",
      " time\n",
      " see\n",
      " would\n",
      " love\n",
      " scene\n",
      " charact\n",
      " stori\n",
      " great\n",
      " seen\n",
      " could\n",
      " act\n",
      " think\n",
      " even\n",
      " go\n",
      " get\n",
      " end\n",
      " ever\n",
      " first\n",
      " thing\n",
      " made\n",
      " plot\n",
      "Cluster 1:\n",
      " film\n",
      " nt\n",
      " one\n",
      " like\n",
      " charact\n",
      " movi\n",
      " show\n",
      " time\n",
      " great\n",
      " good\n",
      " get\n",
      " even\n",
      " well\n",
      " watch\n",
      " stori\n",
      " make\n",
      " would\n",
      " scene\n",
      " see\n",
      " realli\n",
      " much\n",
      " go\n",
      " play\n",
      " also\n",
      " peopl\n",
      " end\n",
      " love\n",
      " think\n",
      " first\n",
      " work\n"
     ]
    }
   ],
   "source": [
    "# top words per cluster\n",
    "order_centroids = kmeans.cluster_centers_.argsort()[:, ::-1]\n",
    "terms = vectorizer.get_feature_names()\n",
    "for i in range(2):\n",
    "    print(\"Cluster %d:\" % i),\n",
    "    for ind in order_centroids[i, :30]:\n",
    "        print(' %s' % terms[ind])"
   ]
  },
  {
   "cell_type": "markdown",
   "metadata": {},
   "source": [
    "### In above clustering it can be seen that cluster 0 is having mostly negative and cluster 1 has positive data"
   ]
  },
  {
   "cell_type": "markdown",
   "metadata": {},
   "source": [
    "# Phase 3:\n",
    "\n",
    "> In this phase we are going to perform following activities\n",
    "1. Create a word cloud with positive and negative words after cleansing\n",
    "2. Visualise the positive and negative words distribution (Hint: Histogram)\n",
    "2. Repeat visualization step 1 & 2 after feature selection and note the impact (Bonus)"
   ]
  },
  {
   "cell_type": "markdown",
   "metadata": {},
   "source": [
    "----------------------------\n",
    "# Creating Word cloud of POS and NEG words after cleansing"
   ]
  },
  {
   "cell_type": "code",
   "execution_count": 43,
   "metadata": {},
   "outputs": [],
   "source": [
    "rindex =  np.array(sample(range(len(imdb_review)), 1000)) \n",
    "# we are taking only 1000 rows randomly exclude this to check with full data\n",
    "imdb_review_bkp= copy.deepcopy(imdb_review.iloc[rindex])\n",
    "\n",
    "#mdb_review_bkp= copy.deepcopy(imdb_review) # taking full dataset instead of 1000 rows"
   ]
  },
  {
   "cell_type": "code",
   "execution_count": 44,
   "metadata": {},
   "outputs": [],
   "source": [
    "positive_full = imdb_review_bkp[imdb_review_bkp['Label']==\"pos\"]\n",
    "neg_full = imdb_review_bkp[imdb_review_bkp[\"Label\"]==\"neg\"]"
   ]
  },
  {
   "cell_type": "code",
   "execution_count": 45,
   "metadata": {
    "scrolled": false
   },
   "outputs": [],
   "source": [
    "pos_rev_list = []\n",
    "for review in positive_full.Review:\n",
    "    pos_rev_list.append(text_process(review))"
   ]
  },
  {
   "cell_type": "code",
   "execution_count": 46,
   "metadata": {},
   "outputs": [
    {
     "data": {
      "text/plain": [
       "263"
      ]
     },
     "execution_count": 46,
     "metadata": {},
     "output_type": "execute_result"
    }
   ],
   "source": [
    "len(pos_rev_list)"
   ]
  },
  {
   "cell_type": "code",
   "execution_count": 47,
   "metadata": {},
   "outputs": [],
   "source": [
    "positive_full_review = \" \".join(pos_rev_list)"
   ]
  },
  {
   "cell_type": "code",
   "execution_count": 48,
   "metadata": {},
   "outputs": [
    {
     "data": {
      "text/plain": [
       "196269"
      ]
     },
     "execution_count": 48,
     "metadata": {},
     "output_type": "execute_result"
    }
   ],
   "source": [
    "len(positive_full_review)"
   ]
  },
  {
   "cell_type": "code",
   "execution_count": 49,
   "metadata": {},
   "outputs": [],
   "source": [
    "from wordcloud import WordCloud"
   ]
  },
  {
   "cell_type": "code",
   "execution_count": 50,
   "metadata": {},
   "outputs": [],
   "source": [
    "positive_full_review_wc = WordCloud().generate(positive_full_review)"
   ]
  },
  {
   "cell_type": "code",
   "execution_count": 51,
   "metadata": {},
   "outputs": [
    {
     "data": {
      "image/png": "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\n",
      "text/plain": [
       "<Figure size 1080x720 with 1 Axes>"
      ]
     },
     "metadata": {},
     "output_type": "display_data"
    }
   ],
   "source": [
    "import matplotlib.pyplot as plt\n",
    "plt.figure(figsize=(15,10))\n",
    "plt.title(\"POSITIVE REVIEW WORD CLOUD\")\n",
    "plt.imshow(positive_full_review_wc)\n",
    "plt.show()"
   ]
  },
  {
   "cell_type": "code",
   "execution_count": 52,
   "metadata": {},
   "outputs": [],
   "source": [
    "neg_rev_list = []\n",
    "for review in neg_full.Review:\n",
    "    neg_rev_list.append(text_process(review))"
   ]
  },
  {
   "cell_type": "code",
   "execution_count": 53,
   "metadata": {},
   "outputs": [
    {
     "data": {
      "text/plain": [
       "238"
      ]
     },
     "execution_count": 53,
     "metadata": {},
     "output_type": "execute_result"
    }
   ],
   "source": [
    "len(neg_rev_list)"
   ]
  },
  {
   "cell_type": "code",
   "execution_count": 54,
   "metadata": {},
   "outputs": [
    {
     "data": {
      "text/plain": [
       "166620"
      ]
     },
     "execution_count": 54,
     "metadata": {},
     "output_type": "execute_result"
    }
   ],
   "source": [
    "neg_full_review = \" \".join(neg_rev_list)\n",
    "\n",
    "len(neg_full_review)"
   ]
  },
  {
   "cell_type": "code",
   "execution_count": 55,
   "metadata": {},
   "outputs": [
    {
     "data": {
      "image/png": "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\n",
      "text/plain": [
       "<Figure size 1080x720 with 1 Axes>"
      ]
     },
     "metadata": {},
     "output_type": "display_data"
    }
   ],
   "source": [
    "neg_full_review_wc = WordCloud().generate(neg_full_review)\n",
    "\n",
    "plt.figure(figsize=(15,10))\n",
    "plt.title(\"NEGATIVE REVIEW WORD CLOUD\")\n",
    "plt.imshow(neg_full_review_wc)\n",
    "plt.show()"
   ]
  },
  {
   "cell_type": "markdown",
   "metadata": {},
   "source": [
    "----------------\n",
    "----------------\n",
    "# Generating Histogram of POS and NEG words"
   ]
  },
  {
   "cell_type": "code",
   "execution_count": 56,
   "metadata": {
    "scrolled": true
   },
   "outputs": [
    {
     "data": {
      "text/html": [
       "<div>\n",
       "<style scoped>\n",
       "    .dataframe tbody tr th:only-of-type {\n",
       "        vertical-align: middle;\n",
       "    }\n",
       "\n",
       "    .dataframe tbody tr th {\n",
       "        vertical-align: top;\n",
       "    }\n",
       "\n",
       "    .dataframe thead th {\n",
       "        text-align: right;\n",
       "    }\n",
       "</style>\n",
       "<table border=\"1\" class=\"dataframe\">\n",
       "  <thead>\n",
       "    <tr style=\"text-align: right;\">\n",
       "      <th></th>\n",
       "      <th>aaa</th>\n",
       "      <th>abandon</th>\n",
       "      <th>abduct</th>\n",
       "      <th>abe</th>\n",
       "      <th>abid</th>\n",
       "      <th>abigail</th>\n",
       "      <th>abil</th>\n",
       "      <th>abl</th>\n",
       "      <th>abnorm</th>\n",
       "      <th>aboard</th>\n",
       "      <th>...</th>\n",
       "      <th>zhang</th>\n",
       "      <th>zidi</th>\n",
       "      <th>zod</th>\n",
       "      <th>zola</th>\n",
       "      <th>zombiez</th>\n",
       "      <th>zone</th>\n",
       "      <th>zoom</th>\n",
       "      <th>zorn</th>\n",
       "      <th>zwick</th>\n",
       "      <th>â½</th>\n",
       "    </tr>\n",
       "  </thead>\n",
       "  <tbody>\n",
       "    <tr>\n",
       "      <th>0</th>\n",
       "      <td>0</td>\n",
       "      <td>0</td>\n",
       "      <td>0</td>\n",
       "      <td>0</td>\n",
       "      <td>0</td>\n",
       "      <td>0</td>\n",
       "      <td>0</td>\n",
       "      <td>0</td>\n",
       "      <td>0</td>\n",
       "      <td>0</td>\n",
       "      <td>...</td>\n",
       "      <td>0</td>\n",
       "      <td>0</td>\n",
       "      <td>0</td>\n",
       "      <td>0</td>\n",
       "      <td>0</td>\n",
       "      <td>0</td>\n",
       "      <td>0</td>\n",
       "      <td>0</td>\n",
       "      <td>0</td>\n",
       "      <td>0</td>\n",
       "    </tr>\n",
       "    <tr>\n",
       "      <th>1</th>\n",
       "      <td>0</td>\n",
       "      <td>0</td>\n",
       "      <td>0</td>\n",
       "      <td>0</td>\n",
       "      <td>0</td>\n",
       "      <td>0</td>\n",
       "      <td>0</td>\n",
       "      <td>0</td>\n",
       "      <td>0</td>\n",
       "      <td>0</td>\n",
       "      <td>...</td>\n",
       "      <td>0</td>\n",
       "      <td>0</td>\n",
       "      <td>0</td>\n",
       "      <td>0</td>\n",
       "      <td>0</td>\n",
       "      <td>0</td>\n",
       "      <td>0</td>\n",
       "      <td>0</td>\n",
       "      <td>0</td>\n",
       "      <td>0</td>\n",
       "    </tr>\n",
       "    <tr>\n",
       "      <th>2</th>\n",
       "      <td>0</td>\n",
       "      <td>0</td>\n",
       "      <td>0</td>\n",
       "      <td>0</td>\n",
       "      <td>0</td>\n",
       "      <td>0</td>\n",
       "      <td>0</td>\n",
       "      <td>0</td>\n",
       "      <td>0</td>\n",
       "      <td>0</td>\n",
       "      <td>...</td>\n",
       "      <td>0</td>\n",
       "      <td>0</td>\n",
       "      <td>0</td>\n",
       "      <td>0</td>\n",
       "      <td>0</td>\n",
       "      <td>0</td>\n",
       "      <td>0</td>\n",
       "      <td>0</td>\n",
       "      <td>0</td>\n",
       "      <td>0</td>\n",
       "    </tr>\n",
       "    <tr>\n",
       "      <th>3</th>\n",
       "      <td>0</td>\n",
       "      <td>0</td>\n",
       "      <td>0</td>\n",
       "      <td>0</td>\n",
       "      <td>0</td>\n",
       "      <td>0</td>\n",
       "      <td>0</td>\n",
       "      <td>0</td>\n",
       "      <td>0</td>\n",
       "      <td>0</td>\n",
       "      <td>...</td>\n",
       "      <td>0</td>\n",
       "      <td>0</td>\n",
       "      <td>0</td>\n",
       "      <td>0</td>\n",
       "      <td>0</td>\n",
       "      <td>0</td>\n",
       "      <td>0</td>\n",
       "      <td>0</td>\n",
       "      <td>0</td>\n",
       "      <td>0</td>\n",
       "    </tr>\n",
       "    <tr>\n",
       "      <th>4</th>\n",
       "      <td>0</td>\n",
       "      <td>0</td>\n",
       "      <td>0</td>\n",
       "      <td>0</td>\n",
       "      <td>0</td>\n",
       "      <td>0</td>\n",
       "      <td>0</td>\n",
       "      <td>0</td>\n",
       "      <td>0</td>\n",
       "      <td>0</td>\n",
       "      <td>...</td>\n",
       "      <td>0</td>\n",
       "      <td>0</td>\n",
       "      <td>0</td>\n",
       "      <td>0</td>\n",
       "      <td>0</td>\n",
       "      <td>0</td>\n",
       "      <td>0</td>\n",
       "      <td>0</td>\n",
       "      <td>0</td>\n",
       "      <td>0</td>\n",
       "    </tr>\n",
       "  </tbody>\n",
       "</table>\n",
       "<p>5 rows × 6098 columns</p>\n",
       "</div>"
      ],
      "text/plain": [
       "   aaa  abandon  abduct  abe  abid  abigail  abil  abl  abnorm  aboard ...  \\\n",
       "0    0        0       0    0     0        0     0    0       0       0 ...   \n",
       "1    0        0       0    0     0        0     0    0       0       0 ...   \n",
       "2    0        0       0    0     0        0     0    0       0       0 ...   \n",
       "3    0        0       0    0     0        0     0    0       0       0 ...   \n",
       "4    0        0       0    0     0        0     0    0       0       0 ...   \n",
       "\n",
       "   zhang  zidi  zod  zola  zombiez  zone  zoom  zorn  zwick  â½  \n",
       "0      0     0    0     0        0     0     0     0      0   0  \n",
       "1      0     0    0     0        0     0     0     0      0   0  \n",
       "2      0     0    0     0        0     0     0     0      0   0  \n",
       "3      0     0    0     0        0     0     0     0      0   0  \n",
       "4      0     0    0     0        0     0     0     0      0   0  \n",
       "\n",
       "[5 rows x 6098 columns]"
      ]
     },
     "execution_count": 56,
     "metadata": {},
     "output_type": "execute_result"
    }
   ],
   "source": [
    "cv = CountVectorizer()\n",
    "pos_hist_reviwes_bkp = pd.DataFrame(cv.fit_transform(pos_rev_list).toarray(), columns=cv.get_feature_names())\n",
    "pos_hist_reviwes_bkp.head()\n"
   ]
  },
  {
   "cell_type": "code",
   "execution_count": 57,
   "metadata": {},
   "outputs": [
    {
     "data": {
      "text/html": [
       "<div>\n",
       "<style scoped>\n",
       "    .dataframe tbody tr th:only-of-type {\n",
       "        vertical-align: middle;\n",
       "    }\n",
       "\n",
       "    .dataframe tbody tr th {\n",
       "        vertical-align: top;\n",
       "    }\n",
       "\n",
       "    .dataframe thead th {\n",
       "        text-align: right;\n",
       "    }\n",
       "</style>\n",
       "<table border=\"1\" class=\"dataframe\">\n",
       "  <thead>\n",
       "    <tr style=\"text-align: right;\">\n",
       "      <th></th>\n",
       "      <th>aaa</th>\n",
       "      <th>abandon</th>\n",
       "      <th>abduct</th>\n",
       "      <th>abe</th>\n",
       "      <th>abid</th>\n",
       "      <th>abigail</th>\n",
       "      <th>abil</th>\n",
       "      <th>abl</th>\n",
       "      <th>abnorm</th>\n",
       "      <th>aboard</th>\n",
       "      <th>...</th>\n",
       "      <th>zhang</th>\n",
       "      <th>zidi</th>\n",
       "      <th>zod</th>\n",
       "      <th>zola</th>\n",
       "      <th>zombiez</th>\n",
       "      <th>zone</th>\n",
       "      <th>zoom</th>\n",
       "      <th>zorn</th>\n",
       "      <th>zwick</th>\n",
       "      <th>â½</th>\n",
       "    </tr>\n",
       "  </thead>\n",
       "  <tbody>\n",
       "    <tr>\n",
       "      <th>0</th>\n",
       "      <td>0</td>\n",
       "      <td>0</td>\n",
       "      <td>0</td>\n",
       "      <td>0</td>\n",
       "      <td>0</td>\n",
       "      <td>0</td>\n",
       "      <td>0</td>\n",
       "      <td>0</td>\n",
       "      <td>0</td>\n",
       "      <td>0</td>\n",
       "      <td>...</td>\n",
       "      <td>0</td>\n",
       "      <td>0</td>\n",
       "      <td>0</td>\n",
       "      <td>0</td>\n",
       "      <td>0</td>\n",
       "      <td>0</td>\n",
       "      <td>0</td>\n",
       "      <td>0</td>\n",
       "      <td>0</td>\n",
       "      <td>0</td>\n",
       "    </tr>\n",
       "    <tr>\n",
       "      <th>1</th>\n",
       "      <td>0</td>\n",
       "      <td>0</td>\n",
       "      <td>0</td>\n",
       "      <td>0</td>\n",
       "      <td>0</td>\n",
       "      <td>0</td>\n",
       "      <td>0</td>\n",
       "      <td>0</td>\n",
       "      <td>0</td>\n",
       "      <td>0</td>\n",
       "      <td>...</td>\n",
       "      <td>0</td>\n",
       "      <td>0</td>\n",
       "      <td>0</td>\n",
       "      <td>0</td>\n",
       "      <td>0</td>\n",
       "      <td>0</td>\n",
       "      <td>0</td>\n",
       "      <td>0</td>\n",
       "      <td>0</td>\n",
       "      <td>0</td>\n",
       "    </tr>\n",
       "    <tr>\n",
       "      <th>2</th>\n",
       "      <td>0</td>\n",
       "      <td>0</td>\n",
       "      <td>0</td>\n",
       "      <td>0</td>\n",
       "      <td>0</td>\n",
       "      <td>0</td>\n",
       "      <td>0</td>\n",
       "      <td>0</td>\n",
       "      <td>0</td>\n",
       "      <td>0</td>\n",
       "      <td>...</td>\n",
       "      <td>0</td>\n",
       "      <td>0</td>\n",
       "      <td>0</td>\n",
       "      <td>0</td>\n",
       "      <td>0</td>\n",
       "      <td>0</td>\n",
       "      <td>0</td>\n",
       "      <td>0</td>\n",
       "      <td>0</td>\n",
       "      <td>0</td>\n",
       "    </tr>\n",
       "    <tr>\n",
       "      <th>3</th>\n",
       "      <td>0</td>\n",
       "      <td>0</td>\n",
       "      <td>0</td>\n",
       "      <td>0</td>\n",
       "      <td>0</td>\n",
       "      <td>0</td>\n",
       "      <td>0</td>\n",
       "      <td>0</td>\n",
       "      <td>0</td>\n",
       "      <td>0</td>\n",
       "      <td>...</td>\n",
       "      <td>0</td>\n",
       "      <td>0</td>\n",
       "      <td>0</td>\n",
       "      <td>0</td>\n",
       "      <td>0</td>\n",
       "      <td>0</td>\n",
       "      <td>0</td>\n",
       "      <td>0</td>\n",
       "      <td>0</td>\n",
       "      <td>0</td>\n",
       "    </tr>\n",
       "    <tr>\n",
       "      <th>4</th>\n",
       "      <td>0</td>\n",
       "      <td>0</td>\n",
       "      <td>0</td>\n",
       "      <td>0</td>\n",
       "      <td>0</td>\n",
       "      <td>0</td>\n",
       "      <td>0</td>\n",
       "      <td>0</td>\n",
       "      <td>0</td>\n",
       "      <td>0</td>\n",
       "      <td>...</td>\n",
       "      <td>0</td>\n",
       "      <td>0</td>\n",
       "      <td>0</td>\n",
       "      <td>0</td>\n",
       "      <td>0</td>\n",
       "      <td>0</td>\n",
       "      <td>0</td>\n",
       "      <td>0</td>\n",
       "      <td>0</td>\n",
       "      <td>0</td>\n",
       "    </tr>\n",
       "  </tbody>\n",
       "</table>\n",
       "<p>5 rows × 6098 columns</p>\n",
       "</div>"
      ],
      "text/plain": [
       "   aaa  abandon  abduct  abe  abid  abigail  abil  abl  abnorm  aboard ...  \\\n",
       "0    0        0       0    0     0        0     0    0       0       0 ...   \n",
       "1    0        0       0    0     0        0     0    0       0       0 ...   \n",
       "2    0        0       0    0     0        0     0    0       0       0 ...   \n",
       "3    0        0       0    0     0        0     0    0       0       0 ...   \n",
       "4    0        0       0    0     0        0     0    0       0       0 ...   \n",
       "\n",
       "   zhang  zidi  zod  zola  zombiez  zone  zoom  zorn  zwick  â½  \n",
       "0      0     0    0     0        0     0     0     0      0   0  \n",
       "1      0     0    0     0        0     0     0     0      0   0  \n",
       "2      0     0    0     0        0     0     0     0      0   0  \n",
       "3      0     0    0     0        0     0     0     0      0   0  \n",
       "4      0     0    0     0        0     0     0     0      0   0  \n",
       "\n",
       "[5 rows x 6098 columns]"
      ]
     },
     "execution_count": 57,
     "metadata": {},
     "output_type": "execute_result"
    }
   ],
   "source": [
    "pos_hist_reviwes_bkp.head()"
   ]
  },
  {
   "cell_type": "code",
   "execution_count": 58,
   "metadata": {},
   "outputs": [
    {
     "data": {
      "text/html": [
       "<div>\n",
       "<style scoped>\n",
       "    .dataframe tbody tr th:only-of-type {\n",
       "        vertical-align: middle;\n",
       "    }\n",
       "\n",
       "    .dataframe tbody tr th {\n",
       "        vertical-align: top;\n",
       "    }\n",
       "\n",
       "    .dataframe thead th {\n",
       "        text-align: right;\n",
       "    }\n",
       "</style>\n",
       "<table border=\"1\" class=\"dataframe\">\n",
       "  <thead>\n",
       "    <tr style=\"text-align: right;\">\n",
       "      <th></th>\n",
       "      <th>word</th>\n",
       "      <th>freq</th>\n",
       "    </tr>\n",
       "  </thead>\n",
       "  <tbody>\n",
       "    <tr>\n",
       "      <th>0</th>\n",
       "      <td>aaa</td>\n",
       "      <td>1</td>\n",
       "    </tr>\n",
       "    <tr>\n",
       "      <th>1</th>\n",
       "      <td>abandon</td>\n",
       "      <td>4</td>\n",
       "    </tr>\n",
       "    <tr>\n",
       "      <th>2</th>\n",
       "      <td>abduct</td>\n",
       "      <td>2</td>\n",
       "    </tr>\n",
       "    <tr>\n",
       "      <th>3</th>\n",
       "      <td>abe</td>\n",
       "      <td>2</td>\n",
       "    </tr>\n",
       "    <tr>\n",
       "      <th>4</th>\n",
       "      <td>abid</td>\n",
       "      <td>1</td>\n",
       "    </tr>\n",
       "  </tbody>\n",
       "</table>\n",
       "</div>"
      ],
      "text/plain": [
       "      word  freq\n",
       "0      aaa     1\n",
       "1  abandon     4\n",
       "2   abduct     2\n",
       "3      abe     2\n",
       "4     abid     1"
      ]
     },
     "execution_count": 58,
     "metadata": {},
     "output_type": "execute_result"
    }
   ],
   "source": [
    "a = dict()\n",
    "for i in pos_hist_reviwes_bkp.columns:\n",
    "    a[i]= pos_hist_reviwes_bkp[i].sum()\n",
    "pos_data = pd.DataFrame(list(a.items()),columns=['word','freq'])\n",
    "pos_data.head()"
   ]
  },
  {
   "cell_type": "code",
   "execution_count": 59,
   "metadata": {},
   "outputs": [
    {
     "data": {
      "text/html": [
       "<div>\n",
       "<style scoped>\n",
       "    .dataframe tbody tr th:only-of-type {\n",
       "        vertical-align: middle;\n",
       "    }\n",
       "\n",
       "    .dataframe tbody tr th {\n",
       "        vertical-align: top;\n",
       "    }\n",
       "\n",
       "    .dataframe thead th {\n",
       "        text-align: right;\n",
       "    }\n",
       "</style>\n",
       "<table border=\"1\" class=\"dataframe\">\n",
       "  <thead>\n",
       "    <tr style=\"text-align: right;\">\n",
       "      <th></th>\n",
       "      <th>word</th>\n",
       "      <th>freq</th>\n",
       "    </tr>\n",
       "  </thead>\n",
       "  <tbody>\n",
       "    <tr>\n",
       "      <th>0</th>\n",
       "      <td>aaa</td>\n",
       "      <td>1</td>\n",
       "    </tr>\n",
       "    <tr>\n",
       "      <th>3375</th>\n",
       "      <td>mayport</td>\n",
       "      <td>1</td>\n",
       "    </tr>\n",
       "    <tr>\n",
       "      <th>3377</th>\n",
       "      <td>mcclori</td>\n",
       "      <td>1</td>\n",
       "    </tr>\n",
       "    <tr>\n",
       "      <th>3378</th>\n",
       "      <td>mccowen</td>\n",
       "      <td>1</td>\n",
       "    </tr>\n",
       "    <tr>\n",
       "      <th>3379</th>\n",
       "      <td>mccoy</td>\n",
       "      <td>1</td>\n",
       "    </tr>\n",
       "  </tbody>\n",
       "</table>\n",
       "</div>"
      ],
      "text/plain": [
       "         word  freq\n",
       "0         aaa     1\n",
       "3375  mayport     1\n",
       "3377  mcclori     1\n",
       "3378  mccowen     1\n",
       "3379    mccoy     1"
      ]
     },
     "execution_count": 59,
     "metadata": {},
     "output_type": "execute_result"
    }
   ],
   "source": [
    "pos_data.sort_values('freq',inplace=True)\n",
    "pos_data.head()\n"
   ]
  },
  {
   "cell_type": "code",
   "execution_count": 60,
   "metadata": {},
   "outputs": [
    {
     "name": "stdout",
     "output_type": "stream",
     "text": [
      "[72, 72, 72, 73, 74, 76, 77, 77, 81, 82, 82, 85, 85, 85, 88, 90, 96, 97, 97, 98, 99, 99, 100, 101, 104, 105, 107, 110, 113, 114, 123, 123, 128, 131, 133, 134, 137, 142, 144, 148, 153, 166, 172, 178, 186, 233, 291, 300, 529, 548]\n"
     ]
    },
    {
     "data": {
      "image/png": "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\n",
      "text/plain": [
       "<Figure size 1440x1440 with 1 Axes>"
      ]
     },
     "metadata": {},
     "output_type": "display_data"
    }
   ],
   "source": [
    "word = list(pos_data[-50:].word)\n",
    "frequency = list(pos_data[-50:].freq)\n",
    "print(frequency)\n",
    "indices = np.arange(len(pos_data[-50:]))\n",
    "plt.figure(figsize=(20,20))\n",
    "plt.title(\"First 50 features in positive reviwes\",fontsize = 20)\n",
    "plt.bar(indices, frequency, color='r')\n",
    "plt.xticks(indices, word, rotation='vertical',fontsize=20)\n",
    "plt.tight_layout()\n",
    "plt.show()\n",
    "#random 50 words"
   ]
  },
  {
   "cell_type": "code",
   "execution_count": 61,
   "metadata": {},
   "outputs": [
    {
     "data": {
      "text/html": [
       "<div>\n",
       "<style scoped>\n",
       "    .dataframe tbody tr th:only-of-type {\n",
       "        vertical-align: middle;\n",
       "    }\n",
       "\n",
       "    .dataframe tbody tr th {\n",
       "        vertical-align: top;\n",
       "    }\n",
       "\n",
       "    .dataframe thead th {\n",
       "        text-align: right;\n",
       "    }\n",
       "</style>\n",
       "<table border=\"1\" class=\"dataframe\">\n",
       "  <thead>\n",
       "    <tr style=\"text-align: right;\">\n",
       "      <th></th>\n",
       "      <th>aaargh</th>\n",
       "      <th>ab</th>\n",
       "      <th>abandon</th>\n",
       "      <th>abduct</th>\n",
       "      <th>abdul</th>\n",
       "      <th>abecassi</th>\n",
       "      <th>abid</th>\n",
       "      <th>abil</th>\n",
       "      <th>abl</th>\n",
       "      <th>abli</th>\n",
       "      <th>...</th>\n",
       "      <th>zir</th>\n",
       "      <th>zit</th>\n",
       "      <th>zo</th>\n",
       "      <th>zoe</th>\n",
       "      <th>zombi</th>\n",
       "      <th>zomez</th>\n",
       "      <th>zone</th>\n",
       "      <th>zoom</th>\n",
       "      <th>zucker</th>\n",
       "      <th>zuckert</th>\n",
       "    </tr>\n",
       "  </thead>\n",
       "  <tbody>\n",
       "    <tr>\n",
       "      <th>0</th>\n",
       "      <td>0</td>\n",
       "      <td>0</td>\n",
       "      <td>0</td>\n",
       "      <td>0</td>\n",
       "      <td>0</td>\n",
       "      <td>0</td>\n",
       "      <td>0</td>\n",
       "      <td>0</td>\n",
       "      <td>0</td>\n",
       "      <td>0</td>\n",
       "      <td>...</td>\n",
       "      <td>0</td>\n",
       "      <td>0</td>\n",
       "      <td>0</td>\n",
       "      <td>0</td>\n",
       "      <td>0</td>\n",
       "      <td>0</td>\n",
       "      <td>0</td>\n",
       "      <td>0</td>\n",
       "      <td>0</td>\n",
       "      <td>0</td>\n",
       "    </tr>\n",
       "    <tr>\n",
       "      <th>1</th>\n",
       "      <td>0</td>\n",
       "      <td>0</td>\n",
       "      <td>0</td>\n",
       "      <td>0</td>\n",
       "      <td>0</td>\n",
       "      <td>0</td>\n",
       "      <td>0</td>\n",
       "      <td>0</td>\n",
       "      <td>0</td>\n",
       "      <td>0</td>\n",
       "      <td>...</td>\n",
       "      <td>0</td>\n",
       "      <td>0</td>\n",
       "      <td>0</td>\n",
       "      <td>0</td>\n",
       "      <td>0</td>\n",
       "      <td>0</td>\n",
       "      <td>0</td>\n",
       "      <td>0</td>\n",
       "      <td>0</td>\n",
       "      <td>0</td>\n",
       "    </tr>\n",
       "    <tr>\n",
       "      <th>2</th>\n",
       "      <td>0</td>\n",
       "      <td>0</td>\n",
       "      <td>0</td>\n",
       "      <td>0</td>\n",
       "      <td>0</td>\n",
       "      <td>0</td>\n",
       "      <td>0</td>\n",
       "      <td>0</td>\n",
       "      <td>0</td>\n",
       "      <td>0</td>\n",
       "      <td>...</td>\n",
       "      <td>0</td>\n",
       "      <td>0</td>\n",
       "      <td>0</td>\n",
       "      <td>0</td>\n",
       "      <td>0</td>\n",
       "      <td>0</td>\n",
       "      <td>0</td>\n",
       "      <td>0</td>\n",
       "      <td>0</td>\n",
       "      <td>0</td>\n",
       "    </tr>\n",
       "    <tr>\n",
       "      <th>3</th>\n",
       "      <td>0</td>\n",
       "      <td>0</td>\n",
       "      <td>0</td>\n",
       "      <td>0</td>\n",
       "      <td>0</td>\n",
       "      <td>0</td>\n",
       "      <td>0</td>\n",
       "      <td>0</td>\n",
       "      <td>0</td>\n",
       "      <td>0</td>\n",
       "      <td>...</td>\n",
       "      <td>0</td>\n",
       "      <td>0</td>\n",
       "      <td>0</td>\n",
       "      <td>0</td>\n",
       "      <td>0</td>\n",
       "      <td>0</td>\n",
       "      <td>0</td>\n",
       "      <td>0</td>\n",
       "      <td>0</td>\n",
       "      <td>0</td>\n",
       "    </tr>\n",
       "    <tr>\n",
       "      <th>4</th>\n",
       "      <td>0</td>\n",
       "      <td>0</td>\n",
       "      <td>0</td>\n",
       "      <td>0</td>\n",
       "      <td>0</td>\n",
       "      <td>0</td>\n",
       "      <td>0</td>\n",
       "      <td>0</td>\n",
       "      <td>0</td>\n",
       "      <td>0</td>\n",
       "      <td>...</td>\n",
       "      <td>0</td>\n",
       "      <td>0</td>\n",
       "      <td>0</td>\n",
       "      <td>0</td>\n",
       "      <td>0</td>\n",
       "      <td>0</td>\n",
       "      <td>0</td>\n",
       "      <td>0</td>\n",
       "      <td>0</td>\n",
       "      <td>0</td>\n",
       "    </tr>\n",
       "  </tbody>\n",
       "</table>\n",
       "<p>5 rows × 5412 columns</p>\n",
       "</div>"
      ],
      "text/plain": [
       "   aaargh  ab  abandon  abduct  abdul  abecassi  abid  abil  abl  abli  \\\n",
       "0       0   0        0       0      0         0     0     0    0     0   \n",
       "1       0   0        0       0      0         0     0     0    0     0   \n",
       "2       0   0        0       0      0         0     0     0    0     0   \n",
       "3       0   0        0       0      0         0     0     0    0     0   \n",
       "4       0   0        0       0      0         0     0     0    0     0   \n",
       "\n",
       "    ...     zir  zit  zo  zoe  zombi  zomez  zone  zoom  zucker  zuckert  \n",
       "0   ...       0    0   0    0      0      0     0     0       0        0  \n",
       "1   ...       0    0   0    0      0      0     0     0       0        0  \n",
       "2   ...       0    0   0    0      0      0     0     0       0        0  \n",
       "3   ...       0    0   0    0      0      0     0     0       0        0  \n",
       "4   ...       0    0   0    0      0      0     0     0       0        0  \n",
       "\n",
       "[5 rows x 5412 columns]"
      ]
     },
     "execution_count": 61,
     "metadata": {},
     "output_type": "execute_result"
    }
   ],
   "source": [
    "cv = CountVectorizer()\n",
    "neg_hist_reviwes_bkp = pd.DataFrame(cv.fit_transform(neg_rev_list).toarray(), columns=cv.get_feature_names())\n",
    "neg_hist_reviwes_bkp.head()\n"
   ]
  },
  {
   "cell_type": "code",
   "execution_count": 62,
   "metadata": {},
   "outputs": [
    {
     "data": {
      "text/html": [
       "<div>\n",
       "<style scoped>\n",
       "    .dataframe tbody tr th:only-of-type {\n",
       "        vertical-align: middle;\n",
       "    }\n",
       "\n",
       "    .dataframe tbody tr th {\n",
       "        vertical-align: top;\n",
       "    }\n",
       "\n",
       "    .dataframe thead th {\n",
       "        text-align: right;\n",
       "    }\n",
       "</style>\n",
       "<table border=\"1\" class=\"dataframe\">\n",
       "  <thead>\n",
       "    <tr style=\"text-align: right;\">\n",
       "      <th></th>\n",
       "      <th>word</th>\n",
       "      <th>freq</th>\n",
       "    </tr>\n",
       "  </thead>\n",
       "  <tbody>\n",
       "    <tr>\n",
       "      <th>0</th>\n",
       "      <td>aaargh</td>\n",
       "      <td>1</td>\n",
       "    </tr>\n",
       "    <tr>\n",
       "      <th>1</th>\n",
       "      <td>ab</td>\n",
       "      <td>1</td>\n",
       "    </tr>\n",
       "    <tr>\n",
       "      <th>2</th>\n",
       "      <td>abandon</td>\n",
       "      <td>2</td>\n",
       "    </tr>\n",
       "    <tr>\n",
       "      <th>3</th>\n",
       "      <td>abduct</td>\n",
       "      <td>1</td>\n",
       "    </tr>\n",
       "    <tr>\n",
       "      <th>4</th>\n",
       "      <td>abdul</td>\n",
       "      <td>1</td>\n",
       "    </tr>\n",
       "  </tbody>\n",
       "</table>\n",
       "</div>"
      ],
      "text/plain": [
       "      word  freq\n",
       "0   aaargh     1\n",
       "1       ab     1\n",
       "2  abandon     2\n",
       "3   abduct     1\n",
       "4    abdul     1"
      ]
     },
     "execution_count": 62,
     "metadata": {},
     "output_type": "execute_result"
    }
   ],
   "source": [
    "a = dict()\n",
    "for i in neg_hist_reviwes_bkp.columns:\n",
    "    a[i]= neg_hist_reviwes_bkp[i].sum()\n",
    "neg_data = pd.DataFrame(list(a.items()),columns=['word','freq'])\n",
    "neg_data.head()"
   ]
  },
  {
   "cell_type": "code",
   "execution_count": 63,
   "metadata": {},
   "outputs": [
    {
     "data": {
      "text/html": [
       "<div>\n",
       "<style scoped>\n",
       "    .dataframe tbody tr th:only-of-type {\n",
       "        vertical-align: middle;\n",
       "    }\n",
       "\n",
       "    .dataframe tbody tr th {\n",
       "        vertical-align: top;\n",
       "    }\n",
       "\n",
       "    .dataframe thead th {\n",
       "        text-align: right;\n",
       "    }\n",
       "</style>\n",
       "<table border=\"1\" class=\"dataframe\">\n",
       "  <thead>\n",
       "    <tr style=\"text-align: right;\">\n",
       "      <th></th>\n",
       "      <th>word</th>\n",
       "      <th>freq</th>\n",
       "    </tr>\n",
       "  </thead>\n",
       "  <tbody>\n",
       "    <tr>\n",
       "      <th>0</th>\n",
       "      <td>aaargh</td>\n",
       "      <td>1</td>\n",
       "    </tr>\n",
       "    <tr>\n",
       "      <th>3028</th>\n",
       "      <td>miguel</td>\n",
       "      <td>1</td>\n",
       "    </tr>\n",
       "    <tr>\n",
       "      <th>3030</th>\n",
       "      <td>mild</td>\n",
       "      <td>1</td>\n",
       "    </tr>\n",
       "    <tr>\n",
       "      <th>3034</th>\n",
       "      <td>milk</td>\n",
       "      <td>1</td>\n",
       "    </tr>\n",
       "    <tr>\n",
       "      <th>3035</th>\n",
       "      <td>mill</td>\n",
       "      <td>1</td>\n",
       "    </tr>\n",
       "  </tbody>\n",
       "</table>\n",
       "</div>"
      ],
      "text/plain": [
       "        word  freq\n",
       "0     aaargh     1\n",
       "3028  miguel     1\n",
       "3030    mild     1\n",
       "3034    milk     1\n",
       "3035    mill     1"
      ]
     },
     "execution_count": 63,
     "metadata": {},
     "output_type": "execute_result"
    }
   ],
   "source": [
    "neg_data.sort_values('freq',inplace=True)\n",
    "neg_data.head()"
   ]
  },
  {
   "cell_type": "code",
   "execution_count": 64,
   "metadata": {},
   "outputs": [
    {
     "name": "stdout",
     "output_type": "stream",
     "text": [
      "[59, 59, 59, 62, 62, 63, 64, 65, 65, 67, 68, 69, 70, 72, 76, 77, 78, 79, 79, 81, 85, 86, 88, 88, 88, 91, 94, 100, 100, 101, 106, 109, 115, 116, 118, 123, 128, 134, 139, 140, 144, 148, 149, 151, 157, 230, 251, 374, 389, 586]\n"
     ]
    },
    {
     "data": {
      "image/png": "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\n",
      "text/plain": [
       "<Figure size 1440x1440 with 1 Axes>"
      ]
     },
     "metadata": {},
     "output_type": "display_data"
    }
   ],
   "source": [
    "word = list(neg_data[-50:].word)\n",
    "frequency = list(neg_data[-50:].freq)\n",
    "print(frequency)\n",
    "indices = np.arange(len(neg_data[-50:]))\n",
    "plt.figure(figsize=(20,20))\n",
    "plt.title(\"Random 50 features in negative reviwes\",fontsize = 20)\n",
    "plt.bar(indices, frequency, color='r')\n",
    "plt.xticks(indices, word, rotation='vertical',fontsize=20)\n",
    "plt.tight_layout()\n",
    "plt.show()"
   ]
  },
  {
   "cell_type": "markdown",
   "metadata": {},
   "source": [
    "------------------\n",
    "# Creating Word cloud of POS and NEG words after cleansing and feature selection"
   ]
  },
  {
   "cell_type": "code",
   "execution_count": 65,
   "metadata": {
    "scrolled": true
   },
   "outputs": [
    {
     "data": {
      "text/html": [
       "<div>\n",
       "<style scoped>\n",
       "    .dataframe tbody tr th:only-of-type {\n",
       "        vertical-align: middle;\n",
       "    }\n",
       "\n",
       "    .dataframe tbody tr th {\n",
       "        vertical-align: top;\n",
       "    }\n",
       "\n",
       "    .dataframe thead th {\n",
       "        text-align: right;\n",
       "    }\n",
       "</style>\n",
       "<table border=\"1\" class=\"dataframe\">\n",
       "  <thead>\n",
       "    <tr style=\"text-align: right;\">\n",
       "      <th></th>\n",
       "      <th>aaa</th>\n",
       "      <th>abandon</th>\n",
       "      <th>abduct</th>\n",
       "      <th>abe</th>\n",
       "      <th>abid</th>\n",
       "      <th>abigail</th>\n",
       "      <th>abil</th>\n",
       "      <th>abl</th>\n",
       "      <th>abnorm</th>\n",
       "      <th>aboard</th>\n",
       "      <th>...</th>\n",
       "      <th>zhang</th>\n",
       "      <th>zidi</th>\n",
       "      <th>zod</th>\n",
       "      <th>zola</th>\n",
       "      <th>zombiez</th>\n",
       "      <th>zone</th>\n",
       "      <th>zoom</th>\n",
       "      <th>zorn</th>\n",
       "      <th>zwick</th>\n",
       "      <th>â½</th>\n",
       "    </tr>\n",
       "  </thead>\n",
       "  <tbody>\n",
       "    <tr>\n",
       "      <th>0</th>\n",
       "      <td>0</td>\n",
       "      <td>0</td>\n",
       "      <td>0</td>\n",
       "      <td>0</td>\n",
       "      <td>0</td>\n",
       "      <td>0</td>\n",
       "      <td>0</td>\n",
       "      <td>0</td>\n",
       "      <td>0</td>\n",
       "      <td>0</td>\n",
       "      <td>...</td>\n",
       "      <td>0</td>\n",
       "      <td>0</td>\n",
       "      <td>0</td>\n",
       "      <td>0</td>\n",
       "      <td>0</td>\n",
       "      <td>0</td>\n",
       "      <td>0</td>\n",
       "      <td>0</td>\n",
       "      <td>0</td>\n",
       "      <td>0</td>\n",
       "    </tr>\n",
       "    <tr>\n",
       "      <th>1</th>\n",
       "      <td>0</td>\n",
       "      <td>0</td>\n",
       "      <td>0</td>\n",
       "      <td>0</td>\n",
       "      <td>0</td>\n",
       "      <td>0</td>\n",
       "      <td>0</td>\n",
       "      <td>0</td>\n",
       "      <td>0</td>\n",
       "      <td>0</td>\n",
       "      <td>...</td>\n",
       "      <td>0</td>\n",
       "      <td>0</td>\n",
       "      <td>0</td>\n",
       "      <td>0</td>\n",
       "      <td>0</td>\n",
       "      <td>0</td>\n",
       "      <td>0</td>\n",
       "      <td>0</td>\n",
       "      <td>0</td>\n",
       "      <td>0</td>\n",
       "    </tr>\n",
       "    <tr>\n",
       "      <th>2</th>\n",
       "      <td>0</td>\n",
       "      <td>0</td>\n",
       "      <td>0</td>\n",
       "      <td>0</td>\n",
       "      <td>0</td>\n",
       "      <td>0</td>\n",
       "      <td>0</td>\n",
       "      <td>0</td>\n",
       "      <td>0</td>\n",
       "      <td>0</td>\n",
       "      <td>...</td>\n",
       "      <td>0</td>\n",
       "      <td>0</td>\n",
       "      <td>0</td>\n",
       "      <td>0</td>\n",
       "      <td>0</td>\n",
       "      <td>0</td>\n",
       "      <td>0</td>\n",
       "      <td>0</td>\n",
       "      <td>0</td>\n",
       "      <td>0</td>\n",
       "    </tr>\n",
       "    <tr>\n",
       "      <th>3</th>\n",
       "      <td>0</td>\n",
       "      <td>0</td>\n",
       "      <td>0</td>\n",
       "      <td>0</td>\n",
       "      <td>0</td>\n",
       "      <td>0</td>\n",
       "      <td>0</td>\n",
       "      <td>0</td>\n",
       "      <td>0</td>\n",
       "      <td>0</td>\n",
       "      <td>...</td>\n",
       "      <td>0</td>\n",
       "      <td>0</td>\n",
       "      <td>0</td>\n",
       "      <td>0</td>\n",
       "      <td>0</td>\n",
       "      <td>0</td>\n",
       "      <td>0</td>\n",
       "      <td>0</td>\n",
       "      <td>0</td>\n",
       "      <td>0</td>\n",
       "    </tr>\n",
       "    <tr>\n",
       "      <th>4</th>\n",
       "      <td>0</td>\n",
       "      <td>0</td>\n",
       "      <td>0</td>\n",
       "      <td>0</td>\n",
       "      <td>0</td>\n",
       "      <td>0</td>\n",
       "      <td>0</td>\n",
       "      <td>0</td>\n",
       "      <td>0</td>\n",
       "      <td>0</td>\n",
       "      <td>...</td>\n",
       "      <td>0</td>\n",
       "      <td>0</td>\n",
       "      <td>0</td>\n",
       "      <td>0</td>\n",
       "      <td>0</td>\n",
       "      <td>0</td>\n",
       "      <td>0</td>\n",
       "      <td>0</td>\n",
       "      <td>0</td>\n",
       "      <td>0</td>\n",
       "    </tr>\n",
       "  </tbody>\n",
       "</table>\n",
       "<p>5 rows × 6098 columns</p>\n",
       "</div>"
      ],
      "text/plain": [
       "   aaa  abandon  abduct  abe  abid  abigail  abil  abl  abnorm  aboard ...  \\\n",
       "0    0        0       0    0     0        0     0    0       0       0 ...   \n",
       "1    0        0       0    0     0        0     0    0       0       0 ...   \n",
       "2    0        0       0    0     0        0     0    0       0       0 ...   \n",
       "3    0        0       0    0     0        0     0    0       0       0 ...   \n",
       "4    0        0       0    0     0        0     0    0       0       0 ...   \n",
       "\n",
       "   zhang  zidi  zod  zola  zombiez  zone  zoom  zorn  zwick  â½  \n",
       "0      0     0    0     0        0     0     0     0      0   0  \n",
       "1      0     0    0     0        0     0     0     0      0   0  \n",
       "2      0     0    0     0        0     0     0     0      0   0  \n",
       "3      0     0    0     0        0     0     0     0      0   0  \n",
       "4      0     0    0     0        0     0     0     0      0   0  \n",
       "\n",
       "[5 rows x 6098 columns]"
      ]
     },
     "execution_count": 65,
     "metadata": {},
     "output_type": "execute_result"
    }
   ],
   "source": [
    "cv = CountVectorizer()\n",
    "pos_hist_reviwes_bkp = pd.DataFrame(cv.fit_transform(pos_rev_list).toarray(), columns=cv.get_feature_names())\n",
    "pos_hist_reviwes_bkp.head()\n"
   ]
  },
  {
   "cell_type": "code",
   "execution_count": 66,
   "metadata": {},
   "outputs": [],
   "source": [
    "a = dict()\n",
    "for i in pos_hist_reviwes_bkp.columns:\n",
    "    a[i]= pos_hist_reviwes_bkp[i].sum()"
   ]
  },
  {
   "cell_type": "code",
   "execution_count": 67,
   "metadata": {},
   "outputs": [
    {
     "data": {
      "text/html": [
       "<div>\n",
       "<style scoped>\n",
       "    .dataframe tbody tr th:only-of-type {\n",
       "        vertical-align: middle;\n",
       "    }\n",
       "\n",
       "    .dataframe tbody tr th {\n",
       "        vertical-align: top;\n",
       "    }\n",
       "\n",
       "    .dataframe thead th {\n",
       "        text-align: right;\n",
       "    }\n",
       "</style>\n",
       "<table border=\"1\" class=\"dataframe\">\n",
       "  <thead>\n",
       "    <tr style=\"text-align: right;\">\n",
       "      <th></th>\n",
       "      <th>aaa</th>\n",
       "      <th>abandon</th>\n",
       "      <th>abduct</th>\n",
       "      <th>abe</th>\n",
       "      <th>abid</th>\n",
       "      <th>abigail</th>\n",
       "      <th>abil</th>\n",
       "      <th>abl</th>\n",
       "      <th>abnorm</th>\n",
       "      <th>aboard</th>\n",
       "      <th>...</th>\n",
       "      <th>zhang</th>\n",
       "      <th>zidi</th>\n",
       "      <th>zod</th>\n",
       "      <th>zola</th>\n",
       "      <th>zombiez</th>\n",
       "      <th>zone</th>\n",
       "      <th>zoom</th>\n",
       "      <th>zorn</th>\n",
       "      <th>zwick</th>\n",
       "      <th>â½</th>\n",
       "    </tr>\n",
       "  </thead>\n",
       "  <tbody>\n",
       "    <tr>\n",
       "      <th>0</th>\n",
       "      <td>1</td>\n",
       "      <td>4</td>\n",
       "      <td>2</td>\n",
       "      <td>2</td>\n",
       "      <td>1</td>\n",
       "      <td>1</td>\n",
       "      <td>8</td>\n",
       "      <td>10</td>\n",
       "      <td>1</td>\n",
       "      <td>1</td>\n",
       "      <td>...</td>\n",
       "      <td>3</td>\n",
       "      <td>1</td>\n",
       "      <td>1</td>\n",
       "      <td>1</td>\n",
       "      <td>1</td>\n",
       "      <td>2</td>\n",
       "      <td>1</td>\n",
       "      <td>1</td>\n",
       "      <td>4</td>\n",
       "      <td>1</td>\n",
       "    </tr>\n",
       "  </tbody>\n",
       "</table>\n",
       "<p>1 rows × 6098 columns</p>\n",
       "</div>"
      ],
      "text/plain": [
       "   aaa  abandon  abduct  abe  abid  abigail  abil  abl  abnorm  aboard ...  \\\n",
       "0    1        4       2    2     1        1     8   10       1       1 ...   \n",
       "\n",
       "   zhang  zidi  zod  zola  zombiez  zone  zoom  zorn  zwick  â½  \n",
       "0      3     1    1     1        1     2     1     1      4   1  \n",
       "\n",
       "[1 rows x 6098 columns]"
      ]
     },
     "execution_count": 67,
     "metadata": {},
     "output_type": "execute_result"
    }
   ],
   "source": [
    "pos_data = pd.DataFrame(a,index=[0])\n",
    "pos_data.head()"
   ]
  },
  {
   "cell_type": "code",
   "execution_count": 68,
   "metadata": {},
   "outputs": [
    {
     "data": {
      "text/html": [
       "<div>\n",
       "<style scoped>\n",
       "    .dataframe tbody tr th:only-of-type {\n",
       "        vertical-align: middle;\n",
       "    }\n",
       "\n",
       "    .dataframe tbody tr th {\n",
       "        vertical-align: top;\n",
       "    }\n",
       "\n",
       "    .dataframe thead th {\n",
       "        text-align: right;\n",
       "    }\n",
       "</style>\n",
       "<table border=\"1\" class=\"dataframe\">\n",
       "  <thead>\n",
       "    <tr style=\"text-align: right;\">\n",
       "      <th></th>\n",
       "      <th>act</th>\n",
       "      <th>action</th>\n",
       "      <th>actor</th>\n",
       "      <th>also</th>\n",
       "      <th>back</th>\n",
       "      <th>beauti</th>\n",
       "      <th>best</th>\n",
       "      <th>bit</th>\n",
       "      <th>cast</th>\n",
       "      <th>charact</th>\n",
       "      <th>...</th>\n",
       "      <th>two</th>\n",
       "      <th>want</th>\n",
       "      <th>watch</th>\n",
       "      <th>way</th>\n",
       "      <th>well</th>\n",
       "      <th>woman</th>\n",
       "      <th>work</th>\n",
       "      <th>would</th>\n",
       "      <th>year</th>\n",
       "      <th>young</th>\n",
       "    </tr>\n",
       "  </thead>\n",
       "  <tbody>\n",
       "    <tr>\n",
       "      <th>0</th>\n",
       "      <td>96</td>\n",
       "      <td>53</td>\n",
       "      <td>61</td>\n",
       "      <td>128</td>\n",
       "      <td>72</td>\n",
       "      <td>53</td>\n",
       "      <td>88</td>\n",
       "      <td>54</td>\n",
       "      <td>57</td>\n",
       "      <td>137</td>\n",
       "      <td>...</td>\n",
       "      <td>77</td>\n",
       "      <td>85</td>\n",
       "      <td>148</td>\n",
       "      <td>99</td>\n",
       "      <td>144</td>\n",
       "      <td>50</td>\n",
       "      <td>82</td>\n",
       "      <td>110</td>\n",
       "      <td>85</td>\n",
       "      <td>51</td>\n",
       "    </tr>\n",
       "  </tbody>\n",
       "</table>\n",
       "<p>1 rows × 79 columns</p>\n",
       "</div>"
      ],
      "text/plain": [
       "   act  action  actor  also  back  beauti  best  bit  cast  charact  ...    \\\n",
       "0   96      53     61   128    72      53    88   54    57      137  ...     \n",
       "\n",
       "   two  want  watch  way  well  woman  work  would  year  young  \n",
       "0   77    85    148   99   144     50    82    110    85     51  \n",
       "\n",
       "[1 rows x 79 columns]"
      ]
     },
     "execution_count": 68,
     "metadata": {},
     "output_type": "execute_result"
    }
   ],
   "source": [
    "features_to_drop = []\n",
    "\n",
    "for word in pos_data.columns:\n",
    "    #print(int(pos_data[word]))\n",
    "    if int(pos_data[word]) < 50:\n",
    "        features_to_drop.append(word)\n",
    "len(features_to_drop)\n",
    "\n",
    "pos_data.drop(features_to_drop,axis=1,inplace=True)\n",
    "pos_data"
   ]
  },
  {
   "cell_type": "code",
   "execution_count": 69,
   "metadata": {},
   "outputs": [],
   "source": [
    "pos_data_list = list(pos_data.columns)\n",
    "pos_data_feature_clean = \" \".join(pos_data_list)\n",
    "pos_data_feature_clean_wc = WordCloud().generate(pos_data_feature_clean)"
   ]
  },
  {
   "cell_type": "code",
   "execution_count": 70,
   "metadata": {},
   "outputs": [
    {
     "data": {
      "image/png": "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\n",
      "text/plain": [
       "<Figure size 1080x720 with 1 Axes>"
      ]
     },
     "metadata": {},
     "output_type": "display_data"
    }
   ],
   "source": [
    "plt.figure(figsize=(15,10))\n",
    "plt.title(\"POSITIVE REVIEW SELECTED FEATURE WORD CLOUD\")\n",
    "plt.imshow(pos_data_feature_clean_wc)\n",
    "plt.show()"
   ]
  },
  {
   "cell_type": "code",
   "execution_count": 71,
   "metadata": {},
   "outputs": [
    {
     "data": {
      "text/html": [
       "<div>\n",
       "<style scoped>\n",
       "    .dataframe tbody tr th:only-of-type {\n",
       "        vertical-align: middle;\n",
       "    }\n",
       "\n",
       "    .dataframe tbody tr th {\n",
       "        vertical-align: top;\n",
       "    }\n",
       "\n",
       "    .dataframe thead th {\n",
       "        text-align: right;\n",
       "    }\n",
       "</style>\n",
       "<table border=\"1\" class=\"dataframe\">\n",
       "  <thead>\n",
       "    <tr style=\"text-align: right;\">\n",
       "      <th></th>\n",
       "      <th>aaargh</th>\n",
       "      <th>ab</th>\n",
       "      <th>abandon</th>\n",
       "      <th>abduct</th>\n",
       "      <th>abdul</th>\n",
       "      <th>abecassi</th>\n",
       "      <th>abid</th>\n",
       "      <th>abil</th>\n",
       "      <th>abl</th>\n",
       "      <th>abli</th>\n",
       "      <th>...</th>\n",
       "      <th>zir</th>\n",
       "      <th>zit</th>\n",
       "      <th>zo</th>\n",
       "      <th>zoe</th>\n",
       "      <th>zombi</th>\n",
       "      <th>zomez</th>\n",
       "      <th>zone</th>\n",
       "      <th>zoom</th>\n",
       "      <th>zucker</th>\n",
       "      <th>zuckert</th>\n",
       "    </tr>\n",
       "  </thead>\n",
       "  <tbody>\n",
       "    <tr>\n",
       "      <th>0</th>\n",
       "      <td>0</td>\n",
       "      <td>0</td>\n",
       "      <td>0</td>\n",
       "      <td>0</td>\n",
       "      <td>0</td>\n",
       "      <td>0</td>\n",
       "      <td>0</td>\n",
       "      <td>0</td>\n",
       "      <td>0</td>\n",
       "      <td>0</td>\n",
       "      <td>...</td>\n",
       "      <td>0</td>\n",
       "      <td>0</td>\n",
       "      <td>0</td>\n",
       "      <td>0</td>\n",
       "      <td>0</td>\n",
       "      <td>0</td>\n",
       "      <td>0</td>\n",
       "      <td>0</td>\n",
       "      <td>0</td>\n",
       "      <td>0</td>\n",
       "    </tr>\n",
       "    <tr>\n",
       "      <th>1</th>\n",
       "      <td>0</td>\n",
       "      <td>0</td>\n",
       "      <td>0</td>\n",
       "      <td>0</td>\n",
       "      <td>0</td>\n",
       "      <td>0</td>\n",
       "      <td>0</td>\n",
       "      <td>0</td>\n",
       "      <td>0</td>\n",
       "      <td>0</td>\n",
       "      <td>...</td>\n",
       "      <td>0</td>\n",
       "      <td>0</td>\n",
       "      <td>0</td>\n",
       "      <td>0</td>\n",
       "      <td>0</td>\n",
       "      <td>0</td>\n",
       "      <td>0</td>\n",
       "      <td>0</td>\n",
       "      <td>0</td>\n",
       "      <td>0</td>\n",
       "    </tr>\n",
       "    <tr>\n",
       "      <th>2</th>\n",
       "      <td>0</td>\n",
       "      <td>0</td>\n",
       "      <td>0</td>\n",
       "      <td>0</td>\n",
       "      <td>0</td>\n",
       "      <td>0</td>\n",
       "      <td>0</td>\n",
       "      <td>0</td>\n",
       "      <td>0</td>\n",
       "      <td>0</td>\n",
       "      <td>...</td>\n",
       "      <td>0</td>\n",
       "      <td>0</td>\n",
       "      <td>0</td>\n",
       "      <td>0</td>\n",
       "      <td>0</td>\n",
       "      <td>0</td>\n",
       "      <td>0</td>\n",
       "      <td>0</td>\n",
       "      <td>0</td>\n",
       "      <td>0</td>\n",
       "    </tr>\n",
       "    <tr>\n",
       "      <th>3</th>\n",
       "      <td>0</td>\n",
       "      <td>0</td>\n",
       "      <td>0</td>\n",
       "      <td>0</td>\n",
       "      <td>0</td>\n",
       "      <td>0</td>\n",
       "      <td>0</td>\n",
       "      <td>0</td>\n",
       "      <td>0</td>\n",
       "      <td>0</td>\n",
       "      <td>...</td>\n",
       "      <td>0</td>\n",
       "      <td>0</td>\n",
       "      <td>0</td>\n",
       "      <td>0</td>\n",
       "      <td>0</td>\n",
       "      <td>0</td>\n",
       "      <td>0</td>\n",
       "      <td>0</td>\n",
       "      <td>0</td>\n",
       "      <td>0</td>\n",
       "    </tr>\n",
       "    <tr>\n",
       "      <th>4</th>\n",
       "      <td>0</td>\n",
       "      <td>0</td>\n",
       "      <td>0</td>\n",
       "      <td>0</td>\n",
       "      <td>0</td>\n",
       "      <td>0</td>\n",
       "      <td>0</td>\n",
       "      <td>0</td>\n",
       "      <td>0</td>\n",
       "      <td>0</td>\n",
       "      <td>...</td>\n",
       "      <td>0</td>\n",
       "      <td>0</td>\n",
       "      <td>0</td>\n",
       "      <td>0</td>\n",
       "      <td>0</td>\n",
       "      <td>0</td>\n",
       "      <td>0</td>\n",
       "      <td>0</td>\n",
       "      <td>0</td>\n",
       "      <td>0</td>\n",
       "    </tr>\n",
       "  </tbody>\n",
       "</table>\n",
       "<p>5 rows × 5412 columns</p>\n",
       "</div>"
      ],
      "text/plain": [
       "   aaargh  ab  abandon  abduct  abdul  abecassi  abid  abil  abl  abli  \\\n",
       "0       0   0        0       0      0         0     0     0    0     0   \n",
       "1       0   0        0       0      0         0     0     0    0     0   \n",
       "2       0   0        0       0      0         0     0     0    0     0   \n",
       "3       0   0        0       0      0         0     0     0    0     0   \n",
       "4       0   0        0       0      0         0     0     0    0     0   \n",
       "\n",
       "    ...     zir  zit  zo  zoe  zombi  zomez  zone  zoom  zucker  zuckert  \n",
       "0   ...       0    0   0    0      0      0     0     0       0        0  \n",
       "1   ...       0    0   0    0      0      0     0     0       0        0  \n",
       "2   ...       0    0   0    0      0      0     0     0       0        0  \n",
       "3   ...       0    0   0    0      0      0     0     0       0        0  \n",
       "4   ...       0    0   0    0      0      0     0     0       0        0  \n",
       "\n",
       "[5 rows x 5412 columns]"
      ]
     },
     "execution_count": 71,
     "metadata": {},
     "output_type": "execute_result"
    }
   ],
   "source": [
    "cv = CountVectorizer()\n",
    "neg_hist_reviwes_bkp = pd.DataFrame(cv.fit_transform(neg_rev_list).toarray(), columns=cv.get_feature_names())\n",
    "neg_hist_reviwes_bkp.head()"
   ]
  },
  {
   "cell_type": "code",
   "execution_count": 72,
   "metadata": {},
   "outputs": [],
   "source": [
    "a = dict()\n",
    "for i in neg_hist_reviwes_bkp.columns:\n",
    "    a[i]= neg_hist_reviwes_bkp[i].sum()"
   ]
  },
  {
   "cell_type": "code",
   "execution_count": 73,
   "metadata": {},
   "outputs": [
    {
     "data": {
      "text/html": [
       "<div>\n",
       "<style scoped>\n",
       "    .dataframe tbody tr th:only-of-type {\n",
       "        vertical-align: middle;\n",
       "    }\n",
       "\n",
       "    .dataframe tbody tr th {\n",
       "        vertical-align: top;\n",
       "    }\n",
       "\n",
       "    .dataframe thead th {\n",
       "        text-align: right;\n",
       "    }\n",
       "</style>\n",
       "<table border=\"1\" class=\"dataframe\">\n",
       "  <thead>\n",
       "    <tr style=\"text-align: right;\">\n",
       "      <th></th>\n",
       "      <th>aaargh</th>\n",
       "      <th>ab</th>\n",
       "      <th>abandon</th>\n",
       "      <th>abduct</th>\n",
       "      <th>abdul</th>\n",
       "      <th>abecassi</th>\n",
       "      <th>abid</th>\n",
       "      <th>abil</th>\n",
       "      <th>abl</th>\n",
       "      <th>abli</th>\n",
       "      <th>...</th>\n",
       "      <th>zir</th>\n",
       "      <th>zit</th>\n",
       "      <th>zo</th>\n",
       "      <th>zoe</th>\n",
       "      <th>zombi</th>\n",
       "      <th>zomez</th>\n",
       "      <th>zone</th>\n",
       "      <th>zoom</th>\n",
       "      <th>zucker</th>\n",
       "      <th>zuckert</th>\n",
       "    </tr>\n",
       "  </thead>\n",
       "  <tbody>\n",
       "    <tr>\n",
       "      <th>0</th>\n",
       "      <td>1</td>\n",
       "      <td>1</td>\n",
       "      <td>2</td>\n",
       "      <td>1</td>\n",
       "      <td>1</td>\n",
       "      <td>1</td>\n",
       "      <td>1</td>\n",
       "      <td>4</td>\n",
       "      <td>14</td>\n",
       "      <td>1</td>\n",
       "      <td>...</td>\n",
       "      <td>2</td>\n",
       "      <td>1</td>\n",
       "      <td>1</td>\n",
       "      <td>6</td>\n",
       "      <td>12</td>\n",
       "      <td>1</td>\n",
       "      <td>1</td>\n",
       "      <td>1</td>\n",
       "      <td>4</td>\n",
       "      <td>1</td>\n",
       "    </tr>\n",
       "  </tbody>\n",
       "</table>\n",
       "<p>1 rows × 5412 columns</p>\n",
       "</div>"
      ],
      "text/plain": [
       "   aaargh  ab  abandon  abduct  abdul  abecassi  abid  abil  abl  abli  \\\n",
       "0       1   1        2       1      1         1     1     4   14     1   \n",
       "\n",
       "    ...     zir  zit  zo  zoe  zombi  zomez  zone  zoom  zucker  zuckert  \n",
       "0   ...       2    1   1    6     12      1     1     1       4        1  \n",
       "\n",
       "[1 rows x 5412 columns]"
      ]
     },
     "execution_count": 73,
     "metadata": {},
     "output_type": "execute_result"
    }
   ],
   "source": [
    "neg_data = pd.DataFrame(a,index=[0])\n",
    "neg_data.head()"
   ]
  },
  {
   "cell_type": "code",
   "execution_count": 74,
   "metadata": {},
   "outputs": [
    {
     "data": {
      "text/html": [
       "<div>\n",
       "<style scoped>\n",
       "    .dataframe tbody tr th:only-of-type {\n",
       "        vertical-align: middle;\n",
       "    }\n",
       "\n",
       "    .dataframe tbody tr th {\n",
       "        vertical-align: top;\n",
       "    }\n",
       "\n",
       "    .dataframe thead th {\n",
       "        text-align: right;\n",
       "    }\n",
       "</style>\n",
       "<table border=\"1\" class=\"dataframe\">\n",
       "  <thead>\n",
       "    <tr style=\"text-align: right;\">\n",
       "      <th></th>\n",
       "      <th>act</th>\n",
       "      <th>actor</th>\n",
       "      <th>actual</th>\n",
       "      <th>also</th>\n",
       "      <th>anoth</th>\n",
       "      <th>back</th>\n",
       "      <th>bad</th>\n",
       "      <th>better</th>\n",
       "      <th>charact</th>\n",
       "      <th>could</th>\n",
       "      <th>...</th>\n",
       "      <th>time</th>\n",
       "      <th>tri</th>\n",
       "      <th>two</th>\n",
       "      <th>want</th>\n",
       "      <th>watch</th>\n",
       "      <th>way</th>\n",
       "      <th>well</th>\n",
       "      <th>woman</th>\n",
       "      <th>work</th>\n",
       "      <th>would</th>\n",
       "    </tr>\n",
       "  </thead>\n",
       "  <tbody>\n",
       "    <tr>\n",
       "      <th>0</th>\n",
       "      <td>106</td>\n",
       "      <td>54</td>\n",
       "      <td>62</td>\n",
       "      <td>67</td>\n",
       "      <td>50</td>\n",
       "      <td>57</td>\n",
       "      <td>134</td>\n",
       "      <td>63</td>\n",
       "      <td>144</td>\n",
       "      <td>100</td>\n",
       "      <td>...</td>\n",
       "      <td>157</td>\n",
       "      <td>81</td>\n",
       "      <td>56</td>\n",
       "      <td>69</td>\n",
       "      <td>139</td>\n",
       "      <td>76</td>\n",
       "      <td>78</td>\n",
       "      <td>50</td>\n",
       "      <td>62</td>\n",
       "      <td>148</td>\n",
       "    </tr>\n",
       "  </tbody>\n",
       "</table>\n",
       "<p>1 rows × 66 columns</p>\n",
       "</div>"
      ],
      "text/plain": [
       "   act  actor  actual  also  anoth  back  bad  better  charact  could  ...    \\\n",
       "0  106     54      62    67     50    57  134      63      144    100  ...     \n",
       "\n",
       "   time  tri  two  want  watch  way  well  woman  work  would  \n",
       "0   157   81   56    69    139   76    78     50    62    148  \n",
       "\n",
       "[1 rows x 66 columns]"
      ]
     },
     "execution_count": 74,
     "metadata": {},
     "output_type": "execute_result"
    }
   ],
   "source": [
    "features_to_drop = []\n",
    "\n",
    "for word in neg_data.columns:\n",
    "    if int(neg_data[word]) < 50:\n",
    "        features_to_drop.append(word)\n",
    "len(features_to_drop)\n",
    "\n",
    "neg_data.drop(features_to_drop,axis=1,inplace=True)\n",
    "neg_data"
   ]
  },
  {
   "cell_type": "code",
   "execution_count": 75,
   "metadata": {},
   "outputs": [],
   "source": [
    "neg_data_list = list(neg_data.columns)\n",
    "neg_data_feature_clean = \" \".join(neg_data_list)\n",
    "neg_data_feature_clean_wc = WordCloud().generate(neg_data_feature_clean)"
   ]
  },
  {
   "cell_type": "code",
   "execution_count": 76,
   "metadata": {},
   "outputs": [
    {
     "data": {
      "image/png": "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\n",
      "text/plain": [
       "<Figure size 1080x720 with 1 Axes>"
      ]
     },
     "metadata": {},
     "output_type": "display_data"
    }
   ],
   "source": [
    "plt.figure(figsize=(15,10))\n",
    "plt.title(\"NEGATIVE REVIEW SELECTED FEATURE WORD CLOUD\")\n",
    "plt.imshow(neg_data_feature_clean_wc)\n",
    "plt.show()"
   ]
  },
  {
   "cell_type": "markdown",
   "metadata": {},
   "source": [
    "-----------------------\n",
    "# Phase 4\n",
    "> In this phase we are going to perform Feature Selection:\n"
   ]
  },
  {
   "cell_type": "markdown",
   "metadata": {},
   "source": [
    "------------------------------------\n",
    "# Phase 5 Model Building :\n",
    "> In this phase we are going to perform following activities\n",
    " 1. Supervised Learning: Build a sentiment analysis model to predict positive and negative classes \n",
    " 2. Unsupervised Learning: Build a clustering model consisting of 2 clusters based on positive and negative reviews "
   ]
  },
  {
   "cell_type": "markdown",
   "metadata": {},
   "source": [
    "*******************************************************************************************************************\n",
    "\n",
    "# Description of steps\n",
    "## We are going to model supervised and unsupervised models stage by stage\n",
    "1. first we will see performance on uncleaned data\n",
    "2. then we will perform data cleaning and see performance over it\n",
    "3. lastly we will see performance with n-grams"
   ]
  },
  {
   "cell_type": "code",
   "execution_count": 77,
   "metadata": {},
   "outputs": [
    {
     "name": "stdout",
     "output_type": "stream",
     "text": [
      "['neg' 'pos']\n",
      "['neg' 'pos' 'unsup']\n"
     ]
    }
   ],
   "source": [
    "imdb_test = imdb_review[imdb_review['Type']==\"test\"]\n",
    "imdb_train= imdb_review[imdb_review['Type']==\"train\"]\n",
    "print(imdb_test.Label.unique())\n",
    "print(imdb_train.Label.unique())"
   ]
  },
  {
   "cell_type": "markdown",
   "metadata": {},
   "source": [
    "## Seprating unsupervised data from train data "
   ]
  },
  {
   "cell_type": "code",
   "execution_count": 78,
   "metadata": {},
   "outputs": [
    {
     "name": "stdout",
     "output_type": "stream",
     "text": [
      "(50000, 4)\n"
     ]
    },
    {
     "data": {
      "text/html": [
       "<div>\n",
       "<style scoped>\n",
       "    .dataframe tbody tr th:only-of-type {\n",
       "        vertical-align: middle;\n",
       "    }\n",
       "\n",
       "    .dataframe tbody tr th {\n",
       "        vertical-align: top;\n",
       "    }\n",
       "\n",
       "    .dataframe thead th {\n",
       "        text-align: right;\n",
       "    }\n",
       "</style>\n",
       "<table border=\"1\" class=\"dataframe\">\n",
       "  <thead>\n",
       "    <tr style=\"text-align: right;\">\n",
       "      <th></th>\n",
       "      <th>Type</th>\n",
       "      <th>Review</th>\n",
       "      <th>Label</th>\n",
       "      <th>File</th>\n",
       "    </tr>\n",
       "  </thead>\n",
       "  <tbody>\n",
       "    <tr>\n",
       "      <th>50000</th>\n",
       "      <td>train</td>\n",
       "      <td>I admit, the great majority of films released ...</td>\n",
       "      <td>unsup</td>\n",
       "      <td>0_0.txt</td>\n",
       "    </tr>\n",
       "    <tr>\n",
       "      <th>50001</th>\n",
       "      <td>train</td>\n",
       "      <td>Take a low budget, inexperienced actors doubli...</td>\n",
       "      <td>unsup</td>\n",
       "      <td>10000_0.txt</td>\n",
       "    </tr>\n",
       "    <tr>\n",
       "      <th>50002</th>\n",
       "      <td>train</td>\n",
       "      <td>Everybody has seen 'Back To The Future,' right...</td>\n",
       "      <td>unsup</td>\n",
       "      <td>10001_0.txt</td>\n",
       "    </tr>\n",
       "    <tr>\n",
       "      <th>50003</th>\n",
       "      <td>train</td>\n",
       "      <td>Doris Day was an icon of beauty in singing and...</td>\n",
       "      <td>unsup</td>\n",
       "      <td>10002_0.txt</td>\n",
       "    </tr>\n",
       "    <tr>\n",
       "      <th>50004</th>\n",
       "      <td>train</td>\n",
       "      <td>After a series of silly, fun-loving movies, 19...</td>\n",
       "      <td>unsup</td>\n",
       "      <td>10003_0.txt</td>\n",
       "    </tr>\n",
       "  </tbody>\n",
       "</table>\n",
       "</div>"
      ],
      "text/plain": [
       "        Type                                             Review  Label  \\\n",
       "50000  train  I admit, the great majority of films released ...  unsup   \n",
       "50001  train  Take a low budget, inexperienced actors doubli...  unsup   \n",
       "50002  train  Everybody has seen 'Back To The Future,' right...  unsup   \n",
       "50003  train  Doris Day was an icon of beauty in singing and...  unsup   \n",
       "50004  train  After a series of silly, fun-loving movies, 19...  unsup   \n",
       "\n",
       "              File  \n",
       "50000      0_0.txt  \n",
       "50001  10000_0.txt  \n",
       "50002  10001_0.txt  \n",
       "50003  10002_0.txt  \n",
       "50004  10003_0.txt  "
      ]
     },
     "execution_count": 78,
     "metadata": {},
     "output_type": "execute_result"
    }
   ],
   "source": [
    "imdb_train_unsup = imdb_train[imdb_train['Label']==\"unsup\"]\n",
    "print(imdb_train_unsup.shape)\n",
    "imdb_train_unsup.head()"
   ]
  },
  {
   "cell_type": "code",
   "execution_count": 79,
   "metadata": {},
   "outputs": [
    {
     "data": {
      "text/html": [
       "<div>\n",
       "<style scoped>\n",
       "    .dataframe tbody tr th:only-of-type {\n",
       "        vertical-align: middle;\n",
       "    }\n",
       "\n",
       "    .dataframe tbody tr th {\n",
       "        vertical-align: top;\n",
       "    }\n",
       "\n",
       "    .dataframe thead th {\n",
       "        text-align: right;\n",
       "    }\n",
       "</style>\n",
       "<table border=\"1\" class=\"dataframe\">\n",
       "  <thead>\n",
       "    <tr style=\"text-align: right;\">\n",
       "      <th></th>\n",
       "      <th>Type</th>\n",
       "      <th>Review</th>\n",
       "      <th>Label</th>\n",
       "      <th>File</th>\n",
       "    </tr>\n",
       "  </thead>\n",
       "  <tbody>\n",
       "    <tr>\n",
       "      <th>25000</th>\n",
       "      <td>train</td>\n",
       "      <td>Story of a man who has unnatural feelings for ...</td>\n",
       "      <td>neg</td>\n",
       "      <td>0_3.txt</td>\n",
       "    </tr>\n",
       "    <tr>\n",
       "      <th>25001</th>\n",
       "      <td>train</td>\n",
       "      <td>Airport '77 starts as a brand new luxury 747 p...</td>\n",
       "      <td>neg</td>\n",
       "      <td>10000_4.txt</td>\n",
       "    </tr>\n",
       "    <tr>\n",
       "      <th>25002</th>\n",
       "      <td>train</td>\n",
       "      <td>This film lacked something I couldn't put my f...</td>\n",
       "      <td>neg</td>\n",
       "      <td>10001_4.txt</td>\n",
       "    </tr>\n",
       "    <tr>\n",
       "      <th>25003</th>\n",
       "      <td>train</td>\n",
       "      <td>Sorry everyone,,, I know this is supposed to b...</td>\n",
       "      <td>neg</td>\n",
       "      <td>10002_1.txt</td>\n",
       "    </tr>\n",
       "    <tr>\n",
       "      <th>25004</th>\n",
       "      <td>train</td>\n",
       "      <td>When I was little my parents took me along to ...</td>\n",
       "      <td>neg</td>\n",
       "      <td>10003_1.txt</td>\n",
       "    </tr>\n",
       "  </tbody>\n",
       "</table>\n",
       "</div>"
      ],
      "text/plain": [
       "        Type                                             Review Label  \\\n",
       "25000  train  Story of a man who has unnatural feelings for ...   neg   \n",
       "25001  train  Airport '77 starts as a brand new luxury 747 p...   neg   \n",
       "25002  train  This film lacked something I couldn't put my f...   neg   \n",
       "25003  train  Sorry everyone,,, I know this is supposed to b...   neg   \n",
       "25004  train  When I was little my parents took me along to ...   neg   \n",
       "\n",
       "              File  \n",
       "25000      0_3.txt  \n",
       "25001  10000_4.txt  \n",
       "25002  10001_4.txt  \n",
       "25003  10002_1.txt  \n",
       "25004  10003_1.txt  "
      ]
     },
     "execution_count": 79,
     "metadata": {},
     "output_type": "execute_result"
    }
   ],
   "source": [
    "imdb_train= imdb_train[imdb_train.Label != \"unsup\"]\n",
    "imdb_train.head()"
   ]
  },
  {
   "cell_type": "code",
   "execution_count": 80,
   "metadata": {},
   "outputs": [
    {
     "name": "stdout",
     "output_type": "stream",
     "text": [
      "test size              (25000, 4)              Labels ['neg' 'pos']\n",
      "unsupervised train size(50000, 4)              Labels ['unsup']\n",
      "train size             (25000, 4)              Labels ['neg' 'pos']\n"
     ]
    }
   ],
   "source": [
    "print(\"test size              \"+str(imdb_test.shape)+\"              Labels \"+str(imdb_test.Label.unique()))\n",
    "print(\"unsupervised train size\"+str(imdb_train_unsup.shape)+\"              Labels \"+str(imdb_train_unsup.Label.unique()))\n",
    "print(\"train size             \"+str(imdb_train.shape)+\"              Labels \"+str(imdb_train.Label.unique()))"
   ]
  },
  {
   "cell_type": "markdown",
   "metadata": {},
   "source": [
    "-----------------------------------------------------\n",
    "\n",
    "# Supervised learning models"
   ]
  },
  {
   "cell_type": "markdown",
   "metadata": {},
   "source": [
    "## we will model\n",
    "1. Logistic regression\n",
    "2. Decision Tree\n",
    "3. Random Forest \n",
    "4. Naive Bayes\n",
    "5. SVM"
   ]
  },
  {
   "cell_type": "markdown",
   "metadata": {},
   "source": [
    "## Using raw data without preprocessing it"
   ]
  },
  {
   "cell_type": "code",
   "execution_count": 81,
   "metadata": {},
   "outputs": [],
   "source": [
    "from sklearn.metrics import accuracy_score\n",
    "from sklearn.linear_model import LogisticRegression\n",
    "from sklearn.neighbors import KNeighborsClassifier\n",
    "from sklearn.naive_bayes import MultinomialNB\n",
    "from sklearn.tree import DecisionTreeClassifier\n",
    "from sklearn.ensemble import RandomForestClassifier\n",
    "from sklearn.cluster import KMeans\n",
    "from sklearn.metrics import adjusted_rand_score\n",
    "from sklearn.tree import DecisionTreeClassifier\n",
    "from sklearn.ensemble import RandomForestClassifier\n",
    "from sklearn.model_selection import train_test_split\n",
    "from sklearn.svm import LinearSVC"
   ]
  },
  {
   "cell_type": "code",
   "execution_count": 82,
   "metadata": {},
   "outputs": [],
   "source": [
    "def linearregressor(X_baseline, target_train):\n",
    "    X_train, X_val, y_train, y_val = train_test_split(X_baseline, target_train, train_size = 0.75)\n",
    "    for c in [0.01, 0.05, 0.25, 0.5, 1]:\n",
    "        lr = LogisticRegression(C=c)\n",
    "        lr.fit(X_train, y_train)\n",
    "        print (\"Accuracy for C=%s: %s\"% (c, accuracy_score(y_val, lr.predict(X_val))))"
   ]
  },
  {
   "cell_type": "code",
   "execution_count": 83,
   "metadata": {},
   "outputs": [],
   "source": [
    "def decisiontree(X_baseline, target_train):\n",
    "    X_train, X_val, y_train, y_val = train_test_split(X_baseline, target_train, train_size = 0.75)\n",
    "    max_depths = np.linspace(1, 32, 32, endpoint=True)\n",
    "    \n",
    "    for depth in max_depths:\n",
    "        dt = DecisionTreeClassifier(max_depth=depth)\n",
    "        dt.fit(X_train, y_train)\n",
    "        print (\"Accuracy for depth=%s: %s\"% (depth, accuracy_score(y_val, dt.predict(X_val))))\n",
    "    "
   ]
  },
  {
   "cell_type": "code",
   "execution_count": 84,
   "metadata": {},
   "outputs": [],
   "source": [
    "def randomforest(X_baseline, target_train):\n",
    "    X_train, X_val, y_train, y_val = train_test_split(X_baseline, target_train, train_size = 0.75)\n",
    "    for estimator in range(30,50):\n",
    "        rf = RandomForestClassifier(n_estimators=estimator)\n",
    "        rf.fit(X_train, y_train)\n",
    "        print (\"Accuracy for estimator=%s: %s\"% (estimator, accuracy_score(y_val, rf.predict(X_val))))\n",
    "    "
   ]
  },
  {
   "cell_type": "code",
   "execution_count": 85,
   "metadata": {},
   "outputs": [],
   "source": [
    "def naivebayes(X_baseline, target_train):\n",
    "    X_train, X_val, y_train, y_val = train_test_split(X_baseline, target_train, train_size = 0.75)\n",
    "    nb = MultinomialNB()\n",
    "    nb.fit(X_train, y_train)\n",
    "    print (\"Accuracy = %s\"% (accuracy_score(y_val,nb.predict(X_val))))\n",
    "    "
   ]
  },
  {
   "cell_type": "code",
   "execution_count": 86,
   "metadata": {},
   "outputs": [],
   "source": [
    "def supportvector(X_baseline, target_train):\n",
    "    \n",
    "    X_train, X_val, y_train, y_val = train_test_split(X_baseline, target_train, train_size = 0.75)\n",
    "    for c in [0.01, 0.05, 0.25, 0.5, 1]:\n",
    "        svm = LinearSVC(C=c)\n",
    "        svm.fit(X_train, y_train)\n",
    "        print (\"Accuracy for C=%s: %s\"% (c, accuracy_score(y_val, svm.predict(X_val))))"
   ]
  },
  {
   "cell_type": "code",
   "execution_count": 87,
   "metadata": {},
   "outputs": [],
   "source": [
    "reviews_train = list(imdb_train.Review)\n",
    "reviews_test = list(imdb_test.Review)\n",
    "target_train = imdb_train['Label']\n",
    "target_test = imdb_test['Label']"
   ]
  },
  {
   "cell_type": "code",
   "execution_count": 88,
   "metadata": {},
   "outputs": [],
   "source": [
    "baseline_vectorizer = CountVectorizer(binary=True)\n",
    "baseline_vectorizer.fit(reviews_train)\n",
    "X_baseline = baseline_vectorizer.transform(reviews_train)\n",
    "X_test_baseline = baseline_vectorizer.transform(reviews_test)"
   ]
  },
  {
   "cell_type": "code",
   "execution_count": 89,
   "metadata": {},
   "outputs": [
    {
     "name": "stderr",
     "output_type": "stream",
     "text": [
      "c:\\users\\punitha.hs\\appdata\\local\\programs\\python\\python36\\lib\\site-packages\\sklearn\\model_selection\\_split.py:2026: FutureWarning: From version 0.21, test_size will always complement train_size unless both are specified.\n",
      "  FutureWarning)\n"
     ]
    },
    {
     "name": "stdout",
     "output_type": "stream",
     "text": [
      "Accuracy for C=0.01: 0.87312\n",
      "Accuracy for C=0.05: 0.88032\n",
      "Accuracy for C=0.25: 0.87984\n",
      "Accuracy for C=0.5: 0.876\n",
      "Accuracy for C=1: 0.8728\n"
     ]
    }
   ],
   "source": [
    "linearregressor(X_baseline, target_train)"
   ]
  },
  {
   "cell_type": "code",
   "execution_count": 90,
   "metadata": {},
   "outputs": [
    {
     "name": "stdout",
     "output_type": "stream",
     "text": [
      "Final Accuracy: 0.87716\n"
     ]
    }
   ],
   "source": [
    "# Best performance came at c = .25\n",
    "final_model = LogisticRegression(C=.25)\n",
    "final_model.fit(X_baseline, target_train)\n",
    "print (\"Final Accuracy: %s\" % accuracy_score(target_test, final_model.predict(X_test_baseline))) "
   ]
  },
  {
   "cell_type": "code",
   "execution_count": 91,
   "metadata": {},
   "outputs": [
    {
     "name": "stderr",
     "output_type": "stream",
     "text": [
      "c:\\users\\punitha.hs\\appdata\\local\\programs\\python\\python36\\lib\\site-packages\\sklearn\\model_selection\\_split.py:2026: FutureWarning: From version 0.21, test_size will always complement train_size unless both are specified.\n",
      "  FutureWarning)\n"
     ]
    },
    {
     "name": "stdout",
     "output_type": "stream",
     "text": [
      "Accuracy for depth=1.0: 0.61296\n",
      "Accuracy for depth=2.0: 0.64592\n",
      "Accuracy for depth=3.0: 0.66704\n",
      "Accuracy for depth=4.0: 0.66816\n",
      "Accuracy for depth=5.0: 0.68352\n",
      "Accuracy for depth=6.0: 0.69072\n",
      "Accuracy for depth=7.0: 0.69824\n",
      "Accuracy for depth=8.0: 0.69664\n",
      "Accuracy for depth=9.0: 0.7088\n",
      "Accuracy for depth=10.0: 0.70992\n",
      "Accuracy for depth=11.0: 0.71616\n",
      "Accuracy for depth=12.0: 0.72048\n",
      "Accuracy for depth=13.0: 0.72432\n",
      "Accuracy for depth=14.0: 0.72928\n",
      "Accuracy for depth=15.0: 0.73072\n",
      "Accuracy for depth=16.0: 0.73072\n",
      "Accuracy for depth=17.0: 0.73024\n",
      "Accuracy for depth=18.0: 0.7344\n",
      "Accuracy for depth=19.0: 0.73232\n",
      "Accuracy for depth=20.0: 0.73312\n",
      "Accuracy for depth=21.0: 0.7288\n",
      "Accuracy for depth=22.0: 0.73152\n",
      "Accuracy for depth=23.0: 0.7328\n",
      "Accuracy for depth=24.0: 0.73008\n",
      "Accuracy for depth=25.0: 0.72976\n",
      "Accuracy for depth=26.0: 0.72816\n",
      "Accuracy for depth=27.0: 0.72592\n",
      "Accuracy for depth=28.0: 0.73312\n",
      "Accuracy for depth=29.0: 0.72992\n",
      "Accuracy for depth=30.0: 0.7296\n",
      "Accuracy for depth=31.0: 0.7272\n",
      "Accuracy for depth=32.0: 0.7272\n"
     ]
    }
   ],
   "source": [
    "decisiontree(X_baseline, target_train)"
   ]
  },
  {
   "cell_type": "code",
   "execution_count": 92,
   "metadata": {},
   "outputs": [
    {
     "name": "stdout",
     "output_type": "stream",
     "text": [
      "Final Accuracy: 0.73472\n"
     ]
    }
   ],
   "source": [
    "# best performace came at depth = 20\n",
    "dt = DecisionTreeClassifier(max_depth=20)\n",
    "dt.fit(X_baseline, target_train)\n",
    "print (\"Final Accuracy: %s\" % accuracy_score(target_test, dt.predict(X_test_baseline))) "
   ]
  },
  {
   "cell_type": "code",
   "execution_count": 93,
   "metadata": {},
   "outputs": [
    {
     "name": "stderr",
     "output_type": "stream",
     "text": [
      "c:\\users\\punitha.hs\\appdata\\local\\programs\\python\\python36\\lib\\site-packages\\sklearn\\model_selection\\_split.py:2026: FutureWarning: From version 0.21, test_size will always complement train_size unless both are specified.\n",
      "  FutureWarning)\n"
     ]
    },
    {
     "name": "stdout",
     "output_type": "stream",
     "text": [
      "Accuracy for estimator=30: 0.80112\n",
      "Accuracy for estimator=31: 0.80336\n",
      "Accuracy for estimator=32: 0.8056\n",
      "Accuracy for estimator=33: 0.79888\n",
      "Accuracy for estimator=34: 0.80208\n",
      "Accuracy for estimator=35: 0.82064\n",
      "Accuracy for estimator=36: 0.80496\n",
      "Accuracy for estimator=37: 0.81488\n",
      "Accuracy for estimator=38: 0.80256\n",
      "Accuracy for estimator=39: 0.81296\n",
      "Accuracy for estimator=40: 0.81344\n",
      "Accuracy for estimator=41: 0.82048\n",
      "Accuracy for estimator=42: 0.80752\n",
      "Accuracy for estimator=43: 0.81696\n",
      "Accuracy for estimator=44: 0.82016\n",
      "Accuracy for estimator=45: 0.8144\n",
      "Accuracy for estimator=46: 0.81648\n",
      "Accuracy for estimator=47: 0.81536\n",
      "Accuracy for estimator=48: 0.82272\n",
      "Accuracy for estimator=49: 0.82384\n"
     ]
    }
   ],
   "source": [
    "randomforest(X_baseline, target_train)"
   ]
  },
  {
   "cell_type": "code",
   "execution_count": 94,
   "metadata": {},
   "outputs": [
    {
     "name": "stdout",
     "output_type": "stream",
     "text": [
      "Final Accuracy: 0.82652\n"
     ]
    }
   ],
   "source": [
    "# best performance is noticed at estimator 43\n",
    "rf = RandomForestClassifier(n_estimators=43)\n",
    "rf.fit(X_baseline, target_train)\n",
    "print (\"Final Accuracy: %s\" % accuracy_score(target_test, rf.predict(X_test_baseline)))"
   ]
  },
  {
   "cell_type": "code",
   "execution_count": 95,
   "metadata": {},
   "outputs": [
    {
     "name": "stderr",
     "output_type": "stream",
     "text": [
      "c:\\users\\punitha.hs\\appdata\\local\\programs\\python\\python36\\lib\\site-packages\\sklearn\\model_selection\\_split.py:2026: FutureWarning: From version 0.21, test_size will always complement train_size unless both are specified.\n",
      "  FutureWarning)\n"
     ]
    },
    {
     "name": "stdout",
     "output_type": "stream",
     "text": [
      "Accuracy = 0.8512\n"
     ]
    }
   ],
   "source": [
    "naivebayes(X_baseline, target_train)"
   ]
  },
  {
   "cell_type": "code",
   "execution_count": 96,
   "metadata": {},
   "outputs": [
    {
     "name": "stderr",
     "output_type": "stream",
     "text": [
      "c:\\users\\punitha.hs\\appdata\\local\\programs\\python\\python36\\lib\\site-packages\\sklearn\\model_selection\\_split.py:2026: FutureWarning: From version 0.21, test_size will always complement train_size unless both are specified.\n",
      "  FutureWarning)\n"
     ]
    },
    {
     "name": "stdout",
     "output_type": "stream",
     "text": [
      "Accuracy for C=0.01: 0.88528\n",
      "Accuracy for C=0.05: 0.8776\n",
      "Accuracy for C=0.25: 0.87008\n",
      "Accuracy for C=0.5: 0.86672\n",
      "Accuracy for C=1: 0.86384\n"
     ]
    }
   ],
   "source": [
    "supportvector(X_baseline, target_train)"
   ]
  },
  {
   "cell_type": "code",
   "execution_count": 97,
   "metadata": {},
   "outputs": [
    {
     "name": "stdout",
     "output_type": "stream",
     "text": [
      "Final Accuracy: 0.87964\n"
     ]
    }
   ],
   "source": [
    "# best performance is noted at c = .01\n",
    "final_svm = LinearSVC(C=0.01)\n",
    "final_svm.fit(X_baseline, target_train)\n",
    "print (\"Final Accuracy: %s\" % accuracy_score(target_test, final_svm.predict(X_test_baseline)))"
   ]
  },
  {
   "cell_type": "markdown",
   "metadata": {},
   "source": [
    "## Performaing data clean on train and test data "
   ]
  },
  {
   "cell_type": "code",
   "execution_count": 98,
   "metadata": {
    "scrolled": true
   },
   "outputs": [],
   "source": [
    "rindex =  np.array(sample(range(len(imdb_train)), 3000)) \n",
    "# we are taking only 1000 rows randomly exclude this to check with full data\n",
    "imdb_train_small= copy.deepcopy(imdb_train.iloc[rindex])\n",
    "\n",
    "#imdb_train_small= copy.deepcopy(imdb_train) # taking full dataset instead of 1000 rows"
   ]
  },
  {
   "cell_type": "code",
   "execution_count": 99,
   "metadata": {},
   "outputs": [],
   "source": [
    "imdb_train_small.shape\n",
    "target_train = imdb_train_small['Label']"
   ]
  },
  {
   "cell_type": "code",
   "execution_count": 100,
   "metadata": {},
   "outputs": [],
   "source": [
    "review_list_train = []\n",
    "for review in imdb_train_small.Review: #remove 200\n",
    "    review_list_train.append(text_process(review))\n",
    "#review_list_train"
   ]
  },
  {
   "cell_type": "code",
   "execution_count": 101,
   "metadata": {},
   "outputs": [],
   "source": [
    "reviews_train = review_list_train\n",
    "#reviews_train"
   ]
  },
  {
   "cell_type": "code",
   "execution_count": 102,
   "metadata": {},
   "outputs": [],
   "source": [
    "rindex =  np.array(sample(range(len(imdb_test)), 3000)) \n",
    "# we are taking only 1000 rows randomly exclude this to check with full data\n",
    "imdb_test_small= copy.deepcopy(imdb_test.iloc[rindex])\n",
    "#imdb_test_small= copy.deepcopy(imdb_test)\n",
    "target_test = imdb_test_small['Label']"
   ]
  },
  {
   "cell_type": "code",
   "execution_count": 103,
   "metadata": {},
   "outputs": [],
   "source": [
    "review_list_test = []\n",
    "for review in imdb_test_small.Review:  #remove 200\n",
    "    review_list_test.append(text_process(review))\n",
    "#review_list_test"
   ]
  },
  {
   "cell_type": "code",
   "execution_count": 104,
   "metadata": {},
   "outputs": [],
   "source": [
    "reviews_test = review_list_test\n",
    "#reviews_test"
   ]
  },
  {
   "cell_type": "markdown",
   "metadata": {},
   "source": [
    "## making supervised learning models"
   ]
  },
  {
   "cell_type": "code",
   "execution_count": 105,
   "metadata": {},
   "outputs": [],
   "source": [
    "baseline_vectorizer = CountVectorizer(binary=True)\n",
    "baseline_vectorizer.fit(reviews_train)\n",
    "X_baseline = baseline_vectorizer.transform(reviews_train)\n",
    "X_test_baseline = baseline_vectorizer.transform(reviews_test)"
   ]
  },
  {
   "cell_type": "code",
   "execution_count": 106,
   "metadata": {},
   "outputs": [
    {
     "name": "stderr",
     "output_type": "stream",
     "text": [
      "c:\\users\\punitha.hs\\appdata\\local\\programs\\python\\python36\\lib\\site-packages\\sklearn\\model_selection\\_split.py:2026: FutureWarning: From version 0.21, test_size will always complement train_size unless both are specified.\n",
      "  FutureWarning)\n"
     ]
    },
    {
     "name": "stdout",
     "output_type": "stream",
     "text": [
      "Accuracy for C=0.01: 0.8266666666666667\n",
      "Accuracy for C=0.05: 0.8413333333333334\n",
      "Accuracy for C=0.25: 0.828\n",
      "Accuracy for C=0.5: 0.8226666666666667\n",
      "Accuracy for C=1: 0.816\n"
     ]
    }
   ],
   "source": [
    "linearregressor(X_baseline, target_train)"
   ]
  },
  {
   "cell_type": "code",
   "execution_count": 107,
   "metadata": {},
   "outputs": [
    {
     "name": "stdout",
     "output_type": "stream",
     "text": [
      "Final Accuracy: 0.842\n"
     ]
    }
   ],
   "source": [
    "# Best performance came at c = .05\n",
    "final_model = LogisticRegression(C=.05)\n",
    "final_model.fit(X_baseline, target_train)\n",
    "print (\"Final Accuracy: %s\" % accuracy_score(target_test, final_model.predict(X_test_baseline))) "
   ]
  },
  {
   "cell_type": "code",
   "execution_count": 108,
   "metadata": {},
   "outputs": [
    {
     "name": "stdout",
     "output_type": "stream",
     "text": [
      "Accuracy for depth=1.0: 0.624\n",
      "Accuracy for depth=2.0: 0.66\n"
     ]
    },
    {
     "name": "stderr",
     "output_type": "stream",
     "text": [
      "c:\\users\\punitha.hs\\appdata\\local\\programs\\python\\python36\\lib\\site-packages\\sklearn\\model_selection\\_split.py:2026: FutureWarning: From version 0.21, test_size will always complement train_size unless both are specified.\n",
      "  FutureWarning)\n"
     ]
    },
    {
     "name": "stdout",
     "output_type": "stream",
     "text": [
      "Accuracy for depth=3.0: 0.6933333333333334\n",
      "Accuracy for depth=4.0: 0.6906666666666667\n",
      "Accuracy for depth=5.0: 0.7133333333333334\n",
      "Accuracy for depth=6.0: 0.716\n",
      "Accuracy for depth=7.0: 0.6853333333333333\n",
      "Accuracy for depth=8.0: 0.688\n",
      "Accuracy for depth=9.0: 0.6906666666666667\n",
      "Accuracy for depth=10.0: 0.7\n",
      "Accuracy for depth=11.0: 0.6933333333333334\n",
      "Accuracy for depth=12.0: 0.6973333333333334\n",
      "Accuracy for depth=13.0: 0.6986666666666667\n",
      "Accuracy for depth=14.0: 0.7066666666666667\n",
      "Accuracy for depth=15.0: 0.704\n",
      "Accuracy for depth=16.0: 0.704\n",
      "Accuracy for depth=17.0: 0.6973333333333334\n",
      "Accuracy for depth=18.0: 0.6813333333333333\n",
      "Accuracy for depth=19.0: 0.6866666666666666\n",
      "Accuracy for depth=20.0: 0.6933333333333334\n",
      "Accuracy for depth=21.0: 0.6946666666666667\n",
      "Accuracy for depth=22.0: 0.6786666666666666\n",
      "Accuracy for depth=23.0: 0.6986666666666667\n",
      "Accuracy for depth=24.0: 0.696\n",
      "Accuracy for depth=25.0: 0.704\n",
      "Accuracy for depth=26.0: 0.6906666666666667\n",
      "Accuracy for depth=27.0: 0.696\n",
      "Accuracy for depth=28.0: 0.6933333333333334\n",
      "Accuracy for depth=29.0: 0.6893333333333334\n",
      "Accuracy for depth=30.0: 0.696\n",
      "Accuracy for depth=31.0: 0.692\n",
      "Accuracy for depth=32.0: 0.6826666666666666\n"
     ]
    }
   ],
   "source": [
    "decisiontree(X_baseline, target_train)"
   ]
  },
  {
   "cell_type": "code",
   "execution_count": 109,
   "metadata": {},
   "outputs": [
    {
     "name": "stdout",
     "output_type": "stream",
     "text": [
      "Final Accuracy: 0.6896666666666667\n"
     ]
    }
   ],
   "source": [
    "# best performace came at depth = 20\n",
    "dt = DecisionTreeClassifier(max_depth=20)\n",
    "dt.fit(X_baseline, target_train)\n",
    "print (\"Final Accuracy: %s\" % accuracy_score(target_test, dt.predict(X_test_baseline))) "
   ]
  },
  {
   "cell_type": "code",
   "execution_count": 110,
   "metadata": {},
   "outputs": [
    {
     "name": "stderr",
     "output_type": "stream",
     "text": [
      "c:\\users\\punitha.hs\\appdata\\local\\programs\\python\\python36\\lib\\site-packages\\sklearn\\model_selection\\_split.py:2026: FutureWarning: From version 0.21, test_size will always complement train_size unless both are specified.\n",
      "  FutureWarning)\n"
     ]
    },
    {
     "name": "stdout",
     "output_type": "stream",
     "text": [
      "Accuracy for estimator=30: 0.788\n",
      "Accuracy for estimator=31: 0.784\n",
      "Accuracy for estimator=32: 0.7813333333333333\n",
      "Accuracy for estimator=33: 0.772\n",
      "Accuracy for estimator=34: 0.7986666666666666\n",
      "Accuracy for estimator=35: 0.804\n",
      "Accuracy for estimator=36: 0.808\n",
      "Accuracy for estimator=37: 0.8093333333333333\n",
      "Accuracy for estimator=38: 0.788\n",
      "Accuracy for estimator=39: 0.7853333333333333\n",
      "Accuracy for estimator=40: 0.7733333333333333\n",
      "Accuracy for estimator=41: 0.808\n",
      "Accuracy for estimator=42: 0.7786666666666666\n",
      "Accuracy for estimator=43: 0.8066666666666666\n",
      "Accuracy for estimator=44: 0.8053333333333333\n",
      "Accuracy for estimator=45: 0.8186666666666667\n",
      "Accuracy for estimator=46: 0.7786666666666666\n",
      "Accuracy for estimator=47: 0.8186666666666667\n",
      "Accuracy for estimator=48: 0.788\n",
      "Accuracy for estimator=49: 0.7893333333333333\n"
     ]
    }
   ],
   "source": [
    "randomforest(X_baseline, target_train)"
   ]
  },
  {
   "cell_type": "code",
   "execution_count": 111,
   "metadata": {},
   "outputs": [
    {
     "name": "stdout",
     "output_type": "stream",
     "text": [
      "Final Accuracy: 0.8136666666666666\n"
     ]
    }
   ],
   "source": [
    "# best performance is noticed at estimator 48\n",
    "rf = RandomForestClassifier(n_estimators=48)\n",
    "rf.fit(X_baseline, target_train)\n",
    "print (\"Final Accuracy: %s\" % accuracy_score(target_test, rf.predict(X_test_baseline)))"
   ]
  },
  {
   "cell_type": "code",
   "execution_count": 112,
   "metadata": {},
   "outputs": [
    {
     "name": "stdout",
     "output_type": "stream",
     "text": [
      "Accuracy = 0.8426666666666667\n"
     ]
    },
    {
     "name": "stderr",
     "output_type": "stream",
     "text": [
      "c:\\users\\punitha.hs\\appdata\\local\\programs\\python\\python36\\lib\\site-packages\\sklearn\\model_selection\\_split.py:2026: FutureWarning: From version 0.21, test_size will always complement train_size unless both are specified.\n",
      "  FutureWarning)\n"
     ]
    }
   ],
   "source": [
    "naivebayes(X_baseline, target_train)"
   ]
  },
  {
   "cell_type": "code",
   "execution_count": 113,
   "metadata": {},
   "outputs": [
    {
     "name": "stderr",
     "output_type": "stream",
     "text": [
      "c:\\users\\punitha.hs\\appdata\\local\\programs\\python\\python36\\lib\\site-packages\\sklearn\\model_selection\\_split.py:2026: FutureWarning: From version 0.21, test_size will always complement train_size unless both are specified.\n",
      "  FutureWarning)\n"
     ]
    },
    {
     "name": "stdout",
     "output_type": "stream",
     "text": [
      "Accuracy for C=0.01: 0.8346666666666667\n",
      "Accuracy for C=0.05: 0.8306666666666667\n",
      "Accuracy for C=0.25: 0.8066666666666666\n",
      "Accuracy for C=0.5: 0.8\n",
      "Accuracy for C=1: 0.796\n"
     ]
    }
   ],
   "source": [
    "supportvector(X_baseline, target_train)"
   ]
  },
  {
   "cell_type": "code",
   "execution_count": 114,
   "metadata": {},
   "outputs": [
    {
     "name": "stdout",
     "output_type": "stream",
     "text": [
      "Final Accuracy: 0.841\n"
     ]
    }
   ],
   "source": [
    "# best performance is noted at c = .01\n",
    "final_svm = LinearSVC(C=0.01)\n",
    "final_svm.fit(X_baseline, target_train)\n",
    "print (\"Final Accuracy: %s\" % accuracy_score(target_test, final_svm.predict(X_test_baseline)))"
   ]
  },
  {
   "cell_type": "markdown",
   "metadata": {},
   "source": [
    "## using n- grams to check models performance"
   ]
  },
  {
   "cell_type": "code",
   "execution_count": 115,
   "metadata": {
    "scrolled": true
   },
   "outputs": [],
   "source": [
    "rindex =  np.array(sample(range(len(imdb_train)), 3000)) \n",
    "# we are taking only 1000 rows randomly exclude this to check with full data\n",
    "imdb_train_small= copy.deepcopy(imdb_train.iloc[rindex])\n",
    "#imdb_train_small= copy.deepcopy(imdb_train)"
   ]
  },
  {
   "cell_type": "code",
   "execution_count": 116,
   "metadata": {},
   "outputs": [],
   "source": [
    "imdb_train_small.shape\n",
    "target_train = imdb_train_small['Label']"
   ]
  },
  {
   "cell_type": "code",
   "execution_count": 117,
   "metadata": {},
   "outputs": [],
   "source": [
    "review_list_train = []\n",
    "for review in imdb_train_small.Review: #remove 200\n",
    "    review_list_train.append(text_process(review))\n",
    "#review_list_train"
   ]
  },
  {
   "cell_type": "code",
   "execution_count": 118,
   "metadata": {},
   "outputs": [],
   "source": [
    "reviews_train = review_list_train\n",
    "#reviews_train"
   ]
  },
  {
   "cell_type": "code",
   "execution_count": 119,
   "metadata": {},
   "outputs": [],
   "source": [
    "rindex =  np.array(sample(range(len(imdb_test)), 3000)) \n",
    "# we are taking only 1000 rows randomly exclude this to check with full data\n",
    "imdb_test_small= copy.deepcopy(imdb_test.iloc[rindex])\n",
    "#imdb_test_small= copy.deepcopy(imdb_test)\n",
    "target_test = imdb_test_small['Label']"
   ]
  },
  {
   "cell_type": "code",
   "execution_count": 120,
   "metadata": {},
   "outputs": [],
   "source": [
    "review_list_test = []\n",
    "for review in imdb_test_small.Review:  #remove 200\n",
    "    review_list_test.append(text_process(review))\n",
    "#review_list_test"
   ]
  },
  {
   "cell_type": "code",
   "execution_count": 121,
   "metadata": {},
   "outputs": [],
   "source": [
    "reviews_test = review_list_test\n",
    "#reviews_test"
   ]
  },
  {
   "cell_type": "code",
   "execution_count": 122,
   "metadata": {},
   "outputs": [],
   "source": [
    "baseline_vectorizer = CountVectorizer(binary=True,ngram_range=(1, 2))\n",
    "baseline_vectorizer.fit(reviews_train)\n",
    "X_baseline = baseline_vectorizer.transform(reviews_train)\n",
    "X_test_baseline = baseline_vectorizer.transform(reviews_test)"
   ]
  },
  {
   "cell_type": "code",
   "execution_count": 123,
   "metadata": {
    "scrolled": true
   },
   "outputs": [
    {
     "name": "stderr",
     "output_type": "stream",
     "text": [
      "c:\\users\\punitha.hs\\appdata\\local\\programs\\python\\python36\\lib\\site-packages\\sklearn\\model_selection\\_split.py:2026: FutureWarning: From version 0.21, test_size will always complement train_size unless both are specified.\n",
      "  FutureWarning)\n"
     ]
    },
    {
     "name": "stdout",
     "output_type": "stream",
     "text": [
      "Accuracy for C=0.01: 0.8666666666666667\n",
      "Accuracy for C=0.05: 0.8666666666666667\n",
      "Accuracy for C=0.25: 0.8653333333333333\n",
      "Accuracy for C=0.5: 0.864\n",
      "Accuracy for C=1: 0.864\n"
     ]
    }
   ],
   "source": [
    "linearregressor(X_baseline, target_train)"
   ]
  },
  {
   "cell_type": "code",
   "execution_count": 124,
   "metadata": {},
   "outputs": [
    {
     "name": "stdout",
     "output_type": "stream",
     "text": [
      "Final Accuracy: 0.8466666666666667\n"
     ]
    }
   ],
   "source": [
    "# Best performance came at c = 1.0\n",
    "final_model = LogisticRegression(C=1.0)\n",
    "final_model.fit(X_baseline, target_train)\n",
    "print (\"Final Accuracy: %s\" % accuracy_score(target_test, final_model.predict(X_test_baseline))) "
   ]
  },
  {
   "cell_type": "code",
   "execution_count": 125,
   "metadata": {},
   "outputs": [
    {
     "name": "stderr",
     "output_type": "stream",
     "text": [
      "c:\\users\\punitha.hs\\appdata\\local\\programs\\python\\python36\\lib\\site-packages\\sklearn\\model_selection\\_split.py:2026: FutureWarning: From version 0.21, test_size will always complement train_size unless both are specified.\n",
      "  FutureWarning)\n"
     ]
    },
    {
     "name": "stdout",
     "output_type": "stream",
     "text": [
      "Accuracy for depth=1.0: 0.6586666666666666\n",
      "Accuracy for depth=2.0: 0.6853333333333333\n",
      "Accuracy for depth=3.0: 0.7066666666666667\n",
      "Accuracy for depth=4.0: 0.704\n",
      "Accuracy for depth=5.0: 0.7266666666666667\n",
      "Accuracy for depth=6.0: 0.7186666666666667\n",
      "Accuracy for depth=7.0: 0.7293333333333333\n",
      "Accuracy for depth=8.0: 0.7173333333333334\n",
      "Accuracy for depth=9.0: 0.7293333333333333\n",
      "Accuracy for depth=10.0: 0.728\n",
      "Accuracy for depth=11.0: 0.7186666666666667\n",
      "Accuracy for depth=12.0: 0.712\n",
      "Accuracy for depth=13.0: 0.716\n",
      "Accuracy for depth=14.0: 0.7186666666666667\n",
      "Accuracy for depth=15.0: 0.7\n",
      "Accuracy for depth=16.0: 0.7133333333333334\n",
      "Accuracy for depth=17.0: 0.7026666666666667\n",
      "Accuracy for depth=18.0: 0.7093333333333334\n",
      "Accuracy for depth=19.0: 0.7066666666666667\n",
      "Accuracy for depth=20.0: 0.692\n",
      "Accuracy for depth=21.0: 0.692\n",
      "Accuracy for depth=22.0: 0.692\n",
      "Accuracy for depth=23.0: 0.6906666666666667\n",
      "Accuracy for depth=24.0: 0.6933333333333334\n",
      "Accuracy for depth=25.0: 0.6933333333333334\n",
      "Accuracy for depth=26.0: 0.6786666666666666\n",
      "Accuracy for depth=27.0: 0.6733333333333333\n",
      "Accuracy for depth=28.0: 0.7053333333333334\n",
      "Accuracy for depth=29.0: 0.6813333333333333\n",
      "Accuracy for depth=30.0: 0.6866666666666666\n",
      "Accuracy for depth=31.0: 0.68\n",
      "Accuracy for depth=32.0: 0.7013333333333334\n"
     ]
    }
   ],
   "source": [
    "decisiontree(X_baseline, target_train)"
   ]
  },
  {
   "cell_type": "code",
   "execution_count": 126,
   "metadata": {},
   "outputs": [
    {
     "name": "stdout",
     "output_type": "stream",
     "text": [
      "Final Accuracy: 0.697\n"
     ]
    }
   ],
   "source": [
    "# best performace came at depth = 7\n",
    "dt = DecisionTreeClassifier(max_depth=7)\n",
    "dt.fit(X_baseline, target_train)\n",
    "print (\"Final Accuracy: %s\" % accuracy_score(target_test, dt.predict(X_test_baseline))) "
   ]
  },
  {
   "cell_type": "code",
   "execution_count": 127,
   "metadata": {},
   "outputs": [
    {
     "name": "stderr",
     "output_type": "stream",
     "text": [
      "c:\\users\\punitha.hs\\appdata\\local\\programs\\python\\python36\\lib\\site-packages\\sklearn\\model_selection\\_split.py:2026: FutureWarning: From version 0.21, test_size will always complement train_size unless both are specified.\n",
      "  FutureWarning)\n"
     ]
    },
    {
     "name": "stdout",
     "output_type": "stream",
     "text": [
      "Accuracy for estimator=30: 0.7866666666666666\n",
      "Accuracy for estimator=31: 0.7613333333333333\n",
      "Accuracy for estimator=32: 0.8053333333333333\n",
      "Accuracy for estimator=33: 0.7853333333333333\n",
      "Accuracy for estimator=34: 0.7773333333333333\n",
      "Accuracy for estimator=35: 0.7906666666666666\n",
      "Accuracy for estimator=36: 0.7973333333333333\n",
      "Accuracy for estimator=37: 0.7853333333333333\n",
      "Accuracy for estimator=38: 0.7893333333333333\n",
      "Accuracy for estimator=39: 0.7866666666666666\n",
      "Accuracy for estimator=40: 0.8146666666666667\n",
      "Accuracy for estimator=41: 0.776\n",
      "Accuracy for estimator=42: 0.7733333333333333\n",
      "Accuracy for estimator=43: 0.788\n",
      "Accuracy for estimator=44: 0.8106666666666666\n",
      "Accuracy for estimator=45: 0.7746666666666666\n",
      "Accuracy for estimator=46: 0.784\n",
      "Accuracy for estimator=47: 0.8066666666666666\n",
      "Accuracy for estimator=48: 0.808\n",
      "Accuracy for estimator=49: 0.8146666666666667\n"
     ]
    }
   ],
   "source": [
    "randomforest(X_baseline, target_train)"
   ]
  },
  {
   "cell_type": "code",
   "execution_count": 128,
   "metadata": {},
   "outputs": [
    {
     "name": "stdout",
     "output_type": "stream",
     "text": [
      "Final Accuracy: 0.807\n"
     ]
    }
   ],
   "source": [
    "# best performance is noticed at estimator 39\n",
    "rf = RandomForestClassifier(n_estimators=39)\n",
    "rf.fit(X_baseline, target_train)\n",
    "print (\"Final Accuracy: %s\" % accuracy_score(target_test, rf.predict(X_test_baseline)))"
   ]
  },
  {
   "cell_type": "code",
   "execution_count": 129,
   "metadata": {},
   "outputs": [
    {
     "name": "stdout",
     "output_type": "stream",
     "text": [
      "Accuracy = 0.832\n"
     ]
    },
    {
     "name": "stderr",
     "output_type": "stream",
     "text": [
      "c:\\users\\punitha.hs\\appdata\\local\\programs\\python\\python36\\lib\\site-packages\\sklearn\\model_selection\\_split.py:2026: FutureWarning: From version 0.21, test_size will always complement train_size unless both are specified.\n",
      "  FutureWarning)\n"
     ]
    }
   ],
   "source": [
    "naivebayes(X_baseline, target_train)"
   ]
  },
  {
   "cell_type": "code",
   "execution_count": 130,
   "metadata": {},
   "outputs": [
    {
     "name": "stdout",
     "output_type": "stream",
     "text": [
      "Accuracy for C=0.01: 0.8373333333333334"
     ]
    },
    {
     "name": "stderr",
     "output_type": "stream",
     "text": [
      "c:\\users\\punitha.hs\\appdata\\local\\programs\\python\\python36\\lib\\site-packages\\sklearn\\model_selection\\_split.py:2026: FutureWarning: From version 0.21, test_size will always complement train_size unless both are specified.\n",
      "  FutureWarning)\n"
     ]
    },
    {
     "name": "stdout",
     "output_type": "stream",
     "text": [
      "\n",
      "Accuracy for C=0.05: 0.8253333333333334\n",
      "Accuracy for C=0.25: 0.8253333333333334\n",
      "Accuracy for C=0.5: 0.8253333333333334\n",
      "Accuracy for C=1: 0.824\n"
     ]
    }
   ],
   "source": [
    "supportvector(X_baseline, target_train)"
   ]
  },
  {
   "cell_type": "code",
   "execution_count": 131,
   "metadata": {},
   "outputs": [
    {
     "name": "stdout",
     "output_type": "stream",
     "text": [
      "Final Accuracy: 0.8446666666666667\n"
     ]
    }
   ],
   "source": [
    "# best performance is noted at c = .01\n",
    "final_svm = LinearSVC(C=0.05)\n",
    "final_svm.fit(X_baseline, target_train)\n",
    "print (\"Final Accuracy: %s\" % accuracy_score(target_test, final_svm.predict(X_test_baseline)))"
   ]
  },
  {
   "cell_type": "markdown",
   "metadata": {},
   "source": [
    "## rechecking for stop_words = ['in', 'of', 'at', 'a', 'the'] and cleaning it  "
   ]
  },
  {
   "cell_type": "code",
   "execution_count": 132,
   "metadata": {
    "scrolled": true
   },
   "outputs": [],
   "source": [
    "rindex =  np.array(sample(range(len(imdb_train
